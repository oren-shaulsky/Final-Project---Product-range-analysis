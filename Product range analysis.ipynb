{
 "cells": [
  {
   "cell_type": "markdown",
   "metadata": {},
   "source": [
    "# Project description"
   ]
  },
  {
   "cell_type": "markdown",
   "metadata": {},
   "source": [
    "You've been given with dataset of an online store. Your task is to analyze the store's product range. \n",
    "\n",
    "You have to create your own plan of actions (decomposition) and complete the project recording your plan. The project must include:\n",
    "- Analysis of the product range\n",
    "- Formulating and testing statistical hypotheses\n",
    "- Creating dashboard and presentation"
   ]
  },
  {
   "cell_type": "markdown",
   "metadata": {},
   "source": [
    "# Description of the data"
   ]
  },
  {
   "cell_type": "markdown",
   "metadata": {},
   "source": [
    "- **InvoiceNo** - order number\n",
    "- **StockCode** - id of the products\n",
    "- **Description** - description of the product\n",
    "- **Quantity** - number of products with the id in an order\n",
    "- **InvoiceDate** - date of purchase\n",
    "- **UnitPrice** - price of 1 item\n",
    "- **CustomerID** - user id"
   ]
  },
  {
   "cell_type": "markdown",
   "metadata": {},
   "source": [
    "## Table of Contents <a class=\"anchor\" id=\"0-bullet\"></a>\n",
    "\n",
    "[Decomposition](#1-bullet)\n",
    "\n",
    "[Part 1: Data preprocessing](#2-bullet)\n",
    "\n",
    "[Part 2:  Exploratory data analysis](#3-bullet)\n",
    "\n",
    "[Part 3: Testing hypotheses](#4-bullet)\n",
    "\n",
    "[Part 4: Working with business metrics and indicators](#5-bullet)\n",
    "\n",
    "[Part 5: Creating Dashboard](#6-bullet)\n",
    "\n",
    "[Part 6: Preparing Presentation](#7-bullet)\n",
    "\n",
    "[Requirements](#8-bullet)"
   ]
  },
  {
   "cell_type": "markdown",
   "metadata": {},
   "source": [
    "-----------"
   ]
  },
  {
   "cell_type": "markdown",
   "metadata": {},
   "source": [
    "# Decomposition <a class=\"anchor\" id=\"1-bullet\"></a>"
   ]
  },
  {
   "cell_type": "markdown",
   "metadata": {},
   "source": [
    "Let's first take a look on the data:"
   ]
  },
  {
   "cell_type": "code",
   "execution_count": 1,
   "metadata": {},
   "outputs": [
    {
     "data": {
      "text/html": [
       "<div>\n",
       "<style scoped>\n",
       "    .dataframe tbody tr th:only-of-type {\n",
       "        vertical-align: middle;\n",
       "    }\n",
       "\n",
       "    .dataframe tbody tr th {\n",
       "        vertical-align: top;\n",
       "    }\n",
       "\n",
       "    .dataframe thead th {\n",
       "        text-align: right;\n",
       "    }\n",
       "</style>\n",
       "<table border=\"1\" class=\"dataframe\">\n",
       "  <thead>\n",
       "    <tr style=\"text-align: right;\">\n",
       "      <th></th>\n",
       "      <th>InvoiceNo</th>\n",
       "      <th>StockCode</th>\n",
       "      <th>Description</th>\n",
       "      <th>Quantity</th>\n",
       "      <th>InvoiceDate</th>\n",
       "      <th>UnitPrice</th>\n",
       "      <th>CustomerID</th>\n",
       "    </tr>\n",
       "  </thead>\n",
       "  <tbody>\n",
       "    <tr>\n",
       "      <th>0</th>\n",
       "      <td>536365</td>\n",
       "      <td>85123A</td>\n",
       "      <td>WHITE HANGING HEART T-LIGHT HOLDER</td>\n",
       "      <td>6</td>\n",
       "      <td>11/29/2018 08:26</td>\n",
       "      <td>2.55</td>\n",
       "      <td>17850.0</td>\n",
       "    </tr>\n",
       "    <tr>\n",
       "      <th>1</th>\n",
       "      <td>536365</td>\n",
       "      <td>71053</td>\n",
       "      <td>WHITE METAL LANTERN</td>\n",
       "      <td>6</td>\n",
       "      <td>11/29/2018 08:26</td>\n",
       "      <td>3.39</td>\n",
       "      <td>17850.0</td>\n",
       "    </tr>\n",
       "    <tr>\n",
       "      <th>2</th>\n",
       "      <td>536365</td>\n",
       "      <td>84406B</td>\n",
       "      <td>CREAM CUPID HEARTS COAT HANGER</td>\n",
       "      <td>8</td>\n",
       "      <td>11/29/2018 08:26</td>\n",
       "      <td>2.75</td>\n",
       "      <td>17850.0</td>\n",
       "    </tr>\n",
       "    <tr>\n",
       "      <th>3</th>\n",
       "      <td>536365</td>\n",
       "      <td>84029G</td>\n",
       "      <td>KNITTED UNION FLAG HOT WATER BOTTLE</td>\n",
       "      <td>6</td>\n",
       "      <td>11/29/2018 08:26</td>\n",
       "      <td>3.39</td>\n",
       "      <td>17850.0</td>\n",
       "    </tr>\n",
       "    <tr>\n",
       "      <th>4</th>\n",
       "      <td>536365</td>\n",
       "      <td>84029E</td>\n",
       "      <td>RED WOOLLY HOTTIE WHITE HEART.</td>\n",
       "      <td>6</td>\n",
       "      <td>11/29/2018 08:26</td>\n",
       "      <td>3.39</td>\n",
       "      <td>17850.0</td>\n",
       "    </tr>\n",
       "  </tbody>\n",
       "</table>\n",
       "</div>"
      ],
      "text/plain": [
       "  InvoiceNo StockCode                          Description  Quantity  \\\n",
       "0    536365    85123A   WHITE HANGING HEART T-LIGHT HOLDER         6   \n",
       "1    536365     71053                  WHITE METAL LANTERN         6   \n",
       "2    536365    84406B       CREAM CUPID HEARTS COAT HANGER         8   \n",
       "3    536365    84029G  KNITTED UNION FLAG HOT WATER BOTTLE         6   \n",
       "4    536365    84029E       RED WOOLLY HOTTIE WHITE HEART.         6   \n",
       "\n",
       "        InvoiceDate  UnitPrice  CustomerID  \n",
       "0  11/29/2018 08:26       2.55     17850.0  \n",
       "1  11/29/2018 08:26       3.39     17850.0  \n",
       "2  11/29/2018 08:26       2.75     17850.0  \n",
       "3  11/29/2018 08:26       3.39     17850.0  \n",
       "4  11/29/2018 08:26       3.39     17850.0  "
      ]
     },
     "execution_count": 1,
     "metadata": {},
     "output_type": "execute_result"
    }
   ],
   "source": [
    "import pandas as pd\n",
    "\n",
    "try:\n",
    "    data = pd.read_csv('ecommerce_dataset_us.csv', sep = '\\t')\n",
    "except:\n",
    "    data = pd.read_csv('/datasets/ecommerce_dataset_us.csv', sep = '\\t')\n",
    "data.head()"
   ]
  },
  {
   "cell_type": "markdown",
   "metadata": {},
   "source": [
    "According to the data, the project will contain the following stages:"
   ]
  },
  {
   "cell_type": "markdown",
   "metadata": {},
   "source": [
    "## 1) Data preprocessing"
   ]
  },
  {
   "cell_type": "markdown",
   "metadata": {},
   "source": [
    "- Study missing values\n",
    "- Study type correspondence\n",
    "- Study duplicate values\n",
    "- Check the correctness of column names\n",
    "- Rename the columns\n",
    "- Remove duplicates\n",
    "- Convert types\n",
    "- Replace missing values"
   ]
  },
  {
   "cell_type": "markdown",
   "metadata": {},
   "source": [
    "## 2) Exploratory data analysis"
   ]
  },
  {
   "cell_type": "markdown",
   "metadata": {},
   "source": [
    "- Study the time period of the data\n",
    "- Study the qualitative metrics\n",
    "- Study the mean values and standard deviation of quantitive metrics (use the describe() method).\n",
    "- Plot bar histograms and distributions\n",
    "- Define products categories\n",
    "- Define which products are more often sold by themselves, and which ones are more often combined with others: main and additional assortment?\n",
    "- Define what bundles of product groups are often present in shopping carts? For example, the category \"houseplants\" can often be accompanied by \"mineral fertilizers\""
   ]
  },
  {
   "cell_type": "markdown",
   "metadata": {},
   "source": [
    "## 3) Testing hypotheses"
   ]
  },
  {
   "cell_type": "markdown",
   "metadata": {},
   "source": [
    "- The average revenue from products that are more often sold by themselves and ones that are more often combined with others differs.\n",
    "- The average revenue of goods in category “else” is different from the average revenue of goods in other categories."
   ]
  },
  {
   "cell_type": "markdown",
   "metadata": {},
   "source": [
    "## 4) Working with business metrics and indicators"
   ]
  },
  {
   "cell_type": "markdown",
   "metadata": {},
   "source": [
    "- Total revenue of a given period of time\n",
    "- Average revenue per user (ARPPU)\n",
    "- Average Order Value\n",
    "- LTV\n",
    "- Number of orders during a given period of time\n",
    "- Number of daily/weekly/monthly unique buyers (DAU/WAU/MAU)"
   ]
  },
  {
   "cell_type": "markdown",
   "metadata": {},
   "source": [
    "## 5) Creating dashboard"
   ]
  },
  {
   "cell_type": "markdown",
   "metadata": {},
   "source": [
    "1.\tPlot a diagram showing the number of purchases per day\n",
    "2.\tAdd an indicator for the number of customers\n",
    "3.\tAdd a purchase date filter"
   ]
  },
  {
   "cell_type": "markdown",
   "metadata": {},
   "source": [
    "## 6) Preparing presentation"
   ]
  },
  {
   "cell_type": "markdown",
   "metadata": {},
   "source": [
    "Presentation on the basis of business metrics values and graphs from dashboard with the main conclusions"
   ]
  },
  {
   "cell_type": "markdown",
   "metadata": {},
   "source": [
    "[Back to table of contents](#0-bullet)"
   ]
  },
  {
   "cell_type": "markdown",
   "metadata": {},
   "source": [
    "----------"
   ]
  },
  {
   "cell_type": "markdown",
   "metadata": {},
   "source": [
    "# Part 1: Data preprocessing <a class=\"anchor\" id=\"2-bullet\"></a>"
   ]
  },
  {
   "cell_type": "code",
   "execution_count": 2,
   "metadata": {},
   "outputs": [
    {
     "data": {
      "text/html": [
       "<div>\n",
       "<style scoped>\n",
       "    .dataframe tbody tr th:only-of-type {\n",
       "        vertical-align: middle;\n",
       "    }\n",
       "\n",
       "    .dataframe tbody tr th {\n",
       "        vertical-align: top;\n",
       "    }\n",
       "\n",
       "    .dataframe thead th {\n",
       "        text-align: right;\n",
       "    }\n",
       "</style>\n",
       "<table border=\"1\" class=\"dataframe\">\n",
       "  <thead>\n",
       "    <tr style=\"text-align: right;\">\n",
       "      <th></th>\n",
       "      <th>InvoiceNo</th>\n",
       "      <th>StockCode</th>\n",
       "      <th>Description</th>\n",
       "      <th>Quantity</th>\n",
       "      <th>InvoiceDate</th>\n",
       "      <th>UnitPrice</th>\n",
       "      <th>CustomerID</th>\n",
       "    </tr>\n",
       "  </thead>\n",
       "  <tbody>\n",
       "    <tr>\n",
       "      <th>0</th>\n",
       "      <td>536365</td>\n",
       "      <td>85123A</td>\n",
       "      <td>WHITE HANGING HEART T-LIGHT HOLDER</td>\n",
       "      <td>6</td>\n",
       "      <td>11/29/2018 08:26</td>\n",
       "      <td>2.55</td>\n",
       "      <td>17850.0</td>\n",
       "    </tr>\n",
       "    <tr>\n",
       "      <th>1</th>\n",
       "      <td>536365</td>\n",
       "      <td>71053</td>\n",
       "      <td>WHITE METAL LANTERN</td>\n",
       "      <td>6</td>\n",
       "      <td>11/29/2018 08:26</td>\n",
       "      <td>3.39</td>\n",
       "      <td>17850.0</td>\n",
       "    </tr>\n",
       "    <tr>\n",
       "      <th>2</th>\n",
       "      <td>536365</td>\n",
       "      <td>84406B</td>\n",
       "      <td>CREAM CUPID HEARTS COAT HANGER</td>\n",
       "      <td>8</td>\n",
       "      <td>11/29/2018 08:26</td>\n",
       "      <td>2.75</td>\n",
       "      <td>17850.0</td>\n",
       "    </tr>\n",
       "    <tr>\n",
       "      <th>3</th>\n",
       "      <td>536365</td>\n",
       "      <td>84029G</td>\n",
       "      <td>KNITTED UNION FLAG HOT WATER BOTTLE</td>\n",
       "      <td>6</td>\n",
       "      <td>11/29/2018 08:26</td>\n",
       "      <td>3.39</td>\n",
       "      <td>17850.0</td>\n",
       "    </tr>\n",
       "    <tr>\n",
       "      <th>4</th>\n",
       "      <td>536365</td>\n",
       "      <td>84029E</td>\n",
       "      <td>RED WOOLLY HOTTIE WHITE HEART.</td>\n",
       "      <td>6</td>\n",
       "      <td>11/29/2018 08:26</td>\n",
       "      <td>3.39</td>\n",
       "      <td>17850.0</td>\n",
       "    </tr>\n",
       "  </tbody>\n",
       "</table>\n",
       "</div>"
      ],
      "text/plain": [
       "  InvoiceNo StockCode                          Description  Quantity  \\\n",
       "0    536365    85123A   WHITE HANGING HEART T-LIGHT HOLDER         6   \n",
       "1    536365     71053                  WHITE METAL LANTERN         6   \n",
       "2    536365    84406B       CREAM CUPID HEARTS COAT HANGER         8   \n",
       "3    536365    84029G  KNITTED UNION FLAG HOT WATER BOTTLE         6   \n",
       "4    536365    84029E       RED WOOLLY HOTTIE WHITE HEART.         6   \n",
       "\n",
       "        InvoiceDate  UnitPrice  CustomerID  \n",
       "0  11/29/2018 08:26       2.55     17850.0  \n",
       "1  11/29/2018 08:26       3.39     17850.0  \n",
       "2  11/29/2018 08:26       2.75     17850.0  \n",
       "3  11/29/2018 08:26       3.39     17850.0  \n",
       "4  11/29/2018 08:26       3.39     17850.0  "
      ]
     },
     "execution_count": 2,
     "metadata": {},
     "output_type": "execute_result"
    }
   ],
   "source": [
    "import pandas as pd\n",
    "import numpy as np\n",
    "import seaborn as sns\n",
    "from matplotlib import pyplot as plt\n",
    "\n",
    "import sys\n",
    "import warnings\n",
    "if not sys.warnoptions:\n",
    "       warnings.simplefilter(\"ignore\")\n",
    "\n",
    "try:\n",
    "    data = pd.read_csv('ecommerce_dataset_us.csv', sep = '\\t')\n",
    "except:\n",
    "    data = pd.read_csv('/datasets/ecommerce_dataset_us.csv', sep = '\\t')\n",
    "data.head()"
   ]
  },
  {
   "cell_type": "code",
   "execution_count": 3,
   "metadata": {},
   "outputs": [
    {
     "name": "stdout",
     "output_type": "stream",
     "text": [
      "<class 'pandas.core.frame.DataFrame'>\n",
      "RangeIndex: 541909 entries, 0 to 541908\n",
      "Data columns (total 7 columns):\n",
      " #   Column       Non-Null Count   Dtype  \n",
      "---  ------       --------------   -----  \n",
      " 0   InvoiceNo    541909 non-null  object \n",
      " 1   StockCode    541909 non-null  object \n",
      " 2   Description  540455 non-null  object \n",
      " 3   Quantity     541909 non-null  int64  \n",
      " 4   InvoiceDate  541909 non-null  object \n",
      " 5   UnitPrice    541909 non-null  float64\n",
      " 6   CustomerID   406829 non-null  float64\n",
      "dtypes: float64(2), int64(1), object(4)\n",
      "memory usage: 28.9+ MB\n"
     ]
    }
   ],
   "source": [
    "data.info()"
   ]
  },
  {
   "cell_type": "markdown",
   "metadata": {},
   "source": [
    "**Conclusions:**\n",
    "- we need to rename columns' names to make them easier to understand\n",
    "- we have missing data in Description and CustomerID columns\n",
    "- we need to change the data type for InvoiceNo (to integer), InvoiceDate (to datetime) and CustomerID (to integer)"
   ]
  },
  {
   "cell_type": "markdown",
   "metadata": {},
   "source": [
    "First of all let's rename the colums:"
   ]
  },
  {
   "cell_type": "code",
   "execution_count": 4,
   "metadata": {},
   "outputs": [
    {
     "data": {
      "text/html": [
       "<div>\n",
       "<style scoped>\n",
       "    .dataframe tbody tr th:only-of-type {\n",
       "        vertical-align: middle;\n",
       "    }\n",
       "\n",
       "    .dataframe tbody tr th {\n",
       "        vertical-align: top;\n",
       "    }\n",
       "\n",
       "    .dataframe thead th {\n",
       "        text-align: right;\n",
       "    }\n",
       "</style>\n",
       "<table border=\"1\" class=\"dataframe\">\n",
       "  <thead>\n",
       "    <tr style=\"text-align: right;\">\n",
       "      <th></th>\n",
       "      <th>order_id</th>\n",
       "      <th>unit_id</th>\n",
       "      <th>description</th>\n",
       "      <th>amount</th>\n",
       "      <th>order_dt</th>\n",
       "      <th>unit_price</th>\n",
       "      <th>user_id</th>\n",
       "    </tr>\n",
       "  </thead>\n",
       "  <tbody>\n",
       "    <tr>\n",
       "      <th>0</th>\n",
       "      <td>536365</td>\n",
       "      <td>85123A</td>\n",
       "      <td>WHITE HANGING HEART T-LIGHT HOLDER</td>\n",
       "      <td>6</td>\n",
       "      <td>11/29/2018 08:26</td>\n",
       "      <td>2.55</td>\n",
       "      <td>17850.0</td>\n",
       "    </tr>\n",
       "    <tr>\n",
       "      <th>1</th>\n",
       "      <td>536365</td>\n",
       "      <td>71053</td>\n",
       "      <td>WHITE METAL LANTERN</td>\n",
       "      <td>6</td>\n",
       "      <td>11/29/2018 08:26</td>\n",
       "      <td>3.39</td>\n",
       "      <td>17850.0</td>\n",
       "    </tr>\n",
       "    <tr>\n",
       "      <th>2</th>\n",
       "      <td>536365</td>\n",
       "      <td>84406B</td>\n",
       "      <td>CREAM CUPID HEARTS COAT HANGER</td>\n",
       "      <td>8</td>\n",
       "      <td>11/29/2018 08:26</td>\n",
       "      <td>2.75</td>\n",
       "      <td>17850.0</td>\n",
       "    </tr>\n",
       "    <tr>\n",
       "      <th>3</th>\n",
       "      <td>536365</td>\n",
       "      <td>84029G</td>\n",
       "      <td>KNITTED UNION FLAG HOT WATER BOTTLE</td>\n",
       "      <td>6</td>\n",
       "      <td>11/29/2018 08:26</td>\n",
       "      <td>3.39</td>\n",
       "      <td>17850.0</td>\n",
       "    </tr>\n",
       "    <tr>\n",
       "      <th>4</th>\n",
       "      <td>536365</td>\n",
       "      <td>84029E</td>\n",
       "      <td>RED WOOLLY HOTTIE WHITE HEART.</td>\n",
       "      <td>6</td>\n",
       "      <td>11/29/2018 08:26</td>\n",
       "      <td>3.39</td>\n",
       "      <td>17850.0</td>\n",
       "    </tr>\n",
       "  </tbody>\n",
       "</table>\n",
       "</div>"
      ],
      "text/plain": [
       "  order_id unit_id                          description  amount  \\\n",
       "0   536365  85123A   WHITE HANGING HEART T-LIGHT HOLDER       6   \n",
       "1   536365   71053                  WHITE METAL LANTERN       6   \n",
       "2   536365  84406B       CREAM CUPID HEARTS COAT HANGER       8   \n",
       "3   536365  84029G  KNITTED UNION FLAG HOT WATER BOTTLE       6   \n",
       "4   536365  84029E       RED WOOLLY HOTTIE WHITE HEART.       6   \n",
       "\n",
       "           order_dt  unit_price  user_id  \n",
       "0  11/29/2018 08:26        2.55  17850.0  \n",
       "1  11/29/2018 08:26        3.39  17850.0  \n",
       "2  11/29/2018 08:26        2.75  17850.0  \n",
       "3  11/29/2018 08:26        3.39  17850.0  \n",
       "4  11/29/2018 08:26        3.39  17850.0  "
      ]
     },
     "execution_count": 4,
     "metadata": {},
     "output_type": "execute_result"
    }
   ],
   "source": [
    "data.columns = ['order_id','unit_id','description','amount','order_dt', 'unit_price', 'user_id']\n",
    "data.head()"
   ]
  },
  {
   "cell_type": "markdown",
   "metadata": {},
   "source": [
    "Now let's get rid of the missing values:"
   ]
  },
  {
   "cell_type": "code",
   "execution_count": 5,
   "metadata": {},
   "outputs": [
    {
     "data": {
      "text/plain": [
       "order_id            0\n",
       "unit_id             0\n",
       "description      1454\n",
       "amount              0\n",
       "order_dt            0\n",
       "unit_price          0\n",
       "user_id        135080\n",
       "dtype: int64"
      ]
     },
     "execution_count": 5,
     "metadata": {},
     "output_type": "execute_result"
    }
   ],
   "source": [
    "data.isnull().sum()"
   ]
  },
  {
   "cell_type": "markdown",
   "metadata": {},
   "source": [
    "Missing values:\n",
    "- **description** - 1454 - We will restore description with the appropriate stock_codes.\n",
    "- **user_id** - 135080 - we will define that users as \"unidentified\" and calculate the average order for unidentified users to see how it differs from the rest customers since we have no basis to take their ids from."
   ]
  },
  {
   "cell_type": "markdown",
   "metadata": {},
   "source": [
    "Let's start with descriptions since we don't need to change the data type of this column:"
   ]
  },
  {
   "cell_type": "code",
   "execution_count": 6,
   "metadata": {},
   "outputs": [
    {
     "data": {
      "text/plain": [
       "order_id            0\n",
       "unit_id             0\n",
       "description         0\n",
       "amount              0\n",
       "order_dt            0\n",
       "unit_price          0\n",
       "user_id        135080\n",
       "dtype: int64"
      ]
     },
     "execution_count": 6,
     "metadata": {},
     "output_type": "execute_result"
    }
   ],
   "source": [
    "# for each unique unit_id we find the most common description \n",
    "# and fill with it all the descriptions of this unit_id\n",
    "\n",
    "for code in data['unit_id'].unique():\n",
    "    if len(data.query('unit_id in @code')['description'].value_counts()) == 0:\n",
    "        most_common_description = 'no description'\n",
    "    else:\n",
    "        most_common_description = data.query('unit_id in @code')['description'].value_counts().keys()[0]\n",
    "    data['description'][data['unit_id'] == code] = most_common_description\n",
    "\n",
    "data.isnull().sum()\n",
    "\n",
    "#it takes near 7 minutes wating"
   ]
  },
  {
   "cell_type": "code",
   "execution_count": 7,
   "metadata": {},
   "outputs": [
    {
     "data": {
      "text/html": [
       "<div>\n",
       "<style scoped>\n",
       "    .dataframe tbody tr th:only-of-type {\n",
       "        vertical-align: middle;\n",
       "    }\n",
       "\n",
       "    .dataframe tbody tr th {\n",
       "        vertical-align: top;\n",
       "    }\n",
       "\n",
       "    .dataframe thead th {\n",
       "        text-align: right;\n",
       "    }\n",
       "</style>\n",
       "<table border=\"1\" class=\"dataframe\">\n",
       "  <thead>\n",
       "    <tr style=\"text-align: right;\">\n",
       "      <th></th>\n",
       "      <th>order_id</th>\n",
       "      <th>unit_id</th>\n",
       "      <th>description</th>\n",
       "      <th>amount</th>\n",
       "      <th>order_dt</th>\n",
       "      <th>unit_price</th>\n",
       "      <th>user_id</th>\n",
       "    </tr>\n",
       "  </thead>\n",
       "  <tbody>\n",
       "    <tr>\n",
       "      <th>1970</th>\n",
       "      <td>536545</td>\n",
       "      <td>21134</td>\n",
       "      <td>no description</td>\n",
       "      <td>1</td>\n",
       "      <td>11/29/2018 14:32</td>\n",
       "      <td>0.0</td>\n",
       "      <td>NaN</td>\n",
       "    </tr>\n",
       "    <tr>\n",
       "      <th>1987</th>\n",
       "      <td>536549</td>\n",
       "      <td>85226A</td>\n",
       "      <td>no description</td>\n",
       "      <td>1</td>\n",
       "      <td>11/29/2018 14:34</td>\n",
       "      <td>0.0</td>\n",
       "      <td>NaN</td>\n",
       "    </tr>\n",
       "    <tr>\n",
       "      <th>1988</th>\n",
       "      <td>536550</td>\n",
       "      <td>85044</td>\n",
       "      <td>no description</td>\n",
       "      <td>1</td>\n",
       "      <td>11/29/2018 14:34</td>\n",
       "      <td>0.0</td>\n",
       "      <td>NaN</td>\n",
       "    </tr>\n",
       "    <tr>\n",
       "      <th>2024</th>\n",
       "      <td>536552</td>\n",
       "      <td>20950</td>\n",
       "      <td>no description</td>\n",
       "      <td>1</td>\n",
       "      <td>11/29/2018 14:34</td>\n",
       "      <td>0.0</td>\n",
       "      <td>NaN</td>\n",
       "    </tr>\n",
       "    <tr>\n",
       "      <th>2026</th>\n",
       "      <td>536554</td>\n",
       "      <td>84670</td>\n",
       "      <td>no description</td>\n",
       "      <td>23</td>\n",
       "      <td>11/29/2018 14:35</td>\n",
       "      <td>0.0</td>\n",
       "      <td>NaN</td>\n",
       "    </tr>\n",
       "  </tbody>\n",
       "</table>\n",
       "</div>"
      ],
      "text/plain": [
       "     order_id unit_id     description  amount          order_dt  unit_price  \\\n",
       "1970   536545   21134  no description       1  11/29/2018 14:32         0.0   \n",
       "1987   536549  85226A  no description       1  11/29/2018 14:34         0.0   \n",
       "1988   536550   85044  no description       1  11/29/2018 14:34         0.0   \n",
       "2024   536552   20950  no description       1  11/29/2018 14:34         0.0   \n",
       "2026   536554   84670  no description      23  11/29/2018 14:35         0.0   \n",
       "\n",
       "      user_id  \n",
       "1970      NaN  \n",
       "1987      NaN  \n",
       "1988      NaN  \n",
       "2024      NaN  \n",
       "2026      NaN  "
      ]
     },
     "execution_count": 7,
     "metadata": {},
     "output_type": "execute_result"
    }
   ],
   "source": [
    "data.query('description in \"no description\"').head()"
   ]
  },
  {
   "cell_type": "code",
   "execution_count": 8,
   "metadata": {},
   "outputs": [
    {
     "data": {
      "text/plain": [
       "112"
      ]
     },
     "execution_count": 8,
     "metadata": {},
     "output_type": "execute_result"
    }
   ],
   "source": [
    "len(data.query('description in \"no description\"'))"
   ]
  },
  {
   "cell_type": "markdown",
   "metadata": {},
   "source": [
    "There is onlly 112 \"no description\" items here. Let's continue with user_id. Since we will change the data types after that we will do the following actions: \n",
    "\n",
    "1) We will find the user_id that doesn't exist\n",
    "\n",
    "2) Replace NaNs with this value\n",
    "\n",
    "3) Change the data type into integer (and all other data types needed at the same opportunity)\n",
    "\n",
    "4) Replace our \"fake\" user id with 'unidentified':"
   ]
  },
  {
   "cell_type": "code",
   "execution_count": 9,
   "metadata": {},
   "outputs": [
    {
     "data": {
      "text/html": [
       "<div>\n",
       "<style scoped>\n",
       "    .dataframe tbody tr th:only-of-type {\n",
       "        vertical-align: middle;\n",
       "    }\n",
       "\n",
       "    .dataframe tbody tr th {\n",
       "        vertical-align: top;\n",
       "    }\n",
       "\n",
       "    .dataframe thead th {\n",
       "        text-align: right;\n",
       "    }\n",
       "</style>\n",
       "<table border=\"1\" class=\"dataframe\">\n",
       "  <thead>\n",
       "    <tr style=\"text-align: right;\">\n",
       "      <th></th>\n",
       "      <th>order_id</th>\n",
       "      <th>unit_id</th>\n",
       "      <th>description</th>\n",
       "      <th>amount</th>\n",
       "      <th>order_dt</th>\n",
       "      <th>unit_price</th>\n",
       "      <th>user_id</th>\n",
       "    </tr>\n",
       "  </thead>\n",
       "  <tbody>\n",
       "  </tbody>\n",
       "</table>\n",
       "</div>"
      ],
      "text/plain": [
       "Empty DataFrame\n",
       "Columns: [order_id, unit_id, description, amount, order_dt, unit_price, user_id]\n",
       "Index: []"
      ]
     },
     "execution_count": 9,
     "metadata": {},
     "output_type": "execute_result"
    }
   ],
   "source": [
    "# trying fake 112233 user_id\n",
    "data.query('user_id == 112233')"
   ]
  },
  {
   "cell_type": "code",
   "execution_count": 10,
   "metadata": {},
   "outputs": [
    {
     "name": "stdout",
     "output_type": "stream",
     "text": [
      "order_id       0\n",
      "unit_id        0\n",
      "description    0\n",
      "amount         0\n",
      "order_dt       0\n",
      "unit_price     0\n",
      "user_id        0\n",
      "dtype: int64\n",
      "\n"
     ]
    },
    {
     "data": {
      "text/html": [
       "<div>\n",
       "<style scoped>\n",
       "    .dataframe tbody tr th:only-of-type {\n",
       "        vertical-align: middle;\n",
       "    }\n",
       "\n",
       "    .dataframe tbody tr th {\n",
       "        vertical-align: top;\n",
       "    }\n",
       "\n",
       "    .dataframe thead th {\n",
       "        text-align: right;\n",
       "    }\n",
       "</style>\n",
       "<table border=\"1\" class=\"dataframe\">\n",
       "  <thead>\n",
       "    <tr style=\"text-align: right;\">\n",
       "      <th></th>\n",
       "      <th>order_id</th>\n",
       "      <th>unit_id</th>\n",
       "      <th>description</th>\n",
       "      <th>amount</th>\n",
       "      <th>order_dt</th>\n",
       "      <th>unit_price</th>\n",
       "      <th>user_id</th>\n",
       "    </tr>\n",
       "  </thead>\n",
       "  <tbody>\n",
       "    <tr>\n",
       "      <th>622</th>\n",
       "      <td>536414</td>\n",
       "      <td>22139</td>\n",
       "      <td>RETROSPOT TEA SET CERAMIC 11 PC</td>\n",
       "      <td>56</td>\n",
       "      <td>11/29/2018 11:52</td>\n",
       "      <td>0.00</td>\n",
       "      <td>112233.0</td>\n",
       "    </tr>\n",
       "    <tr>\n",
       "      <th>1443</th>\n",
       "      <td>536544</td>\n",
       "      <td>21773</td>\n",
       "      <td>DECORATIVE ROSE BATHROOM BOTTLE</td>\n",
       "      <td>1</td>\n",
       "      <td>11/29/2018 14:32</td>\n",
       "      <td>2.51</td>\n",
       "      <td>112233.0</td>\n",
       "    </tr>\n",
       "    <tr>\n",
       "      <th>1444</th>\n",
       "      <td>536544</td>\n",
       "      <td>21774</td>\n",
       "      <td>DECORATIVE CATS BATHROOM BOTTLE</td>\n",
       "      <td>2</td>\n",
       "      <td>11/29/2018 14:32</td>\n",
       "      <td>2.51</td>\n",
       "      <td>112233.0</td>\n",
       "    </tr>\n",
       "    <tr>\n",
       "      <th>1445</th>\n",
       "      <td>536544</td>\n",
       "      <td>21786</td>\n",
       "      <td>POLKADOT RAIN HAT</td>\n",
       "      <td>4</td>\n",
       "      <td>11/29/2018 14:32</td>\n",
       "      <td>0.85</td>\n",
       "      <td>112233.0</td>\n",
       "    </tr>\n",
       "    <tr>\n",
       "      <th>1446</th>\n",
       "      <td>536544</td>\n",
       "      <td>21787</td>\n",
       "      <td>RAIN PONCHO RETROSPOT</td>\n",
       "      <td>2</td>\n",
       "      <td>11/29/2018 14:32</td>\n",
       "      <td>1.66</td>\n",
       "      <td>112233.0</td>\n",
       "    </tr>\n",
       "  </tbody>\n",
       "</table>\n",
       "</div>"
      ],
      "text/plain": [
       "     order_id unit_id                       description  amount  \\\n",
       "622    536414   22139  RETROSPOT TEA SET CERAMIC 11 PC       56   \n",
       "1443   536544   21773   DECORATIVE ROSE BATHROOM BOTTLE       1   \n",
       "1444   536544   21774   DECORATIVE CATS BATHROOM BOTTLE       2   \n",
       "1445   536544   21786                POLKADOT RAIN HAT        4   \n",
       "1446   536544   21787             RAIN PONCHO RETROSPOT       2   \n",
       "\n",
       "              order_dt  unit_price   user_id  \n",
       "622   11/29/2018 11:52        0.00  112233.0  \n",
       "1443  11/29/2018 14:32        2.51  112233.0  \n",
       "1444  11/29/2018 14:32        2.51  112233.0  \n",
       "1445  11/29/2018 14:32        0.85  112233.0  \n",
       "1446  11/29/2018 14:32        1.66  112233.0  "
      ]
     },
     "execution_count": 10,
     "metadata": {},
     "output_type": "execute_result"
    }
   ],
   "source": [
    "# we didn't get any results which means that it is fine for us\n",
    "# now we replace NaNs with this\n",
    "\n",
    "data['user_id'].fillna(112233, inplace = True)\n",
    "\n",
    "# check\n",
    "print(data.isnull().sum())\n",
    "print()\n",
    "data.query('user_id == 112233').head()"
   ]
  },
  {
   "cell_type": "code",
   "execution_count": 11,
   "metadata": {},
   "outputs": [
    {
     "name": "stdout",
     "output_type": "stream",
     "text": [
      "<class 'pandas.core.frame.DataFrame'>\n",
      "RangeIndex: 541909 entries, 0 to 541908\n",
      "Data columns (total 7 columns):\n",
      " #   Column       Non-Null Count   Dtype         \n",
      "---  ------       --------------   -----         \n",
      " 0   order_id     541909 non-null  object        \n",
      " 1   unit_id      541909 non-null  object        \n",
      " 2   description  541909 non-null  object        \n",
      " 3   amount       541909 non-null  int64         \n",
      " 4   order_dt     541909 non-null  datetime64[ns]\n",
      " 5   unit_price   541909 non-null  float64       \n",
      " 6   user_id      541909 non-null  int32         \n",
      "dtypes: datetime64[ns](1), float64(1), int32(1), int64(1), object(3)\n",
      "memory usage: 26.9+ MB\n",
      "\n"
     ]
    },
    {
     "data": {
      "text/html": [
       "<div>\n",
       "<style scoped>\n",
       "    .dataframe tbody tr th:only-of-type {\n",
       "        vertical-align: middle;\n",
       "    }\n",
       "\n",
       "    .dataframe tbody tr th {\n",
       "        vertical-align: top;\n",
       "    }\n",
       "\n",
       "    .dataframe thead th {\n",
       "        text-align: right;\n",
       "    }\n",
       "</style>\n",
       "<table border=\"1\" class=\"dataframe\">\n",
       "  <thead>\n",
       "    <tr style=\"text-align: right;\">\n",
       "      <th></th>\n",
       "      <th>order_id</th>\n",
       "      <th>unit_id</th>\n",
       "      <th>description</th>\n",
       "      <th>amount</th>\n",
       "      <th>order_dt</th>\n",
       "      <th>unit_price</th>\n",
       "      <th>user_id</th>\n",
       "    </tr>\n",
       "  </thead>\n",
       "  <tbody>\n",
       "    <tr>\n",
       "      <th>622</th>\n",
       "      <td>536414</td>\n",
       "      <td>22139</td>\n",
       "      <td>RETROSPOT TEA SET CERAMIC 11 PC</td>\n",
       "      <td>56</td>\n",
       "      <td>2018-11-29 11:52:00</td>\n",
       "      <td>0.00</td>\n",
       "      <td>112233</td>\n",
       "    </tr>\n",
       "    <tr>\n",
       "      <th>1443</th>\n",
       "      <td>536544</td>\n",
       "      <td>21773</td>\n",
       "      <td>DECORATIVE ROSE BATHROOM BOTTLE</td>\n",
       "      <td>1</td>\n",
       "      <td>2018-11-29 14:32:00</td>\n",
       "      <td>2.51</td>\n",
       "      <td>112233</td>\n",
       "    </tr>\n",
       "    <tr>\n",
       "      <th>1444</th>\n",
       "      <td>536544</td>\n",
       "      <td>21774</td>\n",
       "      <td>DECORATIVE CATS BATHROOM BOTTLE</td>\n",
       "      <td>2</td>\n",
       "      <td>2018-11-29 14:32:00</td>\n",
       "      <td>2.51</td>\n",
       "      <td>112233</td>\n",
       "    </tr>\n",
       "    <tr>\n",
       "      <th>1445</th>\n",
       "      <td>536544</td>\n",
       "      <td>21786</td>\n",
       "      <td>POLKADOT RAIN HAT</td>\n",
       "      <td>4</td>\n",
       "      <td>2018-11-29 14:32:00</td>\n",
       "      <td>0.85</td>\n",
       "      <td>112233</td>\n",
       "    </tr>\n",
       "    <tr>\n",
       "      <th>1446</th>\n",
       "      <td>536544</td>\n",
       "      <td>21787</td>\n",
       "      <td>RAIN PONCHO RETROSPOT</td>\n",
       "      <td>2</td>\n",
       "      <td>2018-11-29 14:32:00</td>\n",
       "      <td>1.66</td>\n",
       "      <td>112233</td>\n",
       "    </tr>\n",
       "  </tbody>\n",
       "</table>\n",
       "</div>"
      ],
      "text/plain": [
       "     order_id unit_id                       description  amount  \\\n",
       "622    536414   22139  RETROSPOT TEA SET CERAMIC 11 PC       56   \n",
       "1443   536544   21773   DECORATIVE ROSE BATHROOM BOTTLE       1   \n",
       "1444   536544   21774   DECORATIVE CATS BATHROOM BOTTLE       2   \n",
       "1445   536544   21786                POLKADOT RAIN HAT        4   \n",
       "1446   536544   21787             RAIN PONCHO RETROSPOT       2   \n",
       "\n",
       "                order_dt  unit_price  user_id  \n",
       "622  2018-11-29 11:52:00        0.00   112233  \n",
       "1443 2018-11-29 14:32:00        2.51   112233  \n",
       "1444 2018-11-29 14:32:00        2.51   112233  \n",
       "1445 2018-11-29 14:32:00        0.85   112233  \n",
       "1446 2018-11-29 14:32:00        1.66   112233  "
      ]
     },
     "execution_count": 11,
     "metadata": {},
     "output_type": "execute_result"
    }
   ],
   "source": [
    "# changing data type\n",
    "\n",
    "data['order_dt'] = pd.to_datetime(data['order_dt'])\n",
    "data['user_id'] = data['user_id'].astype('int')\n",
    "\n",
    "# check\n",
    "data.info()\n",
    "print()\n",
    "data.query('user_id == 112233').head()"
   ]
  },
  {
   "cell_type": "markdown",
   "metadata": {},
   "source": [
    "Two words about the data types that we didn't change (since they have values with letters like 'C536379'):\n",
    "\n",
    "- **unit_id letters** are usually at the beginning, they can mean product size, color or anything that will help to identify the product. \n",
    "- **order_id letters**, letters are added for organizational matters, it doesn't affect our analysis (by the data description of the company)"
   ]
  },
  {
   "cell_type": "code",
   "execution_count": 12,
   "metadata": {},
   "outputs": [
    {
     "name": "stdout",
     "output_type": "stream",
     "text": [
      "Empty DataFrame\n",
      "Columns: [order_id, unit_id, description, amount, order_dt, unit_price, user_id]\n",
      "Index: []\n",
      "\n"
     ]
    },
    {
     "data": {
      "text/html": [
       "<div>\n",
       "<style scoped>\n",
       "    .dataframe tbody tr th:only-of-type {\n",
       "        vertical-align: middle;\n",
       "    }\n",
       "\n",
       "    .dataframe tbody tr th {\n",
       "        vertical-align: top;\n",
       "    }\n",
       "\n",
       "    .dataframe thead th {\n",
       "        text-align: right;\n",
       "    }\n",
       "</style>\n",
       "<table border=\"1\" class=\"dataframe\">\n",
       "  <thead>\n",
       "    <tr style=\"text-align: right;\">\n",
       "      <th></th>\n",
       "      <th>order_id</th>\n",
       "      <th>unit_id</th>\n",
       "      <th>description</th>\n",
       "      <th>amount</th>\n",
       "      <th>order_dt</th>\n",
       "      <th>unit_price</th>\n",
       "      <th>user_id</th>\n",
       "    </tr>\n",
       "  </thead>\n",
       "  <tbody>\n",
       "    <tr>\n",
       "      <th>622</th>\n",
       "      <td>536414</td>\n",
       "      <td>22139</td>\n",
       "      <td>RETROSPOT TEA SET CERAMIC 11 PC</td>\n",
       "      <td>56</td>\n",
       "      <td>2018-11-29 11:52:00</td>\n",
       "      <td>0.00</td>\n",
       "      <td>unidentified</td>\n",
       "    </tr>\n",
       "    <tr>\n",
       "      <th>1443</th>\n",
       "      <td>536544</td>\n",
       "      <td>21773</td>\n",
       "      <td>DECORATIVE ROSE BATHROOM BOTTLE</td>\n",
       "      <td>1</td>\n",
       "      <td>2018-11-29 14:32:00</td>\n",
       "      <td>2.51</td>\n",
       "      <td>unidentified</td>\n",
       "    </tr>\n",
       "    <tr>\n",
       "      <th>1444</th>\n",
       "      <td>536544</td>\n",
       "      <td>21774</td>\n",
       "      <td>DECORATIVE CATS BATHROOM BOTTLE</td>\n",
       "      <td>2</td>\n",
       "      <td>2018-11-29 14:32:00</td>\n",
       "      <td>2.51</td>\n",
       "      <td>unidentified</td>\n",
       "    </tr>\n",
       "    <tr>\n",
       "      <th>1445</th>\n",
       "      <td>536544</td>\n",
       "      <td>21786</td>\n",
       "      <td>POLKADOT RAIN HAT</td>\n",
       "      <td>4</td>\n",
       "      <td>2018-11-29 14:32:00</td>\n",
       "      <td>0.85</td>\n",
       "      <td>unidentified</td>\n",
       "    </tr>\n",
       "    <tr>\n",
       "      <th>1446</th>\n",
       "      <td>536544</td>\n",
       "      <td>21787</td>\n",
       "      <td>RAIN PONCHO RETROSPOT</td>\n",
       "      <td>2</td>\n",
       "      <td>2018-11-29 14:32:00</td>\n",
       "      <td>1.66</td>\n",
       "      <td>unidentified</td>\n",
       "    </tr>\n",
       "  </tbody>\n",
       "</table>\n",
       "</div>"
      ],
      "text/plain": [
       "     order_id unit_id                       description  amount  \\\n",
       "622    536414   22139  RETROSPOT TEA SET CERAMIC 11 PC       56   \n",
       "1443   536544   21773   DECORATIVE ROSE BATHROOM BOTTLE       1   \n",
       "1444   536544   21774   DECORATIVE CATS BATHROOM BOTTLE       2   \n",
       "1445   536544   21786                POLKADOT RAIN HAT        4   \n",
       "1446   536544   21787             RAIN PONCHO RETROSPOT       2   \n",
       "\n",
       "                order_dt  unit_price       user_id  \n",
       "622  2018-11-29 11:52:00        0.00  unidentified  \n",
       "1443 2018-11-29 14:32:00        2.51  unidentified  \n",
       "1444 2018-11-29 14:32:00        2.51  unidentified  \n",
       "1445 2018-11-29 14:32:00        0.85  unidentified  \n",
       "1446 2018-11-29 14:32:00        1.66  unidentified  "
      ]
     },
     "execution_count": 12,
     "metadata": {},
     "output_type": "execute_result"
    }
   ],
   "source": [
    "# replacing our \"fake\" user id with 'unidentified'\n",
    "\n",
    "data['user_id'][data['user_id'] == 112233] = 'unidentified'\n",
    "\n",
    "#check\n",
    "\n",
    "print(data.query('user_id == 112233').head())\n",
    "print()\n",
    "data.query('user_id in \"unidentified\"').head()"
   ]
  },
  {
   "cell_type": "markdown",
   "metadata": {},
   "source": [
    "No more missing values, no more wrong data types. It remains only to check duplicates:"
   ]
  },
  {
   "cell_type": "code",
   "execution_count": 13,
   "metadata": {},
   "outputs": [
    {
     "name": "stdout",
     "output_type": "stream",
     "text": [
      "<class 'pandas.core.frame.DataFrame'>\n",
      "Int64Index: 536639 entries, 0 to 541908\n",
      "Data columns (total 7 columns):\n",
      " #   Column       Non-Null Count   Dtype         \n",
      "---  ------       --------------   -----         \n",
      " 0   order_id     536639 non-null  object        \n",
      " 1   unit_id      536639 non-null  object        \n",
      " 2   description  536639 non-null  object        \n",
      " 3   amount       536639 non-null  int64         \n",
      " 4   order_dt     536639 non-null  datetime64[ns]\n",
      " 5   unit_price   536639 non-null  float64       \n",
      " 6   user_id      536639 non-null  object        \n",
      "dtypes: datetime64[ns](1), float64(1), int64(1), object(4)\n",
      "memory usage: 32.8+ MB\n"
     ]
    }
   ],
   "source": [
    "data = data.drop_duplicates()\n",
    "data.info()"
   ]
  },
  {
   "cell_type": "markdown",
   "metadata": {},
   "source": [
    "We droped 5270 rows of 541909. Less then 1%, it's fine. We can finish preprocessing part here."
   ]
  },
  {
   "cell_type": "markdown",
   "metadata": {},
   "source": [
    "**PART 1 Conclusion:**\n",
    "\n",
    "- We renamed columns' names to make them easier to understand\n",
    "- We replaced missing data in Description (with the most common description according to the stock code) and CustomerID columns (with 'unidentified')\n",
    "- We changed the data type for InvoiceDate (to datetime) and CustomerID (to integer) and explaindes why we didn't do it for InvoiceNo\n",
    "- We erased 5270 rows of duplicated data"
   ]
  },
  {
   "cell_type": "markdown",
   "metadata": {},
   "source": [
    "[Back to table of contents](#0-bullet)"
   ]
  },
  {
   "cell_type": "markdown",
   "metadata": {},
   "source": [
    "-----"
   ]
  },
  {
   "cell_type": "markdown",
   "metadata": {},
   "source": [
    "# Part 2:  Exploratory data analysis <a class=\"anchor\" id=\"3-bullet\"></a>"
   ]
  },
  {
   "cell_type": "markdown",
   "metadata": {},
   "source": [
    "Let's take a look of the time period of the data:"
   ]
  },
  {
   "cell_type": "code",
   "execution_count": 14,
   "metadata": {},
   "outputs": [
    {
     "name": "stdout",
     "output_type": "stream",
     "text": [
      "First data date: 2018-11-29 08:26:00 \n",
      "\n",
      "Last data date: 2019-12-07 12:50:00 \n",
      "\n",
      "Date period: 373 days 04:24:00\n"
     ]
    }
   ],
   "source": [
    "print('First data date:', data['order_dt'].min(), '\\n')\n",
    "print('Last data date:',data['order_dt'].max(), '\\n')\n",
    "print('Date period:',data['order_dt'].max() - data['order_dt'].min())"
   ]
  },
  {
   "cell_type": "markdown",
   "metadata": {},
   "source": [
    "Now we will study the qualitative metrics and the mean values and standard deviation of quantitive metrics:"
   ]
  },
  {
   "cell_type": "code",
   "execution_count": 15,
   "metadata": {},
   "outputs": [
    {
     "name": "stdout",
     "output_type": "stream",
     "text": [
      "Number of unique goods: 3820\n"
     ]
    }
   ],
   "source": [
    "print('Number of unique goods:', data['description'].nunique())"
   ]
  },
  {
   "cell_type": "code",
   "execution_count": 16,
   "metadata": {},
   "outputs": [
    {
     "name": "stdout",
     "output_type": "stream",
     "text": [
      "order_id \n",
      "\n",
      "count     536639\n",
      "unique     25900\n",
      "top       573585\n",
      "freq        1114\n",
      "Name: order_id, dtype: object \n",
      "\n",
      "************\n",
      "unit_id \n",
      "\n",
      "count     536639\n",
      "unique      4070\n",
      "top       85123A\n",
      "freq        2301\n",
      "Name: unit_id, dtype: object \n",
      "\n",
      "************\n",
      "amount \n",
      "\n",
      "count    536639.000000\n",
      "mean          9.619500\n",
      "std         219.130206\n",
      "min      -80995.000000\n",
      "25%           1.000000\n",
      "50%           3.000000\n",
      "75%          10.000000\n",
      "max       80995.000000\n",
      "Name: amount, dtype: float64 \n",
      "\n",
      "************\n",
      "order_dt \n",
      "\n",
      "count                  536639\n",
      "unique                  23260\n",
      "top       2019-10-29 14:41:00\n",
      "freq                     1114\n",
      "first     2018-11-29 08:26:00\n",
      "last      2019-12-07 12:50:00\n",
      "Name: order_dt, dtype: object \n",
      "\n",
      "************\n",
      "unit_price \n",
      "\n",
      "count    536639.000000\n",
      "mean          4.632660\n",
      "std          97.233299\n",
      "min      -11062.060000\n",
      "25%           1.250000\n",
      "50%           2.080000\n",
      "75%           4.130000\n",
      "max       38970.000000\n",
      "Name: unit_price, dtype: float64 \n",
      "\n",
      "************\n",
      "user_id \n",
      "\n",
      "count           536639\n",
      "unique            4373\n",
      "top       unidentified\n",
      "freq            135037\n",
      "Name: user_id, dtype: object \n",
      "\n",
      "************\n"
     ]
    }
   ],
   "source": [
    "for column in data.columns.drop('description'):\n",
    "    print(column, '\\n')\n",
    "    print(data[column].describe(), '\\n')\n",
    "    print('************')"
   ]
  },
  {
   "cell_type": "markdown",
   "metadata": {},
   "source": [
    "Anomalies that catch our eyes: **amount** and **unit_price** columns have 0 and negative values and outliars that are needed to be erased. Let's take more detailed look on it:"
   ]
  },
  {
   "cell_type": "code",
   "execution_count": 17,
   "metadata": {},
   "outputs": [
    {
     "name": "stdout",
     "output_type": "stream",
     "text": [
      "Distribution of values in amount column \n",
      "\n",
      "Number of negative values: 10587 \n",
      "\n",
      "Number of 0-values: 0 \n",
      "\n"
     ]
    },
    {
     "data": {
      "image/png": "[encoded data removed]",
      "text/plain": [
       "<Figure size 432x288 with 1 Axes>"
      ]
     },
     "metadata": {
      "needs_background": "light"
     },
     "output_type": "display_data"
    },
    {
     "name": "stdout",
     "output_type": "stream",
     "text": [
      "************\n",
      "Distribution of values in unit_price column \n",
      "\n",
      "Number of negative values: 2 \n",
      "\n",
      "Number of 0-values: 2510 \n",
      "\n"
     ]
    },
    {
     "data": {
      "image/png": "[encoded data removed]",
      "text/plain": [
       "<Figure size 432x288 with 1 Axes>"
      ]
     },
     "metadata": {
      "needs_background": "light"
     },
     "output_type": "display_data"
    },
    {
     "name": "stdout",
     "output_type": "stream",
     "text": [
      "************\n"
     ]
    }
   ],
   "source": [
    "for column in ['amount', 'unit_price']:\n",
    "    print('Distribution of values in', column, 'column', '\\n')\n",
    "    print('Number of negative values:', len(data[data[column] < 0]), '\\n')\n",
    "    print('Number of 0-values:', len(data[data[column] == 0]), '\\n')\n",
    "    sns.boxplot(data[column])\n",
    "    plt.show()\n",
    "    print('************')"
   ]
  },
  {
   "cell_type": "markdown",
   "metadata": {},
   "source": [
    "**The negative values of amount column** are cancelled orders. We should analyze them separately and make suggestions  what our customer should pay attention to ( most common cancelled items). \n",
    "\n",
    "**The negative values and 0-values of unit_price column** are adjusted bad debt for bookkeeping. We will take a look at the description of the product after defining products categories."
   ]
  },
  {
   "cell_type": "markdown",
   "metadata": {},
   "source": [
    "Our plan for now is to extract the separate words from the descriptions, count them as list of the most popular and on the basis of it create categories:"
   ]
  },
  {
   "cell_type": "code",
   "execution_count": 18,
   "metadata": {},
   "outputs": [
    {
     "name": "stderr",
     "output_type": "stream",
     "text": [
      "[nltk_data] Downloading package wordnet to\n",
      "[nltk_data]     C:\\Users\\shaul\\AppData\\Roaming\\nltk_data...\n",
      "[nltk_data]   Package wordnet is already up-to-date!\n"
     ]
    }
   ],
   "source": [
    "import nltk\n",
    "nltk.download('wordnet')\n",
    "w_tokenizer = nltk.tokenize.WhitespaceTokenizer()\n",
    "lemmatizer = nltk.stem.WordNetLemmatizer()\n",
    "\n",
    "def lemmatize_text(text):\n",
    "    return [lemmatizer.lemmatize(w) for w in w_tokenizer.tokenize(text)]"
   ]
  },
  {
   "cell_type": "code",
   "execution_count": 19,
   "metadata": {},
   "outputs": [
    {
     "data": {
      "text/html": [
       "<div>\n",
       "<style scoped>\n",
       "    .dataframe tbody tr th:only-of-type {\n",
       "        vertical-align: middle;\n",
       "    }\n",
       "\n",
       "    .dataframe tbody tr th {\n",
       "        vertical-align: top;\n",
       "    }\n",
       "\n",
       "    .dataframe thead th {\n",
       "        text-align: right;\n",
       "    }\n",
       "</style>\n",
       "<table border=\"1\" class=\"dataframe\">\n",
       "  <thead>\n",
       "    <tr style=\"text-align: right;\">\n",
       "      <th></th>\n",
       "      <th>order_id</th>\n",
       "      <th>unit_id</th>\n",
       "      <th>description</th>\n",
       "      <th>amount</th>\n",
       "      <th>order_dt</th>\n",
       "      <th>unit_price</th>\n",
       "      <th>user_id</th>\n",
       "      <th>lemmatized</th>\n",
       "    </tr>\n",
       "  </thead>\n",
       "  <tbody>\n",
       "    <tr>\n",
       "      <th>0</th>\n",
       "      <td>536365</td>\n",
       "      <td>85123A</td>\n",
       "      <td>white hanging heart t-light holder</td>\n",
       "      <td>6</td>\n",
       "      <td>2018-11-29 08:26:00</td>\n",
       "      <td>2.55</td>\n",
       "      <td>17850</td>\n",
       "      <td>[white, hanging, heart, t-light, holder]</td>\n",
       "    </tr>\n",
       "    <tr>\n",
       "      <th>1</th>\n",
       "      <td>536365</td>\n",
       "      <td>71053</td>\n",
       "      <td>white metal lantern</td>\n",
       "      <td>6</td>\n",
       "      <td>2018-11-29 08:26:00</td>\n",
       "      <td>3.39</td>\n",
       "      <td>17850</td>\n",
       "      <td>[white, metal, lantern]</td>\n",
       "    </tr>\n",
       "    <tr>\n",
       "      <th>2</th>\n",
       "      <td>536365</td>\n",
       "      <td>84406B</td>\n",
       "      <td>cream cupid hearts coat hanger</td>\n",
       "      <td>8</td>\n",
       "      <td>2018-11-29 08:26:00</td>\n",
       "      <td>2.75</td>\n",
       "      <td>17850</td>\n",
       "      <td>[cream, cupid, heart, coat, hanger]</td>\n",
       "    </tr>\n",
       "    <tr>\n",
       "      <th>3</th>\n",
       "      <td>536365</td>\n",
       "      <td>84029G</td>\n",
       "      <td>knitted union flag hot water bottle</td>\n",
       "      <td>6</td>\n",
       "      <td>2018-11-29 08:26:00</td>\n",
       "      <td>3.39</td>\n",
       "      <td>17850</td>\n",
       "      <td>[knitted, union, flag, hot, water, bottle]</td>\n",
       "    </tr>\n",
       "    <tr>\n",
       "      <th>4</th>\n",
       "      <td>536365</td>\n",
       "      <td>84029E</td>\n",
       "      <td>red woolly hottie white heart.</td>\n",
       "      <td>6</td>\n",
       "      <td>2018-11-29 08:26:00</td>\n",
       "      <td>3.39</td>\n",
       "      <td>17850</td>\n",
       "      <td>[red, woolly, hottie, white, heart.]</td>\n",
       "    </tr>\n",
       "  </tbody>\n",
       "</table>\n",
       "</div>"
      ],
      "text/plain": [
       "  order_id unit_id                          description  amount  \\\n",
       "0   536365  85123A   white hanging heart t-light holder       6   \n",
       "1   536365   71053                  white metal lantern       6   \n",
       "2   536365  84406B       cream cupid hearts coat hanger       8   \n",
       "3   536365  84029G  knitted union flag hot water bottle       6   \n",
       "4   536365  84029E       red woolly hottie white heart.       6   \n",
       "\n",
       "             order_dt  unit_price user_id  \\\n",
       "0 2018-11-29 08:26:00        2.55   17850   \n",
       "1 2018-11-29 08:26:00        3.39   17850   \n",
       "2 2018-11-29 08:26:00        2.75   17850   \n",
       "3 2018-11-29 08:26:00        3.39   17850   \n",
       "4 2018-11-29 08:26:00        3.39   17850   \n",
       "\n",
       "                                   lemmatized  \n",
       "0    [white, hanging, heart, t-light, holder]  \n",
       "1                     [white, metal, lantern]  \n",
       "2         [cream, cupid, heart, coat, hanger]  \n",
       "3  [knitted, union, flag, hot, water, bottle]  \n",
       "4        [red, woolly, hottie, white, heart.]  "
      ]
     },
     "execution_count": 19,
     "metadata": {},
     "output_type": "execute_result"
    }
   ],
   "source": [
    "data['description'] = data['description'].str.lower()\n",
    "data['lemmatized'] = data['description'].apply(lemmatize_text)\n",
    "data.head()"
   ]
  },
  {
   "cell_type": "code",
   "execution_count": 20,
   "metadata": {},
   "outputs": [
    {
     "name": "stdout",
     "output_type": "stream",
     "text": [
      "set 53608\n",
      "of 52875\n",
      "bag 51909\n",
      "heart 43411\n",
      "red 43114\n",
      "retrospot 34905\n",
      "vintage 34812\n",
      "design 30219\n",
      "pink 29875\n",
      "box 27601\n",
      "christmas 24882\n",
      "cake 22640\n",
      "jumbo 21016\n",
      "metal 20721\n",
      "white 20715\n",
      "blue 19555\n",
      "lunch 18295\n",
      "3 17909\n",
      "sign 16932\n",
      "hanging 16886\n",
      "holder 16341\n",
      "tin 16270\n",
      "card 16244\n",
      "pack 15523\n",
      "t-light 14641\n",
      "decoration 14623\n",
      "paper 14251\n",
      "small 13640\n",
      "6 13024\n",
      "wooden 12660\n"
     ]
    }
   ],
   "source": [
    "from collections import Counter\n",
    "frequencies = Counter(word for sentence in data['lemmatized'] for word in sentence)\n",
    "\n",
    "for word, frequency in frequencies.most_common(30):  # get the 30 most frequent words\n",
    "    print(word, frequency)"
   ]
  },
  {
   "cell_type": "markdown",
   "metadata": {},
   "source": [
    "When we visit an online shop there just few categories in there so let's create something like 10-20 categories:"
   ]
  },
  {
   "cell_type": "code",
   "execution_count": 21,
   "metadata": {},
   "outputs": [],
   "source": [
    "#ists of words for each category\n",
    "\n",
    "vintage = ['vintage','antique','victorian','retrospot','traditional','retro','classic']\n",
    "bags = ['bag', 'shopper']\n",
    "design = ['design']\n",
    "box = ['box']\n",
    "christmas = ['christmas']\n",
    "holders = ['holder','case','kit']\n",
    "assorted_goods = ['assorted']\n",
    "decoration = ['decoration','ribbon','wrap','frame','candle','feltcraft','glitter','craft']\n",
    "home = ['home','garden','clock','wall','doormat','lantern','door','cabinet','toilet','mug',\n",
    "        'bathroom','bath','cushion','light','flower','mirror','bedroom','photo']\n",
    "ceramic = ['ceramic']\n",
    "party_and_birthday = ['party', 'birthday']\n",
    "kitchen = ['kitchen','bowl','jar','cup','bottle','pantry','tea','tin','lunch','cake','napkins',\n",
    "           'coffee','apron','jug','bread','cream','picnic','plate','dish']\n",
    "children = ['childrens','girl','heart','card','toy','magic','alphabet']\n",
    "sets = ['set','pack','bundle']\n",
    "chancellery = ['pencil','pen','draw','marker','paint','scissor','notebook','sketchbook','magnet',\n",
    "               'ruler','stencil','chalkboard']\n",
    "signs = ['sign']\n",
    "colored = ['pink','blue','white','red','polkadot','polka','black','green','multicolour']\n",
    "\n",
    "total_categories = {\n",
    "    'vintage': vintage, \n",
    "    'bags' : bags, \n",
    "    'design' : design, \n",
    "    'box' : box, \n",
    "    'christmas' : christmas, \n",
    "    'holders & cases' : holders, \n",
    "    'assorted goods' : assorted_goods, \n",
    "    'decoration' : decoration, \n",
    "    'home & garden' : home, \n",
    "    'ceramic' : ceramic,\n",
    "    'party & birthday' : party_and_birthday,\n",
    "    'kitchen & dishes' : kitchen,\n",
    "    'children' : children,\n",
    "    'sets' : sets,\n",
    "    'chancellery' : chancellery,\n",
    "    'signs' : signs,\n",
    "    'colored goods' : colored\n",
    "}"
   ]
  },
  {
   "cell_type": "code",
   "execution_count": 22,
   "metadata": {},
   "outputs": [],
   "source": [
    "def to_clear_category(lemmas):\n",
    "    for category_list in total_categories:\n",
    "        if len(set(lemmas).intersection(set(total_categories[category_list]))) > 0:\n",
    "            return category_list\n",
    "        else:\n",
    "            continue"
   ]
  },
  {
   "cell_type": "code",
   "execution_count": 23,
   "metadata": {},
   "outputs": [
    {
     "data": {
      "text/html": [
       "<div>\n",
       "<style scoped>\n",
       "    .dataframe tbody tr th:only-of-type {\n",
       "        vertical-align: middle;\n",
       "    }\n",
       "\n",
       "    .dataframe tbody tr th {\n",
       "        vertical-align: top;\n",
       "    }\n",
       "\n",
       "    .dataframe thead th {\n",
       "        text-align: right;\n",
       "    }\n",
       "</style>\n",
       "<table border=\"1\" class=\"dataframe\">\n",
       "  <thead>\n",
       "    <tr style=\"text-align: right;\">\n",
       "      <th></th>\n",
       "      <th>order_id</th>\n",
       "      <th>unit_id</th>\n",
       "      <th>description</th>\n",
       "      <th>amount</th>\n",
       "      <th>order_dt</th>\n",
       "      <th>unit_price</th>\n",
       "      <th>user_id</th>\n",
       "      <th>lemmatized</th>\n",
       "      <th>clear_category</th>\n",
       "    </tr>\n",
       "  </thead>\n",
       "  <tbody>\n",
       "    <tr>\n",
       "      <th>72815</th>\n",
       "      <td>542268</td>\n",
       "      <td>85124B</td>\n",
       "      <td>blue juicy fruit photo frame</td>\n",
       "      <td>6</td>\n",
       "      <td>2019-01-25 08:30:00</td>\n",
       "      <td>2.55</td>\n",
       "      <td>15358</td>\n",
       "      <td>[blue, juicy, fruit, photo, frame]</td>\n",
       "      <td>decoration</td>\n",
       "    </tr>\n",
       "    <tr>\n",
       "      <th>305085</th>\n",
       "      <td>563626</td>\n",
       "      <td>21415</td>\n",
       "      <td>clam shell small</td>\n",
       "      <td>12</td>\n",
       "      <td>2019-08-16 10:31:00</td>\n",
       "      <td>2.10</td>\n",
       "      <td>16187</td>\n",
       "      <td>[clam, shell, small]</td>\n",
       "      <td>None</td>\n",
       "    </tr>\n",
       "    <tr>\n",
       "      <th>106182</th>\n",
       "      <td>545315</td>\n",
       "      <td>21253</td>\n",
       "      <td>set of picture frame  stickers</td>\n",
       "      <td>1</td>\n",
       "      <td>2019-02-27 14:14:00</td>\n",
       "      <td>5.79</td>\n",
       "      <td>unidentified</td>\n",
       "      <td>[set, of, picture, frame, sticker]</td>\n",
       "      <td>decoration</td>\n",
       "    </tr>\n",
       "    <tr>\n",
       "      <th>328239</th>\n",
       "      <td>565766</td>\n",
       "      <td>22222</td>\n",
       "      <td>cake plate lovebird white</td>\n",
       "      <td>1</td>\n",
       "      <td>2019-09-04 14:23:00</td>\n",
       "      <td>4.95</td>\n",
       "      <td>17841</td>\n",
       "      <td>[cake, plate, lovebird, white]</td>\n",
       "      <td>kitchen &amp; dishes</td>\n",
       "    </tr>\n",
       "    <tr>\n",
       "      <th>337678</th>\n",
       "      <td>566451</td>\n",
       "      <td>51014A</td>\n",
       "      <td>feather pen,hot pink</td>\n",
       "      <td>12</td>\n",
       "      <td>2019-09-10 16:14:00</td>\n",
       "      <td>0.39</td>\n",
       "      <td>18069</td>\n",
       "      <td>[feather, pen,hot, pink]</td>\n",
       "      <td>colored goods</td>\n",
       "    </tr>\n",
       "  </tbody>\n",
       "</table>\n",
       "</div>"
      ],
      "text/plain": [
       "       order_id unit_id                     description  amount  \\\n",
       "72815    542268  85124B    blue juicy fruit photo frame       6   \n",
       "305085   563626   21415               clam shell small       12   \n",
       "106182   545315   21253  set of picture frame  stickers       1   \n",
       "328239   565766   22222       cake plate lovebird white       1   \n",
       "337678   566451  51014A            feather pen,hot pink      12   \n",
       "\n",
       "                  order_dt  unit_price       user_id  \\\n",
       "72815  2019-01-25 08:30:00        2.55         15358   \n",
       "305085 2019-08-16 10:31:00        2.10         16187   \n",
       "106182 2019-02-27 14:14:00        5.79  unidentified   \n",
       "328239 2019-09-04 14:23:00        4.95         17841   \n",
       "337678 2019-09-10 16:14:00        0.39         18069   \n",
       "\n",
       "                                lemmatized    clear_category  \n",
       "72815   [blue, juicy, fruit, photo, frame]        decoration  \n",
       "305085                [clam, shell, small]              None  \n",
       "106182  [set, of, picture, frame, sticker]        decoration  \n",
       "328239      [cake, plate, lovebird, white]  kitchen & dishes  \n",
       "337678            [feather, pen,hot, pink]     colored goods  "
      ]
     },
     "execution_count": 23,
     "metadata": {},
     "output_type": "execute_result"
    }
   ],
   "source": [
    "data['clear_category'] = data['lemmatized'].apply(to_clear_category)\n",
    "data.sample(5)"
   ]
  },
  {
   "cell_type": "code",
   "execution_count": 24,
   "metadata": {},
   "outputs": [
    {
     "name": "stdout",
     "output_type": "stream",
     "text": [
      "vintage             87262\n",
      "home & garden       58640\n",
      "kitchen & dishes    56459\n",
      "decoration          40311\n",
      "bags                35967\n",
      "children            34984\n",
      "holders & cases     26959\n",
      "sets                22778\n",
      "colored goods       21789\n",
      "box                 21740\n",
      "design              19680\n",
      "christmas           15995\n",
      "signs               10854\n",
      "chancellery         10724\n",
      "party & birthday     9580\n",
      "assorted goods       6271\n",
      "ceramic              5488\n",
      "Name: clear_category, dtype: int64\n"
     ]
    }
   ],
   "source": [
    "print(data['clear_category'].value_counts())"
   ]
  },
  {
   "cell_type": "code",
   "execution_count": 25,
   "metadata": {},
   "outputs": [
    {
     "data": {
      "text/plain": [
       "order_id              0\n",
       "unit_id               0\n",
       "description           0\n",
       "amount                0\n",
       "order_dt              0\n",
       "unit_price            0\n",
       "user_id               0\n",
       "lemmatized            0\n",
       "clear_category    51158\n",
       "dtype: int64"
      ]
     },
     "execution_count": 25,
     "metadata": {},
     "output_type": "execute_result"
    }
   ],
   "source": [
    "data.isna().sum()"
   ]
  },
  {
   "cell_type": "markdown",
   "metadata": {},
   "source": [
    "The missing values that we see here are caused by descriptions that don't have any intersection with our lists of the most popular words. We will replace them with 'else' creating another one category"
   ]
  },
  {
   "cell_type": "code",
   "execution_count": 26,
   "metadata": {},
   "outputs": [],
   "source": [
    "data['clear_category'] = data['clear_category'].fillna('else')"
   ]
  },
  {
   "cell_type": "code",
   "execution_count": 27,
   "metadata": {},
   "outputs": [
    {
     "data": {
      "text/plain": [
       "order_id          0\n",
       "unit_id           0\n",
       "description       0\n",
       "amount            0\n",
       "order_dt          0\n",
       "unit_price        0\n",
       "user_id           0\n",
       "lemmatized        0\n",
       "clear_category    0\n",
       "dtype: int64"
      ]
     },
     "execution_count": 27,
     "metadata": {},
     "output_type": "execute_result"
    }
   ],
   "source": [
    "data.isna().sum()"
   ]
  },
  {
   "cell_type": "code",
   "execution_count": 28,
   "metadata": {},
   "outputs": [
    {
     "data": {
      "image/png": "[encoded data removed]",
      "text/plain": [
       "<Figure size 432x288 with 1 Axes>"
      ]
     },
     "metadata": {
      "needs_background": "light"
     },
     "output_type": "display_data"
    }
   ],
   "source": [
    "data['clear_category'].value_counts().plot.barh()\n",
    "plt.title('Distribution of categories:')\n",
    "plt.show()"
   ]
  },
  {
   "cell_type": "markdown",
   "metadata": {},
   "source": [
    "\"else\" category takes less then 10% of data which is fine for us. Now we can come back to our negative values:"
   ]
  },
  {
   "cell_type": "code",
   "execution_count": 29,
   "metadata": {},
   "outputs": [],
   "source": [
    "cancelled_orders = data[data['amount'] < 0]\n",
    "\n",
    "adjusted_debts = data[data['unit_price'] <= 0]"
   ]
  },
  {
   "cell_type": "markdown",
   "metadata": {},
   "source": [
    "Let's now take a look at most common canceled categories:"
   ]
  },
  {
   "cell_type": "code",
   "execution_count": 30,
   "metadata": {},
   "outputs": [
    {
     "data": {
      "image/png": "[encoded data removed]",
      "text/plain": [
       "<Figure size 432x288 with 1 Axes>"
      ]
     },
     "metadata": {
      "needs_background": "light"
     },
     "output_type": "display_data"
    }
   ],
   "source": [
    "cancelled_orders['clear_category'].value_counts().plot.barh()\n",
    "plt.title('Most common canceled categories:')\n",
    "plt.show()"
   ]
  },
  {
   "cell_type": "markdown",
   "metadata": {},
   "source": [
    "We can also define users that cancel their orders the most:"
   ]
  },
  {
   "cell_type": "code",
   "execution_count": 31,
   "metadata": {},
   "outputs": [
    {
     "data": {
      "image/png": "[encoded data removed]",
      "text/plain": [
       "<Figure size 432x288 with 1 Axes>"
      ]
     },
     "metadata": {
      "needs_background": "light"
     },
     "output_type": "display_data"
    }
   ],
   "source": [
    "cancelled_orders['user_id'].value_counts().head(10).plot.barh()\n",
    "plt.title('Users that cancel orders the most:')\n",
    "plt.show()"
   ]
  },
  {
   "cell_type": "markdown",
   "metadata": {},
   "source": [
    "Our \"unidentified\" users is our biggest problem. Maybe they created the profile by mistake or forgot to pay? What is for other users - our customers survice can contact them - maybe their lack of satisfaction is not based on the products or web site but the post survice prices for example. We can take them a special discount and decrease ammount of canceled orders."
   ]
  },
  {
   "cell_type": "markdown",
   "metadata": {},
   "source": [
    "Now it's time for adjusted debts:"
   ]
  },
  {
   "cell_type": "code",
   "execution_count": 32,
   "metadata": {},
   "outputs": [
    {
     "data": {
      "text/html": [
       "<div>\n",
       "<style scoped>\n",
       "    .dataframe tbody tr th:only-of-type {\n",
       "        vertical-align: middle;\n",
       "    }\n",
       "\n",
       "    .dataframe tbody tr th {\n",
       "        vertical-align: top;\n",
       "    }\n",
       "\n",
       "    .dataframe thead th {\n",
       "        text-align: right;\n",
       "    }\n",
       "</style>\n",
       "<table border=\"1\" class=\"dataframe\">\n",
       "  <thead>\n",
       "    <tr style=\"text-align: right;\">\n",
       "      <th></th>\n",
       "      <th>order_id</th>\n",
       "      <th>unit_id</th>\n",
       "      <th>description</th>\n",
       "      <th>amount</th>\n",
       "      <th>order_dt</th>\n",
       "      <th>unit_price</th>\n",
       "      <th>user_id</th>\n",
       "      <th>lemmatized</th>\n",
       "      <th>clear_category</th>\n",
       "    </tr>\n",
       "  </thead>\n",
       "  <tbody>\n",
       "    <tr>\n",
       "      <th>622</th>\n",
       "      <td>536414</td>\n",
       "      <td>22139</td>\n",
       "      <td>retrospot tea set ceramic 11 pc</td>\n",
       "      <td>56</td>\n",
       "      <td>2018-11-29 11:52:00</td>\n",
       "      <td>0.0</td>\n",
       "      <td>unidentified</td>\n",
       "      <td>[retrospot, tea, set, ceramic, 11, pc]</td>\n",
       "      <td>vintage</td>\n",
       "    </tr>\n",
       "    <tr>\n",
       "      <th>1970</th>\n",
       "      <td>536545</td>\n",
       "      <td>21134</td>\n",
       "      <td>no description</td>\n",
       "      <td>1</td>\n",
       "      <td>2018-11-29 14:32:00</td>\n",
       "      <td>0.0</td>\n",
       "      <td>unidentified</td>\n",
       "      <td>[no, description]</td>\n",
       "      <td>else</td>\n",
       "    </tr>\n",
       "    <tr>\n",
       "      <th>1971</th>\n",
       "      <td>536546</td>\n",
       "      <td>22145</td>\n",
       "      <td>christmas craft heart stocking</td>\n",
       "      <td>1</td>\n",
       "      <td>2018-11-29 14:33:00</td>\n",
       "      <td>0.0</td>\n",
       "      <td>unidentified</td>\n",
       "      <td>[christmas, craft, heart, stocking]</td>\n",
       "      <td>christmas</td>\n",
       "    </tr>\n",
       "    <tr>\n",
       "      <th>1972</th>\n",
       "      <td>536547</td>\n",
       "      <td>37509</td>\n",
       "      <td>new england mug w gift box</td>\n",
       "      <td>1</td>\n",
       "      <td>2018-11-29 14:33:00</td>\n",
       "      <td>0.0</td>\n",
       "      <td>unidentified</td>\n",
       "      <td>[new, england, mug, w, gift, box]</td>\n",
       "      <td>box</td>\n",
       "    </tr>\n",
       "    <tr>\n",
       "      <th>1987</th>\n",
       "      <td>536549</td>\n",
       "      <td>85226A</td>\n",
       "      <td>no description</td>\n",
       "      <td>1</td>\n",
       "      <td>2018-11-29 14:34:00</td>\n",
       "      <td>0.0</td>\n",
       "      <td>unidentified</td>\n",
       "      <td>[no, description]</td>\n",
       "      <td>else</td>\n",
       "    </tr>\n",
       "  </tbody>\n",
       "</table>\n",
       "</div>"
      ],
      "text/plain": [
       "     order_id unit_id                       description  amount  \\\n",
       "622    536414   22139  retrospot tea set ceramic 11 pc       56   \n",
       "1970   536545   21134                    no description       1   \n",
       "1971   536546   22145   christmas craft heart stocking        1   \n",
       "1972   536547   37509        new england mug w gift box       1   \n",
       "1987   536549  85226A                    no description       1   \n",
       "\n",
       "                order_dt  unit_price       user_id  \\\n",
       "622  2018-11-29 11:52:00         0.0  unidentified   \n",
       "1970 2018-11-29 14:32:00         0.0  unidentified   \n",
       "1971 2018-11-29 14:33:00         0.0  unidentified   \n",
       "1972 2018-11-29 14:33:00         0.0  unidentified   \n",
       "1987 2018-11-29 14:34:00         0.0  unidentified   \n",
       "\n",
       "                                  lemmatized clear_category  \n",
       "622   [retrospot, tea, set, ceramic, 11, pc]        vintage  \n",
       "1970                       [no, description]           else  \n",
       "1971     [christmas, craft, heart, stocking]      christmas  \n",
       "1972       [new, england, mug, w, gift, box]            box  \n",
       "1987                       [no, description]           else  "
      ]
     },
     "execution_count": 32,
     "metadata": {},
     "output_type": "execute_result"
    }
   ],
   "source": [
    "adjusted_debts.head()"
   ]
  },
  {
   "cell_type": "code",
   "execution_count": 33,
   "metadata": {},
   "outputs": [
    {
     "data": {
      "image/png": "[encoded data removed]",
      "text/plain": [
       "<Figure size 432x288 with 1 Axes>"
      ]
     },
     "metadata": {
      "needs_background": "light"
     },
     "output_type": "display_data"
    }
   ],
   "source": [
    "adjusted_debts['clear_category'].value_counts().plot.barh()\n",
    "plt.title('Most common categories in adjusted debts:')\n",
    "plt.show()"
   ]
  },
  {
   "cell_type": "code",
   "execution_count": 34,
   "metadata": {},
   "outputs": [
    {
     "data": {
      "text/plain": [
       "no description                   112\n",
       "rabbit night light                16\n",
       "folkart heart napkin rings        13\n",
       "jumbo bag owls                    11\n",
       "picnic basket wicker large        10\n",
       "french blue metal door sign 1      9\n",
       "paper chain kit empire             9\n",
       "owl doorstop                       8\n",
       "hot baths metal sign               8\n",
       "french blue metal door sign 8      8\n",
       "Name: description, dtype: int64"
      ]
     },
     "execution_count": 34,
     "metadata": {},
     "output_type": "execute_result"
    }
   ],
   "source": [
    "adjusted_debts['description'].value_counts().head(10)"
   ]
  },
  {
   "cell_type": "code",
   "execution_count": 35,
   "metadata": {},
   "outputs": [
    {
     "data": {
      "image/png": "[encoded data removed]",
      "text/plain": [
       "<Figure size 432x288 with 1 Axes>"
      ]
     },
     "metadata": {
      "needs_background": "light"
     },
     "output_type": "display_data"
    }
   ],
   "source": [
    "adjusted_debts['user_id'].value_counts().head(10).plot.barh()\n",
    "plt.title('Users that appear the most in adjusted debts:')\n",
    "plt.show()"
   ]
  },
  {
   "cell_type": "markdown",
   "metadata": {},
   "source": [
    "We see here absolutelly the same picture - categories home & garden, else kitchen & dishes, vintage are our leaders both in most common canceled categories and most common categories in adjusted debts but they are the biggest categories so in terms of percentage it should be fine. Talking about percentage - we see that all 112 \"no description\" goods are in our adjusted debts."
   ]
  },
  {
   "cell_type": "markdown",
   "metadata": {},
   "source": [
    "Unidentified users are still our biggest problem. Let's take a look at them:"
   ]
  },
  {
   "cell_type": "code",
   "execution_count": 36,
   "metadata": {},
   "outputs": [
    {
     "data": {
      "text/html": [
       "<div>\n",
       "<style scoped>\n",
       "    .dataframe tbody tr th:only-of-type {\n",
       "        vertical-align: middle;\n",
       "    }\n",
       "\n",
       "    .dataframe tbody tr th {\n",
       "        vertical-align: top;\n",
       "    }\n",
       "\n",
       "    .dataframe thead th {\n",
       "        text-align: right;\n",
       "    }\n",
       "</style>\n",
       "<table border=\"1\" class=\"dataframe\">\n",
       "  <thead>\n",
       "    <tr style=\"text-align: right;\">\n",
       "      <th></th>\n",
       "      <th>order_id</th>\n",
       "      <th>unit_id</th>\n",
       "      <th>description</th>\n",
       "      <th>amount</th>\n",
       "      <th>order_dt</th>\n",
       "      <th>unit_price</th>\n",
       "      <th>user_id</th>\n",
       "      <th>lemmatized</th>\n",
       "      <th>clear_category</th>\n",
       "    </tr>\n",
       "  </thead>\n",
       "  <tbody>\n",
       "    <tr>\n",
       "      <th>622</th>\n",
       "      <td>536414</td>\n",
       "      <td>22139</td>\n",
       "      <td>retrospot tea set ceramic 11 pc</td>\n",
       "      <td>56</td>\n",
       "      <td>2018-11-29 11:52:00</td>\n",
       "      <td>0.00</td>\n",
       "      <td>unidentified</td>\n",
       "      <td>[retrospot, tea, set, ceramic, 11, pc]</td>\n",
       "      <td>vintage</td>\n",
       "    </tr>\n",
       "    <tr>\n",
       "      <th>1443</th>\n",
       "      <td>536544</td>\n",
       "      <td>21773</td>\n",
       "      <td>decorative rose bathroom bottle</td>\n",
       "      <td>1</td>\n",
       "      <td>2018-11-29 14:32:00</td>\n",
       "      <td>2.51</td>\n",
       "      <td>unidentified</td>\n",
       "      <td>[decorative, rose, bathroom, bottle]</td>\n",
       "      <td>home &amp; garden</td>\n",
       "    </tr>\n",
       "    <tr>\n",
       "      <th>1444</th>\n",
       "      <td>536544</td>\n",
       "      <td>21774</td>\n",
       "      <td>decorative cats bathroom bottle</td>\n",
       "      <td>2</td>\n",
       "      <td>2018-11-29 14:32:00</td>\n",
       "      <td>2.51</td>\n",
       "      <td>unidentified</td>\n",
       "      <td>[decorative, cat, bathroom, bottle]</td>\n",
       "      <td>home &amp; garden</td>\n",
       "    </tr>\n",
       "    <tr>\n",
       "      <th>1445</th>\n",
       "      <td>536544</td>\n",
       "      <td>21786</td>\n",
       "      <td>polkadot rain hat</td>\n",
       "      <td>4</td>\n",
       "      <td>2018-11-29 14:32:00</td>\n",
       "      <td>0.85</td>\n",
       "      <td>unidentified</td>\n",
       "      <td>[polkadot, rain, hat]</td>\n",
       "      <td>colored goods</td>\n",
       "    </tr>\n",
       "    <tr>\n",
       "      <th>1446</th>\n",
       "      <td>536544</td>\n",
       "      <td>21787</td>\n",
       "      <td>rain poncho retrospot</td>\n",
       "      <td>2</td>\n",
       "      <td>2018-11-29 14:32:00</td>\n",
       "      <td>1.66</td>\n",
       "      <td>unidentified</td>\n",
       "      <td>[rain, poncho, retrospot]</td>\n",
       "      <td>vintage</td>\n",
       "    </tr>\n",
       "  </tbody>\n",
       "</table>\n",
       "</div>"
      ],
      "text/plain": [
       "     order_id unit_id                       description  amount  \\\n",
       "622    536414   22139  retrospot tea set ceramic 11 pc       56   \n",
       "1443   536544   21773   decorative rose bathroom bottle       1   \n",
       "1444   536544   21774   decorative cats bathroom bottle       2   \n",
       "1445   536544   21786                polkadot rain hat        4   \n",
       "1446   536544   21787             rain poncho retrospot       2   \n",
       "\n",
       "                order_dt  unit_price       user_id  \\\n",
       "622  2018-11-29 11:52:00        0.00  unidentified   \n",
       "1443 2018-11-29 14:32:00        2.51  unidentified   \n",
       "1444 2018-11-29 14:32:00        2.51  unidentified   \n",
       "1445 2018-11-29 14:32:00        0.85  unidentified   \n",
       "1446 2018-11-29 14:32:00        1.66  unidentified   \n",
       "\n",
       "                                  lemmatized clear_category  \n",
       "622   [retrospot, tea, set, ceramic, 11, pc]        vintage  \n",
       "1443    [decorative, rose, bathroom, bottle]  home & garden  \n",
       "1444     [decorative, cat, bathroom, bottle]  home & garden  \n",
       "1445                   [polkadot, rain, hat]  colored goods  \n",
       "1446               [rain, poncho, retrospot]        vintage  "
      ]
     },
     "execution_count": 36,
     "metadata": {},
     "output_type": "execute_result"
    }
   ],
   "source": [
    "unidentified_users = data.query('user_id in \"unidentified\"')\n",
    "unidentified_users.head()"
   ]
  },
  {
   "cell_type": "code",
   "execution_count": 37,
   "metadata": {},
   "outputs": [
    {
     "name": "stdout",
     "output_type": "stream",
     "text": [
      "<class 'pandas.core.frame.DataFrame'>\n",
      "Int64Index: 135037 entries, 622 to 541540\n",
      "Data columns (total 9 columns):\n",
      " #   Column          Non-Null Count   Dtype         \n",
      "---  ------          --------------   -----         \n",
      " 0   order_id        135037 non-null  object        \n",
      " 1   unit_id         135037 non-null  object        \n",
      " 2   description     135037 non-null  object        \n",
      " 3   amount          135037 non-null  int64         \n",
      " 4   order_dt        135037 non-null  datetime64[ns]\n",
      " 5   unit_price      135037 non-null  float64       \n",
      " 6   user_id         135037 non-null  object        \n",
      " 7   lemmatized      135037 non-null  object        \n",
      " 8   clear_category  135037 non-null  object        \n",
      "dtypes: datetime64[ns](1), float64(1), int64(1), object(6)\n",
      "memory usage: 10.3+ MB\n"
     ]
    }
   ],
   "source": [
    "unidentified_users.info()"
   ]
  },
  {
   "cell_type": "code",
   "execution_count": 38,
   "metadata": {},
   "outputs": [
    {
     "name": "stdout",
     "output_type": "stream",
     "text": [
      "order_id \n",
      "\n",
      "count     135037\n",
      "unique      3710\n",
      "top       573585\n",
      "freq        1114\n",
      "Name: order_id, dtype: object \n",
      "\n",
      "************\n",
      "unit_id \n",
      "\n",
      "count     135037\n",
      "unique      3810\n",
      "top          DOT\n",
      "freq         694\n",
      "Name: unit_id, dtype: object \n",
      "\n",
      "************\n",
      "amount \n",
      "\n",
      "count    135037.000000\n",
      "mean          1.996868\n",
      "std          66.705155\n",
      "min       -9600.000000\n",
      "25%           1.000000\n",
      "50%           1.000000\n",
      "75%           3.000000\n",
      "max        5568.000000\n",
      "Name: amount, dtype: float64 \n",
      "\n",
      "************\n",
      "unit_price \n",
      "\n",
      "count    135037.000000\n",
      "mean          8.078342\n",
      "std         151.924958\n",
      "min      -11062.060000\n",
      "25%           1.630000\n",
      "50%           3.290000\n",
      "75%           5.490000\n",
      "max       17836.460000\n",
      "Name: unit_price, dtype: float64 \n",
      "\n",
      "************\n",
      "clear_category \n",
      "\n",
      "count      135037\n",
      "unique         18\n",
      "top       vintage\n",
      "freq        20061\n",
      "Name: clear_category, dtype: object \n",
      "\n",
      "************\n"
     ]
    }
   ],
   "source": [
    "for column in unidentified_users.columns.drop(['description', 'order_dt', 'user_id', 'lemmatized']):\n",
    "    print(column, '\\n')\n",
    "    print(unidentified_users[column].describe(), '\\n')\n",
    "    print('************')"
   ]
  },
  {
   "cell_type": "markdown",
   "metadata": {},
   "source": [
    "We still have negative values here. Let's buid their distributions:"
   ]
  },
  {
   "cell_type": "code",
   "execution_count": 39,
   "metadata": {},
   "outputs": [
    {
     "name": "stdout",
     "output_type": "stream",
     "text": [
      "Distribution of values in amount column among unidentified users \n",
      "\n",
      "Number of negative values: 1715 \n",
      "\n",
      "Number of 0-values: 0 \n",
      "\n"
     ]
    },
    {
     "data": {
      "image/png": "[encoded data removed]",
      "text/plain": [
       "<Figure size 432x288 with 1 Axes>"
      ]
     },
     "metadata": {
      "needs_background": "light"
     },
     "output_type": "display_data"
    },
    {
     "name": "stdout",
     "output_type": "stream",
     "text": [
      "************\n",
      "Distribution of values in unit_price column among unidentified users \n",
      "\n",
      "Number of negative values: 2 \n",
      "\n",
      "Number of 0-values: 2470 \n",
      "\n"
     ]
    },
    {
     "data": {
      "image/png": "[encoded data removed]",
      "text/plain": [
       "<Figure size 432x288 with 1 Axes>"
      ]
     },
     "metadata": {
      "needs_background": "light"
     },
     "output_type": "display_data"
    },
    {
     "name": "stdout",
     "output_type": "stream",
     "text": [
      "************\n"
     ]
    }
   ],
   "source": [
    "for column in ['amount', 'unit_price']:\n",
    "    print('Distribution of values in', column, 'column among unidentified users', '\\n')\n",
    "    print('Number of negative values:', len(unidentified_users[unidentified_users[column] < 0]), '\\n')\n",
    "    print('Number of 0-values:', len(unidentified_users[unidentified_users[column] == 0]), '\\n')\n",
    "    sns.boxplot(data[column])\n",
    "    plt.show()\n",
    "    print('************')"
   ]
  },
  {
   "cell_type": "markdown",
   "metadata": {},
   "source": [
    "We see that the ammount of negative values in amount column among unidentified users is 1715 which is 16.2% of this ammount among all users (10587) but negative and 0 values of unit_price column among unidentified users is 98% of this ammount among all users (2470 of 2510)"
   ]
  },
  {
   "cell_type": "markdown",
   "metadata": {},
   "source": [
    "There is one more things that catch the eye - we payed attention only to negative values but there are also positive outliars - orders with ammounts more then 10000 and unit price more then 10000. Let's take a look:"
   ]
  },
  {
   "cell_type": "code",
   "execution_count": 40,
   "metadata": {},
   "outputs": [
    {
     "name": "stdout",
     "output_type": "stream",
     "text": [
      "Ammount of outliars in \"unit price\" column: 2 \n",
      "\n"
     ]
    },
    {
     "data": {
      "image/png": "[encoded data removed]",
      "text/plain": [
       "<Figure size 432x288 with 1 Axes>"
      ]
     },
     "metadata": {
      "needs_background": "light"
     },
     "output_type": "display_data"
    }
   ],
   "source": [
    "print('Ammount of outliars in \"unit price\" column:', len(data.query('unit_price > 10000 & amount > 0')), '\\n')\n",
    "data.query('unit_price > 10000 & amount > 0')['clear_category'].value_counts().plot.barh()\n",
    "plt.title('Outliars categories:')\n",
    "plt.show()"
   ]
  },
  {
   "cell_type": "code",
   "execution_count": 41,
   "metadata": {},
   "outputs": [
    {
     "data": {
      "text/html": [
       "<div>\n",
       "<style scoped>\n",
       "    .dataframe tbody tr th:only-of-type {\n",
       "        vertical-align: middle;\n",
       "    }\n",
       "\n",
       "    .dataframe tbody tr th {\n",
       "        vertical-align: top;\n",
       "    }\n",
       "\n",
       "    .dataframe thead th {\n",
       "        text-align: right;\n",
       "    }\n",
       "</style>\n",
       "<table border=\"1\" class=\"dataframe\">\n",
       "  <thead>\n",
       "    <tr style=\"text-align: right;\">\n",
       "      <th></th>\n",
       "      <th>order_id</th>\n",
       "      <th>unit_id</th>\n",
       "      <th>description</th>\n",
       "      <th>amount</th>\n",
       "      <th>order_dt</th>\n",
       "      <th>unit_price</th>\n",
       "      <th>user_id</th>\n",
       "      <th>lemmatized</th>\n",
       "      <th>clear_category</th>\n",
       "    </tr>\n",
       "  </thead>\n",
       "  <tbody>\n",
       "    <tr>\n",
       "      <th>15017</th>\n",
       "      <td>537632</td>\n",
       "      <td>AMAZONFEE</td>\n",
       "      <td>amazon fee</td>\n",
       "      <td>1</td>\n",
       "      <td>2018-12-05 15:08:00</td>\n",
       "      <td>13541.33</td>\n",
       "      <td>unidentified</td>\n",
       "      <td>[amazon, fee]</td>\n",
       "      <td>else</td>\n",
       "    </tr>\n",
       "    <tr>\n",
       "      <th>299982</th>\n",
       "      <td>A563185</td>\n",
       "      <td>B</td>\n",
       "      <td>adjust bad debt</td>\n",
       "      <td>1</td>\n",
       "      <td>2019-08-10 14:50:00</td>\n",
       "      <td>11062.06</td>\n",
       "      <td>unidentified</td>\n",
       "      <td>[adjust, bad, debt]</td>\n",
       "      <td>else</td>\n",
       "    </tr>\n",
       "  </tbody>\n",
       "</table>\n",
       "</div>"
      ],
      "text/plain": [
       "       order_id    unit_id      description  amount            order_dt  \\\n",
       "15017    537632  AMAZONFEE       amazon fee       1 2018-12-05 15:08:00   \n",
       "299982  A563185          B  adjust bad debt       1 2019-08-10 14:50:00   \n",
       "\n",
       "        unit_price       user_id           lemmatized clear_category  \n",
       "15017     13541.33  unidentified        [amazon, fee]           else  \n",
       "299982    11062.06  unidentified  [adjust, bad, debt]           else  "
      ]
     },
     "execution_count": 41,
     "metadata": {},
     "output_type": "execute_result"
    }
   ],
   "source": [
    "data.query('unit_price > 10000 & amount > 0').head()"
   ]
  },
  {
   "cell_type": "code",
   "execution_count": 42,
   "metadata": {},
   "outputs": [
    {
     "name": "stdout",
     "output_type": "stream",
     "text": [
      "Ammount of outliars in \"mount\" column: 2 \n",
      "\n"
     ]
    },
    {
     "data": {
      "image/png": "[encoded data removed]",
      "text/plain": [
       "<Figure size 432x288 with 1 Axes>"
      ]
     },
     "metadata": {
      "needs_background": "light"
     },
     "output_type": "display_data"
    }
   ],
   "source": [
    "print('Ammount of outliars in \"mount\" column:', len(data.query('amount > 10000 & unit_price > 0')), '\\n')\n",
    "data.query('amount > 10000 & unit_price > 0')['clear_category'].value_counts().plot.barh()\n",
    "plt.title('Outliars categories:')\n",
    "plt.show()"
   ]
  },
  {
   "cell_type": "code",
   "execution_count": 43,
   "metadata": {},
   "outputs": [
    {
     "data": {
      "text/html": [
       "<div>\n",
       "<style scoped>\n",
       "    .dataframe tbody tr th:only-of-type {\n",
       "        vertical-align: middle;\n",
       "    }\n",
       "\n",
       "    .dataframe tbody tr th {\n",
       "        vertical-align: top;\n",
       "    }\n",
       "\n",
       "    .dataframe thead th {\n",
       "        text-align: right;\n",
       "    }\n",
       "</style>\n",
       "<table border=\"1\" class=\"dataframe\">\n",
       "  <thead>\n",
       "    <tr style=\"text-align: right;\">\n",
       "      <th></th>\n",
       "      <th>order_id</th>\n",
       "      <th>unit_id</th>\n",
       "      <th>description</th>\n",
       "      <th>amount</th>\n",
       "      <th>order_dt</th>\n",
       "      <th>unit_price</th>\n",
       "      <th>user_id</th>\n",
       "      <th>lemmatized</th>\n",
       "      <th>clear_category</th>\n",
       "    </tr>\n",
       "  </thead>\n",
       "  <tbody>\n",
       "    <tr>\n",
       "      <th>61619</th>\n",
       "      <td>541431</td>\n",
       "      <td>23166</td>\n",
       "      <td>medium ceramic top storage jar</td>\n",
       "      <td>74215</td>\n",
       "      <td>2019-01-16 10:01:00</td>\n",
       "      <td>1.04</td>\n",
       "      <td>12346</td>\n",
       "      <td>[medium, ceramic, top, storage, jar]</td>\n",
       "      <td>ceramic</td>\n",
       "    </tr>\n",
       "    <tr>\n",
       "      <th>540421</th>\n",
       "      <td>581483</td>\n",
       "      <td>23843</td>\n",
       "      <td>paper craft , little birdie</td>\n",
       "      <td>80995</td>\n",
       "      <td>2019-12-07 09:15:00</td>\n",
       "      <td>2.08</td>\n",
       "      <td>16446</td>\n",
       "      <td>[paper, craft, ,, little, birdie]</td>\n",
       "      <td>decoration</td>\n",
       "    </tr>\n",
       "  </tbody>\n",
       "</table>\n",
       "</div>"
      ],
      "text/plain": [
       "       order_id unit_id                     description  amount  \\\n",
       "61619    541431   23166  medium ceramic top storage jar   74215   \n",
       "540421   581483   23843     paper craft , little birdie   80995   \n",
       "\n",
       "                  order_dt  unit_price user_id  \\\n",
       "61619  2019-01-16 10:01:00        1.04   12346   \n",
       "540421 2019-12-07 09:15:00        2.08   16446   \n",
       "\n",
       "                                  lemmatized clear_category  \n",
       "61619   [medium, ceramic, top, storage, jar]        ceramic  \n",
       "540421     [paper, craft, ,, little, birdie]     decoration  "
      ]
     },
     "execution_count": 43,
     "metadata": {},
     "output_type": "execute_result"
    }
   ],
   "source": [
    "data.query('amount > 10000 & unit_price > 0').head()"
   ]
  },
  {
   "cell_type": "markdown",
   "metadata": {},
   "source": [
    "According to the categories, we suppose that these orders were wholesale for a company or another bed debts (decorations and ceramics could be broken). We can erase them since these orders take less then 1% of the whole data and they can affect on our results but since we need to find total revenue for the period in the business metrics part, we will do it here before erasing outliars."
   ]
  },
  {
   "cell_type": "code",
   "execution_count": 44,
   "metadata": {},
   "outputs": [
    {
     "data": {
      "text/html": [
       "<div>\n",
       "<style scoped>\n",
       "    .dataframe tbody tr th:only-of-type {\n",
       "        vertical-align: middle;\n",
       "    }\n",
       "\n",
       "    .dataframe tbody tr th {\n",
       "        vertical-align: top;\n",
       "    }\n",
       "\n",
       "    .dataframe thead th {\n",
       "        text-align: right;\n",
       "    }\n",
       "</style>\n",
       "<table border=\"1\" class=\"dataframe\">\n",
       "  <thead>\n",
       "    <tr style=\"text-align: right;\">\n",
       "      <th></th>\n",
       "      <th>order_id</th>\n",
       "      <th>unit_id</th>\n",
       "      <th>description</th>\n",
       "      <th>amount</th>\n",
       "      <th>order_dt</th>\n",
       "      <th>unit_price</th>\n",
       "      <th>user_id</th>\n",
       "      <th>lemmatized</th>\n",
       "      <th>clear_category</th>\n",
       "      <th>revenue</th>\n",
       "    </tr>\n",
       "  </thead>\n",
       "  <tbody>\n",
       "    <tr>\n",
       "      <th>0</th>\n",
       "      <td>536365</td>\n",
       "      <td>85123A</td>\n",
       "      <td>white hanging heart t-light holder</td>\n",
       "      <td>6</td>\n",
       "      <td>2018-11-29 08:26:00</td>\n",
       "      <td>2.55</td>\n",
       "      <td>17850</td>\n",
       "      <td>[white, hanging, heart, t-light, holder]</td>\n",
       "      <td>holders &amp; cases</td>\n",
       "      <td>15.30</td>\n",
       "    </tr>\n",
       "    <tr>\n",
       "      <th>1</th>\n",
       "      <td>536365</td>\n",
       "      <td>71053</td>\n",
       "      <td>white metal lantern</td>\n",
       "      <td>6</td>\n",
       "      <td>2018-11-29 08:26:00</td>\n",
       "      <td>3.39</td>\n",
       "      <td>17850</td>\n",
       "      <td>[white, metal, lantern]</td>\n",
       "      <td>home &amp; garden</td>\n",
       "      <td>20.34</td>\n",
       "    </tr>\n",
       "    <tr>\n",
       "      <th>2</th>\n",
       "      <td>536365</td>\n",
       "      <td>84406B</td>\n",
       "      <td>cream cupid hearts coat hanger</td>\n",
       "      <td>8</td>\n",
       "      <td>2018-11-29 08:26:00</td>\n",
       "      <td>2.75</td>\n",
       "      <td>17850</td>\n",
       "      <td>[cream, cupid, heart, coat, hanger]</td>\n",
       "      <td>kitchen &amp; dishes</td>\n",
       "      <td>22.00</td>\n",
       "    </tr>\n",
       "    <tr>\n",
       "      <th>3</th>\n",
       "      <td>536365</td>\n",
       "      <td>84029G</td>\n",
       "      <td>knitted union flag hot water bottle</td>\n",
       "      <td>6</td>\n",
       "      <td>2018-11-29 08:26:00</td>\n",
       "      <td>3.39</td>\n",
       "      <td>17850</td>\n",
       "      <td>[knitted, union, flag, hot, water, bottle]</td>\n",
       "      <td>kitchen &amp; dishes</td>\n",
       "      <td>20.34</td>\n",
       "    </tr>\n",
       "    <tr>\n",
       "      <th>4</th>\n",
       "      <td>536365</td>\n",
       "      <td>84029E</td>\n",
       "      <td>red woolly hottie white heart.</td>\n",
       "      <td>6</td>\n",
       "      <td>2018-11-29 08:26:00</td>\n",
       "      <td>3.39</td>\n",
       "      <td>17850</td>\n",
       "      <td>[red, woolly, hottie, white, heart.]</td>\n",
       "      <td>colored goods</td>\n",
       "      <td>20.34</td>\n",
       "    </tr>\n",
       "  </tbody>\n",
       "</table>\n",
       "</div>"
      ],
      "text/plain": [
       "  order_id unit_id                          description  amount  \\\n",
       "0   536365  85123A   white hanging heart t-light holder       6   \n",
       "1   536365   71053                  white metal lantern       6   \n",
       "2   536365  84406B       cream cupid hearts coat hanger       8   \n",
       "3   536365  84029G  knitted union flag hot water bottle       6   \n",
       "4   536365  84029E       red woolly hottie white heart.       6   \n",
       "\n",
       "             order_dt  unit_price user_id  \\\n",
       "0 2018-11-29 08:26:00        2.55   17850   \n",
       "1 2018-11-29 08:26:00        3.39   17850   \n",
       "2 2018-11-29 08:26:00        2.75   17850   \n",
       "3 2018-11-29 08:26:00        3.39   17850   \n",
       "4 2018-11-29 08:26:00        3.39   17850   \n",
       "\n",
       "                                   lemmatized    clear_category  revenue  \n",
       "0    [white, hanging, heart, t-light, holder]   holders & cases    15.30  \n",
       "1                     [white, metal, lantern]     home & garden    20.34  \n",
       "2         [cream, cupid, heart, coat, hanger]  kitchen & dishes    22.00  \n",
       "3  [knitted, union, flag, hot, water, bottle]  kitchen & dishes    20.34  \n",
       "4        [red, woolly, hottie, white, heart.]     colored goods    20.34  "
      ]
     },
     "execution_count": 44,
     "metadata": {},
     "output_type": "execute_result"
    }
   ],
   "source": [
    "data['revenue'] = data['amount'] * data['unit_price']\n",
    "data.head()"
   ]
  },
  {
   "cell_type": "code",
   "execution_count": 45,
   "metadata": {},
   "outputs": [
    {
     "name": "stdout",
     "output_type": "stream",
     "text": [
      "Total revenue: 9725455.104000002\n"
     ]
    }
   ],
   "source": [
    "total_revenue = data['revenue'].sum()\n",
    "print(\"Total revenue:\", total_revenue)"
   ]
  },
  {
   "cell_type": "markdown",
   "metadata": {},
   "source": [
    "Now it's time to define which products are more often sold by themselves, and which ones are more often combined with others - main and additional assortment. Our plan is to find the orders with only 1 item in it and define the most popular categories sold as an only item as main assortment:"
   ]
  },
  {
   "cell_type": "code",
   "execution_count": 46,
   "metadata": {},
   "outputs": [
    {
     "data": {
      "text/html": [
       "<div>\n",
       "<style scoped>\n",
       "    .dataframe tbody tr th:only-of-type {\n",
       "        vertical-align: middle;\n",
       "    }\n",
       "\n",
       "    .dataframe tbody tr th {\n",
       "        vertical-align: top;\n",
       "    }\n",
       "\n",
       "    .dataframe thead th {\n",
       "        text-align: right;\n",
       "    }\n",
       "</style>\n",
       "<table border=\"1\" class=\"dataframe\">\n",
       "  <thead>\n",
       "    <tr style=\"text-align: right;\">\n",
       "      <th></th>\n",
       "      <th>order_id</th>\n",
       "      <th>unit_id</th>\n",
       "      <th>description</th>\n",
       "      <th>amount</th>\n",
       "      <th>order_dt</th>\n",
       "      <th>unit_price</th>\n",
       "      <th>user_id</th>\n",
       "      <th>lemmatized</th>\n",
       "      <th>clear_category</th>\n",
       "      <th>revenue</th>\n",
       "    </tr>\n",
       "  </thead>\n",
       "  <tbody>\n",
       "    <tr>\n",
       "      <th>0</th>\n",
       "      <td>536365</td>\n",
       "      <td>85123A</td>\n",
       "      <td>white hanging heart t-light holder</td>\n",
       "      <td>6</td>\n",
       "      <td>2018-11-29 08:26:00</td>\n",
       "      <td>2.55</td>\n",
       "      <td>17850</td>\n",
       "      <td>[white, hanging, heart, t-light, holder]</td>\n",
       "      <td>holders &amp; cases</td>\n",
       "      <td>15.30</td>\n",
       "    </tr>\n",
       "    <tr>\n",
       "      <th>1</th>\n",
       "      <td>536365</td>\n",
       "      <td>71053</td>\n",
       "      <td>white metal lantern</td>\n",
       "      <td>6</td>\n",
       "      <td>2018-11-29 08:26:00</td>\n",
       "      <td>3.39</td>\n",
       "      <td>17850</td>\n",
       "      <td>[white, metal, lantern]</td>\n",
       "      <td>home &amp; garden</td>\n",
       "      <td>20.34</td>\n",
       "    </tr>\n",
       "    <tr>\n",
       "      <th>2</th>\n",
       "      <td>536365</td>\n",
       "      <td>84406B</td>\n",
       "      <td>cream cupid hearts coat hanger</td>\n",
       "      <td>8</td>\n",
       "      <td>2018-11-29 08:26:00</td>\n",
       "      <td>2.75</td>\n",
       "      <td>17850</td>\n",
       "      <td>[cream, cupid, heart, coat, hanger]</td>\n",
       "      <td>kitchen &amp; dishes</td>\n",
       "      <td>22.00</td>\n",
       "    </tr>\n",
       "    <tr>\n",
       "      <th>3</th>\n",
       "      <td>536365</td>\n",
       "      <td>84029G</td>\n",
       "      <td>knitted union flag hot water bottle</td>\n",
       "      <td>6</td>\n",
       "      <td>2018-11-29 08:26:00</td>\n",
       "      <td>3.39</td>\n",
       "      <td>17850</td>\n",
       "      <td>[knitted, union, flag, hot, water, bottle]</td>\n",
       "      <td>kitchen &amp; dishes</td>\n",
       "      <td>20.34</td>\n",
       "    </tr>\n",
       "    <tr>\n",
       "      <th>4</th>\n",
       "      <td>536365</td>\n",
       "      <td>84029E</td>\n",
       "      <td>red woolly hottie white heart.</td>\n",
       "      <td>6</td>\n",
       "      <td>2018-11-29 08:26:00</td>\n",
       "      <td>3.39</td>\n",
       "      <td>17850</td>\n",
       "      <td>[red, woolly, hottie, white, heart.]</td>\n",
       "      <td>colored goods</td>\n",
       "      <td>20.34</td>\n",
       "    </tr>\n",
       "  </tbody>\n",
       "</table>\n",
       "</div>"
      ],
      "text/plain": [
       "  order_id unit_id                          description  amount  \\\n",
       "0   536365  85123A   white hanging heart t-light holder       6   \n",
       "1   536365   71053                  white metal lantern       6   \n",
       "2   536365  84406B       cream cupid hearts coat hanger       8   \n",
       "3   536365  84029G  knitted union flag hot water bottle       6   \n",
       "4   536365  84029E       red woolly hottie white heart.       6   \n",
       "\n",
       "             order_dt  unit_price user_id  \\\n",
       "0 2018-11-29 08:26:00        2.55   17850   \n",
       "1 2018-11-29 08:26:00        3.39   17850   \n",
       "2 2018-11-29 08:26:00        2.75   17850   \n",
       "3 2018-11-29 08:26:00        3.39   17850   \n",
       "4 2018-11-29 08:26:00        3.39   17850   \n",
       "\n",
       "                                   lemmatized    clear_category  revenue  \n",
       "0    [white, hanging, heart, t-light, holder]   holders & cases    15.30  \n",
       "1                     [white, metal, lantern]     home & garden    20.34  \n",
       "2         [cream, cupid, heart, coat, hanger]  kitchen & dishes    22.00  \n",
       "3  [knitted, union, flag, hot, water, bottle]  kitchen & dishes    20.34  \n",
       "4        [red, woolly, hottie, white, heart.]     colored goods    20.34  "
      ]
     },
     "execution_count": 46,
     "metadata": {},
     "output_type": "execute_result"
    }
   ],
   "source": [
    "#erasing negavive values, 0 values and outliars\n",
    "data = data.query('0 < amount < 10000 & 0 < unit_price < 10000')\n",
    "data.head()"
   ]
  },
  {
   "cell_type": "code",
   "execution_count": 47,
   "metadata": {},
   "outputs": [
    {
     "data": {
      "text/html": [
       "<div>\n",
       "<style scoped>\n",
       "    .dataframe tbody tr th:only-of-type {\n",
       "        vertical-align: middle;\n",
       "    }\n",
       "\n",
       "    .dataframe tbody tr th {\n",
       "        vertical-align: top;\n",
       "    }\n",
       "\n",
       "    .dataframe thead th {\n",
       "        text-align: right;\n",
       "    }\n",
       "</style>\n",
       "<table border=\"1\" class=\"dataframe\">\n",
       "  <thead>\n",
       "    <tr style=\"text-align: right;\">\n",
       "      <th></th>\n",
       "      <th>order_id</th>\n",
       "      <th>unit_id</th>\n",
       "    </tr>\n",
       "  </thead>\n",
       "  <tbody>\n",
       "    <tr>\n",
       "      <th>4</th>\n",
       "      <td>536369</td>\n",
       "      <td>1</td>\n",
       "    </tr>\n",
       "    <tr>\n",
       "      <th>6</th>\n",
       "      <td>536371</td>\n",
       "      <td>1</td>\n",
       "    </tr>\n",
       "    <tr>\n",
       "      <th>9</th>\n",
       "      <td>536374</td>\n",
       "      <td>1</td>\n",
       "    </tr>\n",
       "    <tr>\n",
       "      <th>14</th>\n",
       "      <td>536380</td>\n",
       "      <td>1</td>\n",
       "    </tr>\n",
       "    <tr>\n",
       "      <th>25</th>\n",
       "      <td>536393</td>\n",
       "      <td>1</td>\n",
       "    </tr>\n",
       "  </tbody>\n",
       "</table>\n",
       "</div>"
      ],
      "text/plain": [
       "   order_id  unit_id\n",
       "4    536369        1\n",
       "6    536371        1\n",
       "9    536374        1\n",
       "14   536380        1\n",
       "25   536393        1"
      ]
     },
     "execution_count": 47,
     "metadata": {},
     "output_type": "execute_result"
    }
   ],
   "source": [
    "orders_with_1item = data.groupby(['order_id'])['unit_id'].count().reset_index().query('unit_id < 2')\n",
    "orders_with_1item.head()"
   ]
  },
  {
   "cell_type": "code",
   "execution_count": 48,
   "metadata": {},
   "outputs": [],
   "source": [
    "unique_1item = orders_with_1item['order_id'].unique()"
   ]
  },
  {
   "cell_type": "code",
   "execution_count": 49,
   "metadata": {},
   "outputs": [
    {
     "data": {
      "image/png": "[encoded data removed]",
      "text/plain": [
       "<Figure size 432x288 with 1 Axes>"
      ]
     },
     "metadata": {
      "needs_background": "light"
     },
     "output_type": "display_data"
    }
   ],
   "source": [
    "main_assortment = data.query('order_id in @unique_1item')\n",
    "main_assortment['clear_category'].value_counts().plot.barh()\n",
    "plt.title('Main assortement categories:')\n",
    "plt.show()"
   ]
  },
  {
   "cell_type": "markdown",
   "metadata": {},
   "source": [
    "We would call the most sold \"else\", \"home & garden\", \"kitchen & dishes\" and \"vintage\" categories as main assortment but these categories are the biggest in the whole data. So let's take a look at carts with additional assortment and after that find the percentages:"
   ]
  },
  {
   "cell_type": "code",
   "execution_count": 50,
   "metadata": {},
   "outputs": [
    {
     "data": {
      "image/png": "[encoded data removed]",
      "text/plain": [
       "<Figure size 432x288 with 1 Axes>"
      ]
     },
     "metadata": {
      "needs_background": "light"
     },
     "output_type": "display_data"
    }
   ],
   "source": [
    "carts_with_additional_assortment = data.query('order_id not in @unique_1item')\n",
    "carts_with_additional_assortment['clear_category'].value_counts().plot.barh()\n",
    "plt.title('Categories in carts with additional assortment:')\n",
    "plt.show()"
   ]
  },
  {
   "cell_type": "markdown",
   "metadata": {},
   "source": [
    "These values don't give us the full picture since in we still have main assortment goods in carts_with_additional_assortment. Let's do the following - we will find percentage of the products that were bought in additional_assortment-carts. Then higher the percentage will be, then greater the probability that the category is bought as additional assortment:"
   ]
  },
  {
   "cell_type": "code",
   "execution_count": 51,
   "metadata": {},
   "outputs": [
    {
     "data": {
      "text/html": [
       "<div>\n",
       "<style scoped>\n",
       "    .dataframe tbody tr th:only-of-type {\n",
       "        vertical-align: middle;\n",
       "    }\n",
       "\n",
       "    .dataframe tbody tr th {\n",
       "        vertical-align: top;\n",
       "    }\n",
       "\n",
       "    .dataframe thead th {\n",
       "        text-align: right;\n",
       "    }\n",
       "</style>\n",
       "<table border=\"1\" class=\"dataframe\">\n",
       "  <thead>\n",
       "    <tr style=\"text-align: right;\">\n",
       "      <th></th>\n",
       "      <th>index</th>\n",
       "      <th>clear_category_AA</th>\n",
       "      <th>clear_category_Total</th>\n",
       "      <th>percentage</th>\n",
       "    </tr>\n",
       "  </thead>\n",
       "  <tbody>\n",
       "    <tr>\n",
       "      <th>17</th>\n",
       "      <td>ceramic</td>\n",
       "      <td>5309</td>\n",
       "      <td>5314</td>\n",
       "      <td>0.999059</td>\n",
       "    </tr>\n",
       "    <tr>\n",
       "      <th>4</th>\n",
       "      <td>decoration</td>\n",
       "      <td>39624</td>\n",
       "      <td>39688</td>\n",
       "      <td>0.998387</td>\n",
       "    </tr>\n",
       "    <tr>\n",
       "      <th>9</th>\n",
       "      <td>colored goods</td>\n",
       "      <td>21228</td>\n",
       "      <td>21263</td>\n",
       "      <td>0.998354</td>\n",
       "    </tr>\n",
       "    <tr>\n",
       "      <th>6</th>\n",
       "      <td>children</td>\n",
       "      <td>34473</td>\n",
       "      <td>34536</td>\n",
       "      <td>0.998176</td>\n",
       "    </tr>\n",
       "    <tr>\n",
       "      <th>5</th>\n",
       "      <td>bags</td>\n",
       "      <td>35381</td>\n",
       "      <td>35451</td>\n",
       "      <td>0.998025</td>\n",
       "    </tr>\n",
       "    <tr>\n",
       "      <th>10</th>\n",
       "      <td>box</td>\n",
       "      <td>21149</td>\n",
       "      <td>21194</td>\n",
       "      <td>0.997877</td>\n",
       "    </tr>\n",
       "    <tr>\n",
       "      <th>8</th>\n",
       "      <td>sets</td>\n",
       "      <td>22432</td>\n",
       "      <td>22482</td>\n",
       "      <td>0.997776</td>\n",
       "    </tr>\n",
       "    <tr>\n",
       "      <th>12</th>\n",
       "      <td>christmas</td>\n",
       "      <td>15650</td>\n",
       "      <td>15685</td>\n",
       "      <td>0.997769</td>\n",
       "    </tr>\n",
       "    <tr>\n",
       "      <th>11</th>\n",
       "      <td>design</td>\n",
       "      <td>19189</td>\n",
       "      <td>19238</td>\n",
       "      <td>0.997453</td>\n",
       "    </tr>\n",
       "    <tr>\n",
       "      <th>2</th>\n",
       "      <td>kitchen &amp; dishes</td>\n",
       "      <td>54846</td>\n",
       "      <td>54992</td>\n",
       "      <td>0.997345</td>\n",
       "    </tr>\n",
       "    <tr>\n",
       "      <th>13</th>\n",
       "      <td>signs</td>\n",
       "      <td>10719</td>\n",
       "      <td>10748</td>\n",
       "      <td>0.997302</td>\n",
       "    </tr>\n",
       "    <tr>\n",
       "      <th>15</th>\n",
       "      <td>party &amp; birthday</td>\n",
       "      <td>9478</td>\n",
       "      <td>9504</td>\n",
       "      <td>0.997264</td>\n",
       "    </tr>\n",
       "    <tr>\n",
       "      <th>14</th>\n",
       "      <td>chancellery</td>\n",
       "      <td>10530</td>\n",
       "      <td>10559</td>\n",
       "      <td>0.997254</td>\n",
       "    </tr>\n",
       "    <tr>\n",
       "      <th>0</th>\n",
       "      <td>vintage</td>\n",
       "      <td>85141</td>\n",
       "      <td>85412</td>\n",
       "      <td>0.996827</td>\n",
       "    </tr>\n",
       "    <tr>\n",
       "      <th>16</th>\n",
       "      <td>assorted goods</td>\n",
       "      <td>6130</td>\n",
       "      <td>6152</td>\n",
       "      <td>0.996424</td>\n",
       "    </tr>\n",
       "    <tr>\n",
       "      <th>1</th>\n",
       "      <td>home &amp; garden</td>\n",
       "      <td>56864</td>\n",
       "      <td>57076</td>\n",
       "      <td>0.996286</td>\n",
       "    </tr>\n",
       "    <tr>\n",
       "      <th>7</th>\n",
       "      <td>holders &amp; cases</td>\n",
       "      <td>26245</td>\n",
       "      <td>26355</td>\n",
       "      <td>0.995826</td>\n",
       "    </tr>\n",
       "    <tr>\n",
       "      <th>3</th>\n",
       "      <td>else</td>\n",
       "      <td>48860</td>\n",
       "      <td>49223</td>\n",
       "      <td>0.992625</td>\n",
       "    </tr>\n",
       "  </tbody>\n",
       "</table>\n",
       "</div>"
      ],
      "text/plain": [
       "               index  clear_category_AA  clear_category_Total  percentage\n",
       "17           ceramic               5309                  5314    0.999059\n",
       "4         decoration              39624                 39688    0.998387\n",
       "9      colored goods              21228                 21263    0.998354\n",
       "6           children              34473                 34536    0.998176\n",
       "5               bags              35381                 35451    0.998025\n",
       "10               box              21149                 21194    0.997877\n",
       "8               sets              22432                 22482    0.997776\n",
       "12         christmas              15650                 15685    0.997769\n",
       "11            design              19189                 19238    0.997453\n",
       "2   kitchen & dishes              54846                 54992    0.997345\n",
       "13             signs              10719                 10748    0.997302\n",
       "15  party & birthday               9478                  9504    0.997264\n",
       "14       chancellery              10530                 10559    0.997254\n",
       "0            vintage              85141                 85412    0.996827\n",
       "16    assorted goods               6130                  6152    0.996424\n",
       "1      home & garden              56864                 57076    0.996286\n",
       "7    holders & cases              26245                 26355    0.995826\n",
       "3               else              48860                 49223    0.992625"
      ]
     },
     "execution_count": 51,
     "metadata": {},
     "output_type": "execute_result"
    }
   ],
   "source": [
    "AA = carts_with_additional_assortment['clear_category'].value_counts().reset_index()\n",
    "Total = data.query('amount > 0 & unit_price > 0')['clear_category'].value_counts().reset_index()\n",
    "\n",
    "additional_assortment = AA.merge(Total, on = 'index', suffixes=('_AA', '_Total'))\n",
    "additional_assortment['percentage'] = additional_assortment['clear_category_AA'] / additional_assortment['clear_category_Total']\n",
    "additional_assortment.sort_values(by = 'percentage', ascending = False)"
   ]
  },
  {
   "cell_type": "markdown",
   "metadata": {},
   "source": [
    "The percentage results should be the closest to reality so **the main assortment** is in \"else\", \"holders & cases\", \"home & garden\", \"assorted goods\" and \"vintage\" categories while the **additional_assortment** is in \"ceramic\", \"decoration\", \"colored goods\", \"children & toys\" and \"bags\" categories."
   ]
  },
  {
   "cell_type": "markdown",
   "metadata": {},
   "source": [
    "It is time to define what are the budles of the products - which products are mostly bought together. Our plan here is to build correlation matrix on the basis of categories' presence in the shopping cards:"
   ]
  },
  {
   "cell_type": "code",
   "execution_count": 52,
   "metadata": {},
   "outputs": [
    {
     "data": {
      "text/html": [
       "<div>\n",
       "<style scoped>\n",
       "    .dataframe tbody tr th:only-of-type {\n",
       "        vertical-align: middle;\n",
       "    }\n",
       "\n",
       "    .dataframe tbody tr th {\n",
       "        vertical-align: top;\n",
       "    }\n",
       "\n",
       "    .dataframe thead th {\n",
       "        text-align: right;\n",
       "    }\n",
       "</style>\n",
       "<table border=\"1\" class=\"dataframe\">\n",
       "  <thead>\n",
       "    <tr style=\"text-align: right;\">\n",
       "      <th>clear_category</th>\n",
       "      <th>order_id</th>\n",
       "      <th>assorted goods</th>\n",
       "      <th>bags</th>\n",
       "      <th>box</th>\n",
       "      <th>ceramic</th>\n",
       "      <th>chancellery</th>\n",
       "      <th>children</th>\n",
       "      <th>christmas</th>\n",
       "      <th>colored goods</th>\n",
       "      <th>decoration</th>\n",
       "      <th>design</th>\n",
       "      <th>else</th>\n",
       "      <th>holders &amp; cases</th>\n",
       "      <th>home &amp; garden</th>\n",
       "      <th>kitchen &amp; dishes</th>\n",
       "      <th>party &amp; birthday</th>\n",
       "      <th>sets</th>\n",
       "      <th>signs</th>\n",
       "      <th>vintage</th>\n",
       "    </tr>\n",
       "  </thead>\n",
       "  <tbody>\n",
       "    <tr>\n",
       "      <th>0</th>\n",
       "      <td>536365</td>\n",
       "      <td>0</td>\n",
       "      <td>0</td>\n",
       "      <td>1</td>\n",
       "      <td>0</td>\n",
       "      <td>0</td>\n",
       "      <td>0</td>\n",
       "      <td>0</td>\n",
       "      <td>1</td>\n",
       "      <td>0</td>\n",
       "      <td>0</td>\n",
       "      <td>0</td>\n",
       "      <td>2</td>\n",
       "      <td>1</td>\n",
       "      <td>2</td>\n",
       "      <td>0</td>\n",
       "      <td>0</td>\n",
       "      <td>0</td>\n",
       "      <td>0</td>\n",
       "    </tr>\n",
       "    <tr>\n",
       "      <th>1</th>\n",
       "      <td>536366</td>\n",
       "      <td>0</td>\n",
       "      <td>0</td>\n",
       "      <td>0</td>\n",
       "      <td>0</td>\n",
       "      <td>0</td>\n",
       "      <td>0</td>\n",
       "      <td>0</td>\n",
       "      <td>0</td>\n",
       "      <td>0</td>\n",
       "      <td>0</td>\n",
       "      <td>1</td>\n",
       "      <td>0</td>\n",
       "      <td>0</td>\n",
       "      <td>0</td>\n",
       "      <td>0</td>\n",
       "      <td>0</td>\n",
       "      <td>0</td>\n",
       "      <td>1</td>\n",
       "    </tr>\n",
       "    <tr>\n",
       "      <th>2</th>\n",
       "      <td>536367</td>\n",
       "      <td>1</td>\n",
       "      <td>0</td>\n",
       "      <td>2</td>\n",
       "      <td>0</td>\n",
       "      <td>0</td>\n",
       "      <td>0</td>\n",
       "      <td>0</td>\n",
       "      <td>0</td>\n",
       "      <td>1</td>\n",
       "      <td>0</td>\n",
       "      <td>1</td>\n",
       "      <td>0</td>\n",
       "      <td>4</td>\n",
       "      <td>1</td>\n",
       "      <td>0</td>\n",
       "      <td>0</td>\n",
       "      <td>0</td>\n",
       "      <td>2</td>\n",
       "    </tr>\n",
       "    <tr>\n",
       "      <th>3</th>\n",
       "      <td>536368</td>\n",
       "      <td>0</td>\n",
       "      <td>0</td>\n",
       "      <td>0</td>\n",
       "      <td>0</td>\n",
       "      <td>0</td>\n",
       "      <td>0</td>\n",
       "      <td>0</td>\n",
       "      <td>2</td>\n",
       "      <td>0</td>\n",
       "      <td>0</td>\n",
       "      <td>1</td>\n",
       "      <td>0</td>\n",
       "      <td>0</td>\n",
       "      <td>1</td>\n",
       "      <td>0</td>\n",
       "      <td>0</td>\n",
       "      <td>0</td>\n",
       "      <td>0</td>\n",
       "    </tr>\n",
       "    <tr>\n",
       "      <th>4</th>\n",
       "      <td>536369</td>\n",
       "      <td>0</td>\n",
       "      <td>0</td>\n",
       "      <td>0</td>\n",
       "      <td>0</td>\n",
       "      <td>0</td>\n",
       "      <td>0</td>\n",
       "      <td>0</td>\n",
       "      <td>0</td>\n",
       "      <td>0</td>\n",
       "      <td>0</td>\n",
       "      <td>0</td>\n",
       "      <td>0</td>\n",
       "      <td>1</td>\n",
       "      <td>0</td>\n",
       "      <td>0</td>\n",
       "      <td>0</td>\n",
       "      <td>0</td>\n",
       "      <td>0</td>\n",
       "    </tr>\n",
       "  </tbody>\n",
       "</table>\n",
       "</div>"
      ],
      "text/plain": [
       "clear_category order_id  assorted goods  bags  box  ceramic  chancellery  \\\n",
       "0                536365               0     0    1        0            0   \n",
       "1                536366               0     0    0        0            0   \n",
       "2                536367               1     0    2        0            0   \n",
       "3                536368               0     0    0        0            0   \n",
       "4                536369               0     0    0        0            0   \n",
       "\n",
       "clear_category  children  christmas  colored goods  decoration  design  else  \\\n",
       "0                      0          0              1           0       0     0   \n",
       "1                      0          0              0           0       0     1   \n",
       "2                      0          0              0           1       0     1   \n",
       "3                      0          0              2           0       0     1   \n",
       "4                      0          0              0           0       0     0   \n",
       "\n",
       "clear_category  holders & cases  home & garden  kitchen & dishes  \\\n",
       "0                             2              1                 2   \n",
       "1                             0              0                 0   \n",
       "2                             0              4                 1   \n",
       "3                             0              0                 1   \n",
       "4                             0              1                 0   \n",
       "\n",
       "clear_category  party & birthday  sets  signs  vintage  \n",
       "0                              0     0      0        0  \n",
       "1                              0     0      0        1  \n",
       "2                              0     0      0        2  \n",
       "3                              0     0      0        0  \n",
       "4                              0     0      0        0  "
      ]
     },
     "execution_count": 52,
     "metadata": {},
     "output_type": "execute_result"
    }
   ],
   "source": [
    "data_for_matrix = data[['order_id', 'clear_category']]\n",
    "\n",
    "data_for_matrix['id'] = data_for_matrix.order_id\n",
    "data_for_matrix_pivot = data_for_matrix.pivot_table(\n",
    "            index = 'order_id',\n",
    "            columns = 'clear_category',\n",
    "            values = 'id',\n",
    "            aggfunc = 'count',\n",
    "            fill_value = 0).reset_index()\n",
    "data_for_matrix_pivot.head()"
   ]
  },
  {
   "cell_type": "markdown",
   "metadata": {},
   "source": [
    "This table shows the ammounts of goods in each category in the product carts. Now we will replace all the values more then 1 to 1 to get boolean table of presense and build the correlation matrix"
   ]
  },
  {
   "cell_type": "code",
   "execution_count": 53,
   "metadata": {},
   "outputs": [
    {
     "data": {
      "text/plain": [
       "Index(['assorted goods', 'bags', 'box', 'ceramic', 'chancellery', 'children',\n",
       "       'christmas', 'colored goods', 'decoration', 'design', 'else',\n",
       "       'holders & cases', 'home & garden', 'kitchen & dishes',\n",
       "       'party & birthday', 'sets', 'signs', 'vintage'],\n",
       "      dtype='object', name='clear_category')"
      ]
     },
     "execution_count": 53,
     "metadata": {},
     "output_type": "execute_result"
    }
   ],
   "source": [
    "# we don't want to change order ids so we drop them from the list of columns\n",
    "names_of_columns = data_for_matrix_pivot.columns.drop('order_id')\n",
    "names_of_columns"
   ]
  },
  {
   "cell_type": "code",
   "execution_count": 54,
   "metadata": {},
   "outputs": [],
   "source": [
    "for column in names_of_columns:\n",
    "    data_for_matrix_pivot.loc[data_for_matrix_pivot[column] > 1, column] = 1"
   ]
  },
  {
   "cell_type": "code",
   "execution_count": 55,
   "metadata": {},
   "outputs": [
    {
     "data": {
      "text/html": [
       "<div>\n",
       "<style scoped>\n",
       "    .dataframe tbody tr th:only-of-type {\n",
       "        vertical-align: middle;\n",
       "    }\n",
       "\n",
       "    .dataframe tbody tr th {\n",
       "        vertical-align: top;\n",
       "    }\n",
       "\n",
       "    .dataframe thead th {\n",
       "        text-align: right;\n",
       "    }\n",
       "</style>\n",
       "<table border=\"1\" class=\"dataframe\">\n",
       "  <thead>\n",
       "    <tr style=\"text-align: right;\">\n",
       "      <th>clear_category</th>\n",
       "      <th>order_id</th>\n",
       "      <th>assorted goods</th>\n",
       "      <th>bags</th>\n",
       "      <th>box</th>\n",
       "      <th>ceramic</th>\n",
       "      <th>chancellery</th>\n",
       "      <th>children</th>\n",
       "      <th>christmas</th>\n",
       "      <th>colored goods</th>\n",
       "      <th>decoration</th>\n",
       "      <th>design</th>\n",
       "      <th>else</th>\n",
       "      <th>holders &amp; cases</th>\n",
       "      <th>home &amp; garden</th>\n",
       "      <th>kitchen &amp; dishes</th>\n",
       "      <th>party &amp; birthday</th>\n",
       "      <th>sets</th>\n",
       "      <th>signs</th>\n",
       "      <th>vintage</th>\n",
       "    </tr>\n",
       "  </thead>\n",
       "  <tbody>\n",
       "    <tr>\n",
       "      <th>0</th>\n",
       "      <td>536365</td>\n",
       "      <td>0</td>\n",
       "      <td>0</td>\n",
       "      <td>1</td>\n",
       "      <td>0</td>\n",
       "      <td>0</td>\n",
       "      <td>0</td>\n",
       "      <td>0</td>\n",
       "      <td>1</td>\n",
       "      <td>0</td>\n",
       "      <td>0</td>\n",
       "      <td>0</td>\n",
       "      <td>1</td>\n",
       "      <td>1</td>\n",
       "      <td>1</td>\n",
       "      <td>0</td>\n",
       "      <td>0</td>\n",
       "      <td>0</td>\n",
       "      <td>0</td>\n",
       "    </tr>\n",
       "    <tr>\n",
       "      <th>1</th>\n",
       "      <td>536366</td>\n",
       "      <td>0</td>\n",
       "      <td>0</td>\n",
       "      <td>0</td>\n",
       "      <td>0</td>\n",
       "      <td>0</td>\n",
       "      <td>0</td>\n",
       "      <td>0</td>\n",
       "      <td>0</td>\n",
       "      <td>0</td>\n",
       "      <td>0</td>\n",
       "      <td>1</td>\n",
       "      <td>0</td>\n",
       "      <td>0</td>\n",
       "      <td>0</td>\n",
       "      <td>0</td>\n",
       "      <td>0</td>\n",
       "      <td>0</td>\n",
       "      <td>1</td>\n",
       "    </tr>\n",
       "    <tr>\n",
       "      <th>2</th>\n",
       "      <td>536367</td>\n",
       "      <td>1</td>\n",
       "      <td>0</td>\n",
       "      <td>1</td>\n",
       "      <td>0</td>\n",
       "      <td>0</td>\n",
       "      <td>0</td>\n",
       "      <td>0</td>\n",
       "      <td>0</td>\n",
       "      <td>1</td>\n",
       "      <td>0</td>\n",
       "      <td>1</td>\n",
       "      <td>0</td>\n",
       "      <td>1</td>\n",
       "      <td>1</td>\n",
       "      <td>0</td>\n",
       "      <td>0</td>\n",
       "      <td>0</td>\n",
       "      <td>1</td>\n",
       "    </tr>\n",
       "    <tr>\n",
       "      <th>3</th>\n",
       "      <td>536368</td>\n",
       "      <td>0</td>\n",
       "      <td>0</td>\n",
       "      <td>0</td>\n",
       "      <td>0</td>\n",
       "      <td>0</td>\n",
       "      <td>0</td>\n",
       "      <td>0</td>\n",
       "      <td>1</td>\n",
       "      <td>0</td>\n",
       "      <td>0</td>\n",
       "      <td>1</td>\n",
       "      <td>0</td>\n",
       "      <td>0</td>\n",
       "      <td>1</td>\n",
       "      <td>0</td>\n",
       "      <td>0</td>\n",
       "      <td>0</td>\n",
       "      <td>0</td>\n",
       "    </tr>\n",
       "    <tr>\n",
       "      <th>4</th>\n",
       "      <td>536369</td>\n",
       "      <td>0</td>\n",
       "      <td>0</td>\n",
       "      <td>0</td>\n",
       "      <td>0</td>\n",
       "      <td>0</td>\n",
       "      <td>0</td>\n",
       "      <td>0</td>\n",
       "      <td>0</td>\n",
       "      <td>0</td>\n",
       "      <td>0</td>\n",
       "      <td>0</td>\n",
       "      <td>0</td>\n",
       "      <td>1</td>\n",
       "      <td>0</td>\n",
       "      <td>0</td>\n",
       "      <td>0</td>\n",
       "      <td>0</td>\n",
       "      <td>0</td>\n",
       "    </tr>\n",
       "  </tbody>\n",
       "</table>\n",
       "</div>"
      ],
      "text/plain": [
       "clear_category order_id  assorted goods  bags  box  ceramic  chancellery  \\\n",
       "0                536365               0     0    1        0            0   \n",
       "1                536366               0     0    0        0            0   \n",
       "2                536367               1     0    1        0            0   \n",
       "3                536368               0     0    0        0            0   \n",
       "4                536369               0     0    0        0            0   \n",
       "\n",
       "clear_category  children  christmas  colored goods  decoration  design  else  \\\n",
       "0                      0          0              1           0       0     0   \n",
       "1                      0          0              0           0       0     1   \n",
       "2                      0          0              0           1       0     1   \n",
       "3                      0          0              1           0       0     1   \n",
       "4                      0          0              0           0       0     0   \n",
       "\n",
       "clear_category  holders & cases  home & garden  kitchen & dishes  \\\n",
       "0                             1              1                 1   \n",
       "1                             0              0                 0   \n",
       "2                             0              1                 1   \n",
       "3                             0              0                 1   \n",
       "4                             0              1                 0   \n",
       "\n",
       "clear_category  party & birthday  sets  signs  vintage  \n",
       "0                              0     0      0        0  \n",
       "1                              0     0      0        1  \n",
       "2                              0     0      0        1  \n",
       "3                              0     0      0        0  \n",
       "4                              0     0      0        0  "
      ]
     },
     "execution_count": 55,
     "metadata": {},
     "output_type": "execute_result"
    }
   ],
   "source": [
    "data_for_matrix_pivot.head()"
   ]
  },
  {
   "cell_type": "code",
   "execution_count": 56,
   "metadata": {},
   "outputs": [
    {
     "data": {
      "image/png": "[encoded data removed]",
      "text/plain": [
       "<Figure size 936x936 with 2 Axes>"
      ]
     },
     "metadata": {
      "needs_background": "light"
     },
     "output_type": "display_data"
    }
   ],
   "source": [
    "corrMatrix = data_for_matrix_pivot.corr()\n",
    "size = (13, 13)\n",
    "plt.subplots(figsize=size)\n",
    "sns.heatmap(corrMatrix, annot=True)\n",
    "plt.show()"
   ]
  },
  {
   "cell_type": "markdown",
   "metadata": {},
   "source": [
    "This matrix is the matrix of presence since the values are boolean 1 and 0 and they define wheather a category takes place in a shopping card. The highest correlations here are:\n",
    "\n",
    "- bags: box and vintage\n",
    "- box: children, decoration, design, kitchen & dishes, sets\n",
    "- chancellery: sets\n",
    "- children: box, decoration, design, holders & cases, home & garden, kitchen & dishes, sets, vintage\n",
    "- colored goods: else\n",
    "- decoration: box, children, holders & cases, home & garden, sets\n",
    "- design: box, children, home & garden, sets\n",
    "- home & garden: kitchen & dishes\n"
   ]
  },
  {
   "cell_type": "markdown",
   "metadata": {},
   "source": [
    "On the basis of these correlations we can create several bundles: \n",
    "\n",
    "- decorations and design things for children \n",
    "- holders for home & garden, kitchen & dishes\n",
    "- decoration and boxes\n",
    "- sets of different chancellery goods"
   ]
  },
  {
   "cell_type": "markdown",
   "metadata": {},
   "source": [
    "**PART 2 Conclusion:**\n",
    "\n",
    "- First data date: 2018-11-29 08:26:00, last data date: 2019-12-07 12:50:00, date period: 373 days 04:24:00\n",
    "\n",
    "- Number of unique goods: 3821\n",
    "\n",
    "- There are negative values of amount column which are cancelled orders and negative values and 0-values of unit_price column which are adjusted bad debt for bookkeeping. \n",
    "\n",
    "- There are 1454 missing values in description column which were replaced with most common description of the stock code or \"no description\"\n",
    "\n",
    "- There are 135080 missing values in user_id column which were replaced with \"unidentified\" and analysed separetly\n",
    "\n",
    "- We created categories of goods using categorisation using lemmatisation\n",
    "\n",
    "- Analysis of most common canceled categories showed that \"kitchen & dishes\", \"vintage\", \"home & garden\" and \"else\" categories are canceled the most\n",
    "\n",
    "- Analysis of most common categories in adjusted debts showed that the categories are the same as most common canceled categories - \"kitchen & dishes\", \"vintage\", \"home & garden\" and \"else\"\n",
    "\n",
    "- We see that the ammount of negative values in amount column among unidentified users is 1715 which is 16.2% of this ammount among all users (10587) but negative and 0 values of unit_price column among unidentified users is 98% of this ammount among all users (2470 of 2510)\n",
    "\n",
    "- We defined that the main assortment is in \"else\", \"holders & cases\", \"home & garden\", \"assorted goods\" and \"vintage\" categories while the additional_assortment is in \"ceramic\", \"decoration\", \"colored goods\", \"children & toys\" and \"bags\" categories.\n",
    "\n",
    "- On the basis of the correlation matrix we can create several bundles: \n",
    "\n",
    "    - decorations and design things for children \n",
    "    - holders for home & garden, kitchen & dishes\n",
    "    - decoration and boxes\n",
    "    - sets of different chancellery goods\n"
   ]
  },
  {
   "cell_type": "markdown",
   "metadata": {},
   "source": [
    "[Back to table of contents](#0-bullet)"
   ]
  },
  {
   "cell_type": "markdown",
   "metadata": {},
   "source": [
    "-------------"
   ]
  },
  {
   "cell_type": "markdown",
   "metadata": {},
   "source": [
    "# Part 3: Testing hypotheses <a class=\"anchor\" id=\"4-bullet\"></a>"
   ]
  },
  {
   "cell_type": "markdown",
   "metadata": {},
   "source": [
    "### As for the test: never forget to check the distribution of your samples. Here your data is note distributed normally, so please think whether you can justify t-test here. That's all from my side, we're almost there) Can't wait for your presentation!"
   ]
  },
  {
   "cell_type": "markdown",
   "metadata": {},
   "source": [
    "We saw that the ammounts of products that are more often sold by themselves is less then ones that are more often combined with others so we expect that the average revenue form this two categories will be different. To prove or refute it we will do a statistical test.Here we will use 2 hypothesis:\n",
    "\n",
    "- **H0:** the average revenues of the proportions are equal.\n",
    "- **H1:** the average revenues of the proportions are **not** equal.\n",
    "\n",
    "We will check both hypothesis for alpha values 0.05 and 0.01. On the previous step we defined what are the main and additional assortement goods. Let's create arrays with the names of categories:"
   ]
  },
  {
   "cell_type": "code",
   "execution_count": 57,
   "metadata": {},
   "outputs": [
    {
     "data": {
      "text/html": [
       "<div>\n",
       "<style scoped>\n",
       "    .dataframe tbody tr th:only-of-type {\n",
       "        vertical-align: middle;\n",
       "    }\n",
       "\n",
       "    .dataframe tbody tr th {\n",
       "        vertical-align: top;\n",
       "    }\n",
       "\n",
       "    .dataframe thead th {\n",
       "        text-align: right;\n",
       "    }\n",
       "</style>\n",
       "<table border=\"1\" class=\"dataframe\">\n",
       "  <thead>\n",
       "    <tr style=\"text-align: right;\">\n",
       "      <th></th>\n",
       "      <th>index</th>\n",
       "      <th>clear_category_AA</th>\n",
       "      <th>clear_category_Total</th>\n",
       "      <th>percentage</th>\n",
       "    </tr>\n",
       "  </thead>\n",
       "  <tbody>\n",
       "    <tr>\n",
       "      <th>17</th>\n",
       "      <td>ceramic</td>\n",
       "      <td>5309</td>\n",
       "      <td>5314</td>\n",
       "      <td>0.999059</td>\n",
       "    </tr>\n",
       "    <tr>\n",
       "      <th>4</th>\n",
       "      <td>decoration</td>\n",
       "      <td>39624</td>\n",
       "      <td>39688</td>\n",
       "      <td>0.998387</td>\n",
       "    </tr>\n",
       "    <tr>\n",
       "      <th>9</th>\n",
       "      <td>colored goods</td>\n",
       "      <td>21228</td>\n",
       "      <td>21263</td>\n",
       "      <td>0.998354</td>\n",
       "    </tr>\n",
       "    <tr>\n",
       "      <th>6</th>\n",
       "      <td>children</td>\n",
       "      <td>34473</td>\n",
       "      <td>34536</td>\n",
       "      <td>0.998176</td>\n",
       "    </tr>\n",
       "    <tr>\n",
       "      <th>5</th>\n",
       "      <td>bags</td>\n",
       "      <td>35381</td>\n",
       "      <td>35451</td>\n",
       "      <td>0.998025</td>\n",
       "    </tr>\n",
       "    <tr>\n",
       "      <th>10</th>\n",
       "      <td>box</td>\n",
       "      <td>21149</td>\n",
       "      <td>21194</td>\n",
       "      <td>0.997877</td>\n",
       "    </tr>\n",
       "    <tr>\n",
       "      <th>8</th>\n",
       "      <td>sets</td>\n",
       "      <td>22432</td>\n",
       "      <td>22482</td>\n",
       "      <td>0.997776</td>\n",
       "    </tr>\n",
       "    <tr>\n",
       "      <th>12</th>\n",
       "      <td>christmas</td>\n",
       "      <td>15650</td>\n",
       "      <td>15685</td>\n",
       "      <td>0.997769</td>\n",
       "    </tr>\n",
       "    <tr>\n",
       "      <th>11</th>\n",
       "      <td>design</td>\n",
       "      <td>19189</td>\n",
       "      <td>19238</td>\n",
       "      <td>0.997453</td>\n",
       "    </tr>\n",
       "    <tr>\n",
       "      <th>2</th>\n",
       "      <td>kitchen &amp; dishes</td>\n",
       "      <td>54846</td>\n",
       "      <td>54992</td>\n",
       "      <td>0.997345</td>\n",
       "    </tr>\n",
       "    <tr>\n",
       "      <th>13</th>\n",
       "      <td>signs</td>\n",
       "      <td>10719</td>\n",
       "      <td>10748</td>\n",
       "      <td>0.997302</td>\n",
       "    </tr>\n",
       "    <tr>\n",
       "      <th>15</th>\n",
       "      <td>party &amp; birthday</td>\n",
       "      <td>9478</td>\n",
       "      <td>9504</td>\n",
       "      <td>0.997264</td>\n",
       "    </tr>\n",
       "    <tr>\n",
       "      <th>14</th>\n",
       "      <td>chancellery</td>\n",
       "      <td>10530</td>\n",
       "      <td>10559</td>\n",
       "      <td>0.997254</td>\n",
       "    </tr>\n",
       "    <tr>\n",
       "      <th>0</th>\n",
       "      <td>vintage</td>\n",
       "      <td>85141</td>\n",
       "      <td>85412</td>\n",
       "      <td>0.996827</td>\n",
       "    </tr>\n",
       "    <tr>\n",
       "      <th>16</th>\n",
       "      <td>assorted goods</td>\n",
       "      <td>6130</td>\n",
       "      <td>6152</td>\n",
       "      <td>0.996424</td>\n",
       "    </tr>\n",
       "    <tr>\n",
       "      <th>1</th>\n",
       "      <td>home &amp; garden</td>\n",
       "      <td>56864</td>\n",
       "      <td>57076</td>\n",
       "      <td>0.996286</td>\n",
       "    </tr>\n",
       "    <tr>\n",
       "      <th>7</th>\n",
       "      <td>holders &amp; cases</td>\n",
       "      <td>26245</td>\n",
       "      <td>26355</td>\n",
       "      <td>0.995826</td>\n",
       "    </tr>\n",
       "    <tr>\n",
       "      <th>3</th>\n",
       "      <td>else</td>\n",
       "      <td>48860</td>\n",
       "      <td>49223</td>\n",
       "      <td>0.992625</td>\n",
       "    </tr>\n",
       "  </tbody>\n",
       "</table>\n",
       "</div>"
      ],
      "text/plain": [
       "               index  clear_category_AA  clear_category_Total  percentage\n",
       "17           ceramic               5309                  5314    0.999059\n",
       "4         decoration              39624                 39688    0.998387\n",
       "9      colored goods              21228                 21263    0.998354\n",
       "6           children              34473                 34536    0.998176\n",
       "5               bags              35381                 35451    0.998025\n",
       "10               box              21149                 21194    0.997877\n",
       "8               sets              22432                 22482    0.997776\n",
       "12         christmas              15650                 15685    0.997769\n",
       "11            design              19189                 19238    0.997453\n",
       "2   kitchen & dishes              54846                 54992    0.997345\n",
       "13             signs              10719                 10748    0.997302\n",
       "15  party & birthday               9478                  9504    0.997264\n",
       "14       chancellery              10530                 10559    0.997254\n",
       "0            vintage              85141                 85412    0.996827\n",
       "16    assorted goods               6130                  6152    0.996424\n",
       "1      home & garden              56864                 57076    0.996286\n",
       "7    holders & cases              26245                 26355    0.995826\n",
       "3               else              48860                 49223    0.992625"
      ]
     },
     "execution_count": 57,
     "metadata": {},
     "output_type": "execute_result"
    }
   ],
   "source": [
    "# the dataset we got on the previous step\n",
    "additional_assortment.sort_values(by = 'percentage', ascending = False)"
   ]
  },
  {
   "cell_type": "code",
   "execution_count": 58,
   "metadata": {},
   "outputs": [
    {
     "data": {
      "text/plain": [
       "['ceramic',\n",
       " 'decoration',\n",
       " 'colored goods',\n",
       " 'children',\n",
       " 'bags',\n",
       " 'box',\n",
       " 'sets',\n",
       " 'christmas',\n",
       " 'design']"
      ]
     },
     "execution_count": 58,
     "metadata": {},
     "output_type": "execute_result"
    }
   ],
   "source": [
    "additional_assortment_categories = additional_assortment.sort_values(by = 'percentage', ascending = False)['index'].head(9).to_list()\n",
    "additional_assortment_categories"
   ]
  },
  {
   "cell_type": "code",
   "execution_count": 59,
   "metadata": {},
   "outputs": [
    {
     "data": {
      "text/plain": [
       "['kitchen & dishes',\n",
       " 'signs',\n",
       " 'party & birthday',\n",
       " 'chancellery',\n",
       " 'vintage',\n",
       " 'assorted goods',\n",
       " 'home & garden',\n",
       " 'holders & cases',\n",
       " 'else']"
      ]
     },
     "execution_count": 59,
     "metadata": {},
     "output_type": "execute_result"
    }
   ],
   "source": [
    "main_assortment_categories = additional_assortment.sort_values(by = 'percentage', ascending = False)['index'].tail(9).to_list()\n",
    "main_assortment_categories"
   ]
  },
  {
   "cell_type": "markdown",
   "metadata": {},
   "source": [
    "Now we will form the samples:"
   ]
  },
  {
   "cell_type": "code",
   "execution_count": 60,
   "metadata": {},
   "outputs": [],
   "source": [
    "sample_1 = data.query('clear_category in @main_assortment_categories')['revenue']\n",
    "sample_2 = data.query('clear_category in @additional_assortment_categories')['revenue']"
   ]
  },
  {
   "cell_type": "markdown",
   "metadata": {},
   "source": [
    "Before we'll do the test, we need to check wheather the data distributed normally:"
   ]
  },
  {
   "cell_type": "code",
   "execution_count": 61,
   "metadata": {},
   "outputs": [
    {
     "data": {
      "image/png": "[encoded data removed]",
      "text/plain": [
       "<Figure size 432x288 with 1 Axes>"
      ]
     },
     "metadata": {
      "needs_background": "light"
     },
     "output_type": "display_data"
    }
   ],
   "source": [
    "plt.hist(sample_1, bins = 3000)\n",
    "plt.xlim(0,300)\n",
    "plt.xlabel('Revenue')\n",
    "plt.ylabel('Amount of orders')\n",
    "plt.title('Distribution of sample 1')\n",
    "plt.show()"
   ]
  },
  {
   "cell_type": "code",
   "execution_count": 62,
   "metadata": {},
   "outputs": [
    {
     "data": {
      "image/png": "[encoded data removed]",
      "text/plain": [
       "<Figure size 432x288 with 1 Axes>"
      ]
     },
     "metadata": {
      "needs_background": "light"
     },
     "output_type": "display_data"
    }
   ],
   "source": [
    "plt.hist(sample_2, bins = 3000)\n",
    "plt.xlim(0,300)\n",
    "plt.xlabel('Revenue')\n",
    "plt.ylabel('Amount of orders')\n",
    "plt.title('Distribution of sample 2')\n",
    "plt.show()"
   ]
  },
  {
   "cell_type": "markdown",
   "metadata": {},
   "source": [
    "As we see the samples are not distributed normally. It means that we need to use Mann-Whitney test:"
   ]
  },
  {
   "cell_type": "code",
   "execution_count": 63,
   "metadata": {},
   "outputs": [
    {
     "name": "stdout",
     "output_type": "stream",
     "text": [
      "results:  MannwhitneyuResult(statistic=30016661020.5, pvalue=0.0)\n",
      "p-value:  0.0\n",
      "Null hypothesis rejected: the difference is statistically significant\n"
     ]
    }
   ],
   "source": [
    "from scipy import stats as st\n",
    "\n",
    "alpha = .05 #significance level\n",
    "\n",
    "results = st.mannwhitneyu(sample_1, sample_2)\n",
    "print('results: ', results)\n",
    "print('p-value: ', results.pvalue)\n",
    "\n",
    "if (results.pvalue < alpha):\n",
    "    print(\"Null hypothesis rejected: the difference is statistically significant\")\n",
    "else:\n",
    "    print(\"Failed to reject the null hypothesis: we can't make conclusions about the difference\") "
   ]
  },
  {
   "cell_type": "code",
   "execution_count": 64,
   "metadata": {},
   "outputs": [
    {
     "name": "stdout",
     "output_type": "stream",
     "text": [
      "results:  MannwhitneyuResult(statistic=30016661020.5, pvalue=0.0)\n",
      "p-value:  0.0\n",
      "Null hypothesis rejected: the difference is statistically significant\n"
     ]
    }
   ],
   "source": [
    "alpha = .01 #significance level\n",
    "\n",
    "results = st.mannwhitneyu(sample_1, sample_2)\n",
    "print('results: ', results)\n",
    "print('p-value: ', results.pvalue)\n",
    "\n",
    "if (results.pvalue < alpha):\n",
    "    print(\"Null hypothesis rejected: the difference is statistically significant\")\n",
    "else:\n",
    "    print(\"Failed to reject the null hypothesis: we can't make conclusions about the difference\")"
   ]
  },
  {
   "cell_type": "markdown",
   "metadata": {},
   "source": [
    "Another one thing that we want to check - if the average revenue of goods in category “else” is different from the average revenue of goods in other categories.\n",
    "\n",
    "Here are our statistical hypotheses:\n",
    "- **H0:** the average revenues of the proportions are equal.\n",
    "- **H1:** the average revenues of the proportions are **not** equal.\n",
    "\n",
    "We will check both hypothesis for alpha values 0.05 and 0.01 but firstly we again need to check he distributions:"
   ]
  },
  {
   "cell_type": "code",
   "execution_count": 65,
   "metadata": {},
   "outputs": [],
   "source": [
    "sample_1 = data.query('clear_category in \"else\"')['revenue']\n",
    "sample_2 = data.query('clear_category not in \"else\"')['revenue']"
   ]
  },
  {
   "cell_type": "code",
   "execution_count": 66,
   "metadata": {},
   "outputs": [
    {
     "data": {
      "image/png": "[encoded data removed]",
      "text/plain": [
       "<Figure size 432x288 with 1 Axes>"
      ]
     },
     "metadata": {
      "needs_background": "light"
     },
     "output_type": "display_data"
    }
   ],
   "source": [
    "plt.hist(sample_1, bins = 3000)\n",
    "plt.xlim(0,300)\n",
    "plt.xlabel('Revenue')\n",
    "plt.ylabel('Amount of orders')\n",
    "plt.title('Distribution of sample 1')\n",
    "plt.show()"
   ]
  },
  {
   "cell_type": "code",
   "execution_count": 67,
   "metadata": {},
   "outputs": [
    {
     "data": {
      "image/png": "[encoded data removed]",
      "text/plain": [
       "<Figure size 432x288 with 1 Axes>"
      ]
     },
     "metadata": {
      "needs_background": "light"
     },
     "output_type": "display_data"
    }
   ],
   "source": [
    "plt.hist(sample_2, bins = 3000)\n",
    "plt.xlim(0,300)\n",
    "plt.xlabel('Revenue')\n",
    "plt.ylabel('Amount of orders')\n",
    "plt.title('Distribution of sample 2')\n",
    "plt.show()"
   ]
  },
  {
   "cell_type": "markdown",
   "metadata": {},
   "source": [
    "The same situation - the samples are not distributed normally and we need to use Mann-Whitney test:"
   ]
  },
  {
   "cell_type": "code",
   "execution_count": 68,
   "metadata": {},
   "outputs": [
    {
     "name": "stdout",
     "output_type": "stream",
     "text": [
      "results:  MannwhitneyuResult(statistic=11577826118.0, pvalue=2.9204192933881714e-05)\n",
      "p-value:  2.9204192933881714e-05\n",
      "Null hypothesis rejected: the difference is statistically significant\n"
     ]
    }
   ],
   "source": [
    "alpha = .05 #significance level\n",
    "\n",
    "results = st.mannwhitneyu(sample_1, sample_2)\n",
    "print('results: ', results)\n",
    "print('p-value: ', results.pvalue)\n",
    "\n",
    "if (results.pvalue < alpha):\n",
    "    print(\"Null hypothesis rejected: the difference is statistically significant\")\n",
    "else:\n",
    "    print(\"Failed to reject the null hypothesis: we can't make conclusions about the difference\")"
   ]
  },
  {
   "cell_type": "code",
   "execution_count": 69,
   "metadata": {},
   "outputs": [
    {
     "name": "stdout",
     "output_type": "stream",
     "text": [
      "results:  MannwhitneyuResult(statistic=11577826118.0, pvalue=2.9204192933881714e-05)\n",
      "p-value:  2.9204192933881714e-05\n",
      "Null hypothesis rejected: the difference is statistically significant\n"
     ]
    }
   ],
   "source": [
    "alpha = .01 #significance level\n",
    "\n",
    "results = st.mannwhitneyu(sample_1, sample_2)\n",
    "print('results: ', results)\n",
    "print('p-value: ', results.pvalue)\n",
    "\n",
    "if (results.pvalue < alpha):\n",
    "    print(\"Null hypothesis rejected: the difference is statistically significant\")\n",
    "else:\n",
    "    print(\"Failed to reject the null hypothesis: we can't make conclusions about the difference\")"
   ]
  },
  {
   "cell_type": "markdown",
   "metadata": {},
   "source": [
    "**PART 3 Conclusion:**\n",
    "\n",
    "As the result of the tests we rejected both H0 for both 0.05 and 0.01 alpha values - there is a statistical difference between both couples of samples"
   ]
  },
  {
   "cell_type": "markdown",
   "metadata": {},
   "source": [
    "[Back to table of contents](#0-bullet)"
   ]
  },
  {
   "cell_type": "markdown",
   "metadata": {},
   "source": [
    "----------"
   ]
  },
  {
   "cell_type": "markdown",
   "metadata": {},
   "source": [
    "# Part 4: Working with business metrics and indicators <a class=\"anchor\" id=\"5-bullet\"></a>"
   ]
  },
  {
   "cell_type": "markdown",
   "metadata": {},
   "source": [
    "- Total revenue of a given period of time\n",
    "- Average revenue per user (ARPPU)\n",
    "- Average Order Value\n",
    "- LTV\n",
    "- Number of orders during a given period of time\n",
    "- Number of daily/weekly/monthly unique buyers (DAU/WAU/MAU)"
   ]
  },
  {
   "cell_type": "code",
   "execution_count": 70,
   "metadata": {},
   "outputs": [
    {
     "name": "stdout",
     "output_type": "stream",
     "text": [
      "Total revenue: 9725455.104000002\n"
     ]
    }
   ],
   "source": [
    "# we've found this metric already before erasing the outliars\n",
    "print(\"Total revenue:\", total_revenue)"
   ]
  },
  {
   "cell_type": "code",
   "execution_count": 71,
   "metadata": {},
   "outputs": [
    {
     "name": "stdout",
     "output_type": "stream",
     "text": [
      "Average revenue per user\n",
      "\n"
     ]
    },
    {
     "data": {
      "text/html": [
       "<div>\n",
       "<style scoped>\n",
       "    .dataframe tbody tr th:only-of-type {\n",
       "        vertical-align: middle;\n",
       "    }\n",
       "\n",
       "    .dataframe tbody tr th {\n",
       "        vertical-align: top;\n",
       "    }\n",
       "\n",
       "    .dataframe thead tr th {\n",
       "        text-align: left;\n",
       "    }\n",
       "</style>\n",
       "<table border=\"1\" class=\"dataframe\">\n",
       "  <thead>\n",
       "    <tr>\n",
       "      <th></th>\n",
       "      <th>user_id</th>\n",
       "      <th>revenue</th>\n",
       "    </tr>\n",
       "    <tr>\n",
       "      <th></th>\n",
       "      <th></th>\n",
       "      <th>mean</th>\n",
       "    </tr>\n",
       "  </thead>\n",
       "  <tbody>\n",
       "    <tr>\n",
       "      <th>0</th>\n",
       "      <td>12347</td>\n",
       "      <td>23.681319</td>\n",
       "    </tr>\n",
       "    <tr>\n",
       "      <th>1</th>\n",
       "      <td>12348</td>\n",
       "      <td>57.975484</td>\n",
       "    </tr>\n",
       "    <tr>\n",
       "      <th>2</th>\n",
       "      <td>12349</td>\n",
       "      <td>24.076027</td>\n",
       "    </tr>\n",
       "    <tr>\n",
       "      <th>3</th>\n",
       "      <td>12350</td>\n",
       "      <td>19.670588</td>\n",
       "    </tr>\n",
       "    <tr>\n",
       "      <th>4</th>\n",
       "      <td>12352</td>\n",
       "      <td>29.482824</td>\n",
       "    </tr>\n",
       "  </tbody>\n",
       "</table>\n",
       "</div>"
      ],
      "text/plain": [
       "  user_id    revenue\n",
       "                mean\n",
       "0   12347  23.681319\n",
       "1   12348  57.975484\n",
       "2   12349  24.076027\n",
       "3   12350  19.670588\n",
       "4   12352  29.482824"
      ]
     },
     "execution_count": 71,
     "metadata": {},
     "output_type": "execute_result"
    }
   ],
   "source": [
    "print(\"Average revenue per user\")\n",
    "print()\n",
    "data.groupby(['user_id']).agg({'revenue': ['mean']}).reset_index().head()"
   ]
  },
  {
   "cell_type": "code",
   "execution_count": 72,
   "metadata": {},
   "outputs": [
    {
     "name": "stdout",
     "output_type": "stream",
     "text": [
      "Average Order Value: mean    51.372534\n",
      "dtype: float64\n"
     ]
    }
   ],
   "source": [
    "A = data.groupby(['order_id']).agg({'revenue': ['mean']}).reset_index()\n",
    "print(\"Average Order Value:\", A['revenue'].mean())"
   ]
  },
  {
   "cell_type": "markdown",
   "metadata": {},
   "source": [
    "Number of daily/weekly/monthly unique buyers (DAU/WAU/MAU)"
   ]
  },
  {
   "cell_type": "markdown",
   "metadata": {},
   "source": [
    "To calculate weekly and monthly activity, we'll first create separate columns for year, month, and week values."
   ]
  },
  {
   "cell_type": "code",
   "execution_count": 73,
   "metadata": {
    "scrolled": true
   },
   "outputs": [
    {
     "data": {
      "text/html": [
       "<div>\n",
       "<style scoped>\n",
       "    .dataframe tbody tr th:only-of-type {\n",
       "        vertical-align: middle;\n",
       "    }\n",
       "\n",
       "    .dataframe tbody tr th {\n",
       "        vertical-align: top;\n",
       "    }\n",
       "\n",
       "    .dataframe thead th {\n",
       "        text-align: right;\n",
       "    }\n",
       "</style>\n",
       "<table border=\"1\" class=\"dataframe\">\n",
       "  <thead>\n",
       "    <tr style=\"text-align: right;\">\n",
       "      <th></th>\n",
       "      <th>order_id</th>\n",
       "      <th>unit_id</th>\n",
       "      <th>description</th>\n",
       "      <th>amount</th>\n",
       "      <th>order_dt</th>\n",
       "      <th>unit_price</th>\n",
       "      <th>user_id</th>\n",
       "      <th>lemmatized</th>\n",
       "      <th>clear_category</th>\n",
       "      <th>revenue</th>\n",
       "      <th>session_year</th>\n",
       "      <th>session_month</th>\n",
       "      <th>session_week</th>\n",
       "      <th>session_date</th>\n",
       "    </tr>\n",
       "  </thead>\n",
       "  <tbody>\n",
       "    <tr>\n",
       "      <th>0</th>\n",
       "      <td>536365</td>\n",
       "      <td>85123A</td>\n",
       "      <td>white hanging heart t-light holder</td>\n",
       "      <td>6</td>\n",
       "      <td>2018-11-29 08:26:00</td>\n",
       "      <td>2.55</td>\n",
       "      <td>17850</td>\n",
       "      <td>[white, hanging, heart, t-light, holder]</td>\n",
       "      <td>holders &amp; cases</td>\n",
       "      <td>15.30</td>\n",
       "      <td>2018</td>\n",
       "      <td>11</td>\n",
       "      <td>48</td>\n",
       "      <td>2018-11-29</td>\n",
       "    </tr>\n",
       "    <tr>\n",
       "      <th>1</th>\n",
       "      <td>536365</td>\n",
       "      <td>71053</td>\n",
       "      <td>white metal lantern</td>\n",
       "      <td>6</td>\n",
       "      <td>2018-11-29 08:26:00</td>\n",
       "      <td>3.39</td>\n",
       "      <td>17850</td>\n",
       "      <td>[white, metal, lantern]</td>\n",
       "      <td>home &amp; garden</td>\n",
       "      <td>20.34</td>\n",
       "      <td>2018</td>\n",
       "      <td>11</td>\n",
       "      <td>48</td>\n",
       "      <td>2018-11-29</td>\n",
       "    </tr>\n",
       "    <tr>\n",
       "      <th>2</th>\n",
       "      <td>536365</td>\n",
       "      <td>84406B</td>\n",
       "      <td>cream cupid hearts coat hanger</td>\n",
       "      <td>8</td>\n",
       "      <td>2018-11-29 08:26:00</td>\n",
       "      <td>2.75</td>\n",
       "      <td>17850</td>\n",
       "      <td>[cream, cupid, heart, coat, hanger]</td>\n",
       "      <td>kitchen &amp; dishes</td>\n",
       "      <td>22.00</td>\n",
       "      <td>2018</td>\n",
       "      <td>11</td>\n",
       "      <td>48</td>\n",
       "      <td>2018-11-29</td>\n",
       "    </tr>\n",
       "    <tr>\n",
       "      <th>3</th>\n",
       "      <td>536365</td>\n",
       "      <td>84029G</td>\n",
       "      <td>knitted union flag hot water bottle</td>\n",
       "      <td>6</td>\n",
       "      <td>2018-11-29 08:26:00</td>\n",
       "      <td>3.39</td>\n",
       "      <td>17850</td>\n",
       "      <td>[knitted, union, flag, hot, water, bottle]</td>\n",
       "      <td>kitchen &amp; dishes</td>\n",
       "      <td>20.34</td>\n",
       "      <td>2018</td>\n",
       "      <td>11</td>\n",
       "      <td>48</td>\n",
       "      <td>2018-11-29</td>\n",
       "    </tr>\n",
       "    <tr>\n",
       "      <th>4</th>\n",
       "      <td>536365</td>\n",
       "      <td>84029E</td>\n",
       "      <td>red woolly hottie white heart.</td>\n",
       "      <td>6</td>\n",
       "      <td>2018-11-29 08:26:00</td>\n",
       "      <td>3.39</td>\n",
       "      <td>17850</td>\n",
       "      <td>[red, woolly, hottie, white, heart.]</td>\n",
       "      <td>colored goods</td>\n",
       "      <td>20.34</td>\n",
       "      <td>2018</td>\n",
       "      <td>11</td>\n",
       "      <td>48</td>\n",
       "      <td>2018-11-29</td>\n",
       "    </tr>\n",
       "  </tbody>\n",
       "</table>\n",
       "</div>"
      ],
      "text/plain": [
       "  order_id unit_id                          description  amount  \\\n",
       "0   536365  85123A   white hanging heart t-light holder       6   \n",
       "1   536365   71053                  white metal lantern       6   \n",
       "2   536365  84406B       cream cupid hearts coat hanger       8   \n",
       "3   536365  84029G  knitted union flag hot water bottle       6   \n",
       "4   536365  84029E       red woolly hottie white heart.       6   \n",
       "\n",
       "             order_dt  unit_price user_id  \\\n",
       "0 2018-11-29 08:26:00        2.55   17850   \n",
       "1 2018-11-29 08:26:00        3.39   17850   \n",
       "2 2018-11-29 08:26:00        2.75   17850   \n",
       "3 2018-11-29 08:26:00        3.39   17850   \n",
       "4 2018-11-29 08:26:00        3.39   17850   \n",
       "\n",
       "                                   lemmatized    clear_category  revenue  \\\n",
       "0    [white, hanging, heart, t-light, holder]   holders & cases    15.30   \n",
       "1                     [white, metal, lantern]     home & garden    20.34   \n",
       "2         [cream, cupid, heart, coat, hanger]  kitchen & dishes    22.00   \n",
       "3  [knitted, union, flag, hot, water, bottle]  kitchen & dishes    20.34   \n",
       "4        [red, woolly, hottie, white, heart.]     colored goods    20.34   \n",
       "\n",
       "   session_year  session_month  session_week session_date  \n",
       "0          2018             11            48   2018-11-29  \n",
       "1          2018             11            48   2018-11-29  \n",
       "2          2018             11            48   2018-11-29  \n",
       "3          2018             11            48   2018-11-29  \n",
       "4          2018             11            48   2018-11-29  "
      ]
     },
     "execution_count": 73,
     "metadata": {},
     "output_type": "execute_result"
    }
   ],
   "source": [
    "data['session_year']  = data['order_dt'].dt.year\n",
    "data['session_month'] = data['order_dt'].dt.month\n",
    "data['session_week']  = data['order_dt'].dt.week\n",
    "data['session_date'] = data['order_dt'].dt.date\n",
    "data.head()"
   ]
  },
  {
   "cell_type": "markdown",
   "metadata": {},
   "source": [
    "Now let's calculate metrics. We'll group the data by session date/week and find the means:"
   ]
  },
  {
   "cell_type": "code",
   "execution_count": 74,
   "metadata": {},
   "outputs": [
    {
     "name": "stdout",
     "output_type": "stream",
     "text": [
      "55\n",
      "301\n",
      "932\n"
     ]
    }
   ],
   "source": [
    "dau_total = data.groupby('session_date').agg({'user_id': 'nunique'}).mean()\n",
    "wau_total = data.groupby(['session_year', 'session_week']).agg({'user_id': 'nunique'}).mean()\n",
    "mau_total = data.groupby(['session_year', 'session_month']).agg({'user_id': 'nunique'}).mean()\n",
    "\n",
    "print(int(dau_total))\n",
    "print(int(wau_total)) \n",
    "print(int(mau_total))"
   ]
  },
  {
   "cell_type": "markdown",
   "metadata": {},
   "source": [
    "As we see here WAU is less then 7 DAU and MAU is less then 4 WAU"
   ]
  },
  {
   "cell_type": "markdown",
   "metadata": {},
   "source": [
    "Calculating the ammount of sessions per day:"
   ]
  },
  {
   "cell_type": "code",
   "execution_count": 75,
   "metadata": {},
   "outputs": [
    {
     "name": "stdout",
     "output_type": "stream",
     "text": [
      "  session_date  n_sessions  n_users\n",
      "0   2018-11-29        3028       96\n",
      "1   2018-11-30        2022      100\n",
      "2   2018-12-01        2138       51\n",
      "3   2018-12-03        2603       76\n",
      "4   2018-12-04        3768       83\n",
      "\n",
      "Average ammount of sessions per day: 1720.8918032786885\n"
     ]
    }
   ],
   "source": [
    "sessions_per_day = data.groupby(['session_date']).agg({'user_id': ['count','nunique']})\n",
    "sessions_per_day = sessions_per_day.reset_index()\n",
    "sessions_per_day.columns = ['session_date', 'n_sessions', 'n_users']\n",
    "print(sessions_per_day.head()) \n",
    "print()\n",
    "avg_sessions_per_day = len(data) / len(sessions_per_day)\n",
    "print('Average ammount of sessions per day:', avg_sessions_per_day)"
   ]
  },
  {
   "cell_type": "markdown",
   "metadata": {},
   "source": [
    "Now let's calculate the sticky factor - this metric will tell us how loyal the audience is — how often they return:"
   ]
  },
  {
   "cell_type": "code",
   "execution_count": 76,
   "metadata": {},
   "outputs": [
    {
     "name": "stdout",
     "output_type": "stream",
     "text": [
      "General week sticky factor user_id    18.554545\n",
      "dtype: float64\n",
      "\n",
      "General month sticky factor user_id    5.987354\n",
      "dtype: float64\n"
     ]
    }
   ],
   "source": [
    "sticky_wau = dau_total / wau_total * 100\n",
    "sticky_mau = dau_total / mau_total * 100\n",
    "\n",
    "print('General week sticky factor', sticky_wau)\n",
    "print()\n",
    "print('General month sticky factor', sticky_mau)"
   ]
  },
  {
   "cell_type": "markdown",
   "metadata": {},
   "source": [
    "These values mean that 18.5% of users come back during 1st week and almost 6% of users come back during 1st month. "
   ]
  },
  {
   "cell_type": "code",
   "execution_count": 77,
   "metadata": {},
   "outputs": [
    {
     "name": "stdout",
     "output_type": "stream",
     "text": [
      "Number of orders per day \n",
      "\n",
      "              order_id\n",
      "session_date          \n",
      "2018-11-29         127\n",
      "2018-11-30         142\n",
      "2018-12-01          68\n",
      "2018-12-03          88\n",
      "2018-12-04         102 \n",
      "\n",
      "********* \n",
      "\n",
      "Number of orders per week \n",
      "\n",
      "                           order_id\n",
      "session_year session_week          \n",
      "2018         48                 337\n",
      "             49                 573\n",
      "             50                 465\n",
      "             51                 183\n",
      "2019         1                  194 \n",
      "\n",
      "********* \n",
      "\n",
      "Number of orders per month \n",
      "\n",
      "                            order_id\n",
      "session_year session_month          \n",
      "2018         11                  269\n",
      "             12                 1289\n",
      "2019         1                  1211\n",
      "             2                  1079\n",
      "             3                  1424\n",
      "             4                  1189\n",
      "             5                  1757\n",
      "             6                  1488\n",
      "             7                  1510\n",
      "             8                  1426\n",
      "             9                  1722\n",
      "             10                 2167\n",
      "             11                 2848\n",
      "             12                  577\n"
     ]
    }
   ],
   "source": [
    "dau_total = data.groupby('session_date').agg({'order_id': 'nunique'})\n",
    "wau_total = data.groupby(['session_year', 'session_week']).agg({'order_id': 'nunique'})\n",
    "mau_total = data.groupby(['session_year', 'session_month']).agg({'order_id': 'nunique'})\n",
    "\n",
    "print('Number of orders per day', '\\n')\n",
    "print(dau_total.head(), '\\n')\n",
    "print('*********', '\\n')\n",
    "print('Number of orders per week', '\\n')\n",
    "print(wau_total.head(), '\\n') \n",
    "print('*********', '\\n')\n",
    "print('Number of orders per month', '\\n')\n",
    "print(mau_total)"
   ]
  },
  {
   "cell_type": "markdown",
   "metadata": {},
   "source": [
    "Let's take a look at distribution of revenue among the categories:"
   ]
  },
  {
   "cell_type": "code",
   "execution_count": 78,
   "metadata": {},
   "outputs": [],
   "source": [
    "rev_dist = data.groupby('clear_category').sum()[['revenue']]\n",
    "rev_dist = rev_dist.reset_index()"
   ]
  },
  {
   "cell_type": "code",
   "execution_count": 79,
   "metadata": {},
   "outputs": [
    {
     "data": {
      "image/png": "[encoded data removed]",
      "text/plain": [
       "<Figure size 864x432 with 1 Axes>"
      ]
     },
     "metadata": {
      "needs_background": "light"
     },
     "output_type": "display_data"
    }
   ],
   "source": [
    "fig, ax = plt.subplots()\n",
    "\n",
    "ax.bar(rev_dist['clear_category'], rev_dist['revenue'])\n",
    "fig.set_figwidth(12)\n",
    "fig.set_figheight(6) \n",
    "plt.title('Distribution of revenue among the categories')\n",
    "plt.xlabel('Categories')\n",
    "plt.ylabel('Revenue')\n",
    "plt.xticks(rotation=45)\n",
    "plt.show()"
   ]
  },
  {
   "cell_type": "markdown",
   "metadata": {},
   "source": [
    "As we see \"vintage\", \"else\" and \"holders & cases\" are our sales leaders but these values are absolute. Let's take a look at the mean revenue in each category:"
   ]
  },
  {
   "cell_type": "code",
   "execution_count": 80,
   "metadata": {},
   "outputs": [],
   "source": [
    "rev_dist = data.groupby('clear_category').mean()[['revenue']]\n",
    "rev_dist = rev_dist.reset_index()"
   ]
  },
  {
   "cell_type": "code",
   "execution_count": 81,
   "metadata": {},
   "outputs": [
    {
     "data": {
      "image/png": "[encoded data removed]",
      "text/plain": [
       "<Figure size 864x432 with 1 Axes>"
      ]
     },
     "metadata": {
      "needs_background": "light"
     },
     "output_type": "display_data"
    }
   ],
   "source": [
    "fig, ax = plt.subplots()\n",
    "\n",
    "ax.bar(rev_dist['clear_category'], rev_dist['revenue'])\n",
    "fig.set_figwidth(12)\n",
    "fig.set_figheight(6) \n",
    "plt.title('Distribution of mean revenue among the categories')\n",
    "plt.xlabel('Categories')\n",
    "plt.ylabel('Mean revenue')\n",
    "plt.xticks(rotation=45)\n",
    "plt.show()"
   ]
  },
  {
   "cell_type": "markdown",
   "metadata": {},
   "source": [
    "\"else\" and \"holders & cases\" are still in top-3 but not \"vintage\". Now number 2 is \"assorted goods\"which brings one of the least amount of money. \n",
    "\n",
    "Now Let's check if we have any seasoning in the data. We will group all the data by month and build a graph showing the revenue changes during the time:"
   ]
  },
  {
   "cell_type": "code",
   "execution_count": 82,
   "metadata": {},
   "outputs": [
    {
     "data": {
      "text/html": [
       "<div>\n",
       "<style scoped>\n",
       "    .dataframe tbody tr th:only-of-type {\n",
       "        vertical-align: middle;\n",
       "    }\n",
       "\n",
       "    .dataframe tbody tr th {\n",
       "        vertical-align: top;\n",
       "    }\n",
       "\n",
       "    .dataframe thead th {\n",
       "        text-align: right;\n",
       "    }\n",
       "</style>\n",
       "<table border=\"1\" class=\"dataframe\">\n",
       "  <thead>\n",
       "    <tr style=\"text-align: right;\">\n",
       "      <th></th>\n",
       "      <th>order_id</th>\n",
       "      <th>unit_id</th>\n",
       "      <th>description</th>\n",
       "      <th>amount</th>\n",
       "      <th>order_dt</th>\n",
       "      <th>unit_price</th>\n",
       "      <th>user_id</th>\n",
       "      <th>lemmatized</th>\n",
       "      <th>clear_category</th>\n",
       "      <th>revenue</th>\n",
       "      <th>session_year</th>\n",
       "      <th>session_month</th>\n",
       "      <th>session_week</th>\n",
       "      <th>session_date</th>\n",
       "      <th>order_month</th>\n",
       "    </tr>\n",
       "  </thead>\n",
       "  <tbody>\n",
       "    <tr>\n",
       "      <th>0</th>\n",
       "      <td>536365</td>\n",
       "      <td>85123A</td>\n",
       "      <td>white hanging heart t-light holder</td>\n",
       "      <td>6</td>\n",
       "      <td>2018-11-29 08:26:00</td>\n",
       "      <td>2.55</td>\n",
       "      <td>17850</td>\n",
       "      <td>[white, hanging, heart, t-light, holder]</td>\n",
       "      <td>holders &amp; cases</td>\n",
       "      <td>15.30</td>\n",
       "      <td>2018</td>\n",
       "      <td>11</td>\n",
       "      <td>48</td>\n",
       "      <td>2018-11-29</td>\n",
       "      <td>2018-11-01</td>\n",
       "    </tr>\n",
       "    <tr>\n",
       "      <th>1</th>\n",
       "      <td>536365</td>\n",
       "      <td>71053</td>\n",
       "      <td>white metal lantern</td>\n",
       "      <td>6</td>\n",
       "      <td>2018-11-29 08:26:00</td>\n",
       "      <td>3.39</td>\n",
       "      <td>17850</td>\n",
       "      <td>[white, metal, lantern]</td>\n",
       "      <td>home &amp; garden</td>\n",
       "      <td>20.34</td>\n",
       "      <td>2018</td>\n",
       "      <td>11</td>\n",
       "      <td>48</td>\n",
       "      <td>2018-11-29</td>\n",
       "      <td>2018-11-01</td>\n",
       "    </tr>\n",
       "  </tbody>\n",
       "</table>\n",
       "</div>"
      ],
      "text/plain": [
       "  order_id unit_id                         description  amount  \\\n",
       "0   536365  85123A  white hanging heart t-light holder       6   \n",
       "1   536365   71053                 white metal lantern       6   \n",
       "\n",
       "             order_dt  unit_price user_id  \\\n",
       "0 2018-11-29 08:26:00        2.55   17850   \n",
       "1 2018-11-29 08:26:00        3.39   17850   \n",
       "\n",
       "                                 lemmatized   clear_category  revenue  \\\n",
       "0  [white, hanging, heart, t-light, holder]  holders & cases    15.30   \n",
       "1                   [white, metal, lantern]    home & garden    20.34   \n",
       "\n",
       "   session_year  session_month  session_week session_date order_month  \n",
       "0          2018             11            48   2018-11-29  2018-11-01  \n",
       "1          2018             11            48   2018-11-29  2018-11-01  "
      ]
     },
     "execution_count": 82,
     "metadata": {},
     "output_type": "execute_result"
    }
   ],
   "source": [
    "# creating column with 1st day of month\n",
    "data['order_month'] = data['session_date'].values.astype('datetime64[M]')\n",
    "data.head(2)"
   ]
  },
  {
   "cell_type": "code",
   "execution_count": 83,
   "metadata": {},
   "outputs": [
    {
     "data": {
      "text/html": [
       "<div>\n",
       "<style scoped>\n",
       "    .dataframe tbody tr th:only-of-type {\n",
       "        vertical-align: middle;\n",
       "    }\n",
       "\n",
       "    .dataframe tbody tr th {\n",
       "        vertical-align: top;\n",
       "    }\n",
       "\n",
       "    .dataframe thead th {\n",
       "        text-align: right;\n",
       "    }\n",
       "</style>\n",
       "<table border=\"1\" class=\"dataframe\">\n",
       "  <thead>\n",
       "    <tr style=\"text-align: right;\">\n",
       "      <th>clear_category</th>\n",
       "      <th>order_month</th>\n",
       "      <th>assorted goods</th>\n",
       "      <th>bags</th>\n",
       "      <th>box</th>\n",
       "      <th>ceramic</th>\n",
       "      <th>chancellery</th>\n",
       "      <th>children</th>\n",
       "      <th>christmas</th>\n",
       "      <th>colored goods</th>\n",
       "      <th>decoration</th>\n",
       "      <th>design</th>\n",
       "      <th>else</th>\n",
       "      <th>holders &amp; cases</th>\n",
       "      <th>home &amp; garden</th>\n",
       "      <th>kitchen &amp; dishes</th>\n",
       "      <th>party &amp; birthday</th>\n",
       "      <th>sets</th>\n",
       "      <th>signs</th>\n",
       "      <th>vintage</th>\n",
       "    </tr>\n",
       "  </thead>\n",
       "  <tbody>\n",
       "    <tr>\n",
       "      <th>0</th>\n",
       "      <td>2018-11-01</td>\n",
       "      <td>1078</td>\n",
       "      <td>1721</td>\n",
       "      <td>4564</td>\n",
       "      <td>579</td>\n",
       "      <td>944</td>\n",
       "      <td>2705</td>\n",
       "      <td>2689</td>\n",
       "      <td>2282</td>\n",
       "      <td>3784</td>\n",
       "      <td>4859</td>\n",
       "      <td>5268</td>\n",
       "      <td>6267</td>\n",
       "      <td>4685</td>\n",
       "      <td>3364</td>\n",
       "      <td>914</td>\n",
       "      <td>2959</td>\n",
       "      <td>477</td>\n",
       "      <td>8943</td>\n",
       "    </tr>\n",
       "    <tr>\n",
       "      <th>1</th>\n",
       "      <td>2018-12-01</td>\n",
       "      <td>8759</td>\n",
       "      <td>14974</td>\n",
       "      <td>14290</td>\n",
       "      <td>2795</td>\n",
       "      <td>6172</td>\n",
       "      <td>18524</td>\n",
       "      <td>13688</td>\n",
       "      <td>10567</td>\n",
       "      <td>22967</td>\n",
       "      <td>13420</td>\n",
       "      <td>26256</td>\n",
       "      <td>29820</td>\n",
       "      <td>21412</td>\n",
       "      <td>28957</td>\n",
       "      <td>3738</td>\n",
       "      <td>12171</td>\n",
       "      <td>5968</td>\n",
       "      <td>45458</td>\n",
       "    </tr>\n",
       "    <tr>\n",
       "      <th>2</th>\n",
       "      <td>2019-01-01</td>\n",
       "      <td>12296</td>\n",
       "      <td>23357</td>\n",
       "      <td>15586</td>\n",
       "      <td>3600</td>\n",
       "      <td>5756</td>\n",
       "      <td>29507</td>\n",
       "      <td>1494</td>\n",
       "      <td>10679</td>\n",
       "      <td>26634</td>\n",
       "      <td>14878</td>\n",
       "      <td>30676</td>\n",
       "      <td>25777</td>\n",
       "      <td>25445</td>\n",
       "      <td>29818</td>\n",
       "      <td>8437</td>\n",
       "      <td>14569</td>\n",
       "      <td>6929</td>\n",
       "      <td>52966</td>\n",
       "    </tr>\n",
       "    <tr>\n",
       "      <th>3</th>\n",
       "      <td>2019-02-01</td>\n",
       "      <td>7947</td>\n",
       "      <td>17158</td>\n",
       "      <td>10645</td>\n",
       "      <td>4184</td>\n",
       "      <td>9246</td>\n",
       "      <td>17537</td>\n",
       "      <td>671</td>\n",
       "      <td>8710</td>\n",
       "      <td>26444</td>\n",
       "      <td>20556</td>\n",
       "      <td>19327</td>\n",
       "      <td>22641</td>\n",
       "      <td>19057</td>\n",
       "      <td>25547</td>\n",
       "      <td>6097</td>\n",
       "      <td>16630</td>\n",
       "      <td>5347</td>\n",
       "      <td>40419</td>\n",
       "    </tr>\n",
       "    <tr>\n",
       "      <th>4</th>\n",
       "      <td>2019-03-01</td>\n",
       "      <td>11907</td>\n",
       "      <td>32976</td>\n",
       "      <td>16617</td>\n",
       "      <td>3207</td>\n",
       "      <td>10993</td>\n",
       "      <td>22487</td>\n",
       "      <td>518</td>\n",
       "      <td>12007</td>\n",
       "      <td>29361</td>\n",
       "      <td>17646</td>\n",
       "      <td>28767</td>\n",
       "      <td>28175</td>\n",
       "      <td>27440</td>\n",
       "      <td>32382</td>\n",
       "      <td>8086</td>\n",
       "      <td>25102</td>\n",
       "      <td>7692</td>\n",
       "      <td>58946</td>\n",
       "    </tr>\n",
       "  </tbody>\n",
       "</table>\n",
       "</div>"
      ],
      "text/plain": [
       "clear_category order_month  assorted goods   bags    box  ceramic  \\\n",
       "0               2018-11-01            1078   1721   4564      579   \n",
       "1               2018-12-01            8759  14974  14290     2795   \n",
       "2               2019-01-01           12296  23357  15586     3600   \n",
       "3               2019-02-01            7947  17158  10645     4184   \n",
       "4               2019-03-01           11907  32976  16617     3207   \n",
       "\n",
       "clear_category  chancellery  children  christmas  colored goods  decoration  \\\n",
       "0                       944      2705       2689           2282        3784   \n",
       "1                      6172     18524      13688          10567       22967   \n",
       "2                      5756     29507       1494          10679       26634   \n",
       "3                      9246     17537        671           8710       26444   \n",
       "4                     10993     22487        518          12007       29361   \n",
       "\n",
       "clear_category  design   else  holders & cases  home & garden  \\\n",
       "0                 4859   5268             6267           4685   \n",
       "1                13420  26256            29820          21412   \n",
       "2                14878  30676            25777          25445   \n",
       "3                20556  19327            22641          19057   \n",
       "4                17646  28767            28175          27440   \n",
       "\n",
       "clear_category  kitchen & dishes  party & birthday   sets  signs  vintage  \n",
       "0                           3364               914   2959    477     8943  \n",
       "1                          28957              3738  12171   5968    45458  \n",
       "2                          29818              8437  14569   6929    52966  \n",
       "3                          25547              6097  16630   5347    40419  \n",
       "4                          32382              8086  25102   7692    58946  "
      ]
     },
     "execution_count": 83,
     "metadata": {},
     "output_type": "execute_result"
    }
   ],
   "source": [
    "# grouping data\n",
    "time_pivot = data.pivot_table(\n",
    "            index = ['order_month'],\n",
    "            columns = 'clear_category',\n",
    "            values = 'amount',\n",
    "            aggfunc = 'sum', #number of items\n",
    "            fill_value = 0).reset_index()\n",
    "time_pivot.head()"
   ]
  },
  {
   "cell_type": "code",
   "execution_count": 84,
   "metadata": {},
   "outputs": [
    {
     "data": {
      "image/png": "[encoded data removed]",
      "text/plain": [
       "<Figure size 864x864 with 1 Axes>"
      ]
     },
     "metadata": {
      "needs_background": "light"
     },
     "output_type": "display_data"
    }
   ],
   "source": [
    "fig, ax = plt.subplots()\n",
    "\n",
    "for i in data['clear_category'].value_counts().keys().tolist():\n",
    "    ax.plot(time_pivot['order_month'], time_pivot[[i]], label=i)\n",
    "    leg = ax.legend()\n",
    "    \n",
    "fig.set_figwidth(12)\n",
    "fig.set_figheight(12) \n",
    "plt.title('Changes of month revenue by categories')\n",
    "plt.ylabel('Number of items')\n",
    "plt.xlabel('Months')\n",
    "plt.show()"
   ]
  },
  {
   "cell_type": "markdown",
   "metadata": {},
   "source": [
    "All the categories here had their better periods and worse periods but they all have the same tendency:\n",
    "- in November 2018 all the revenues were extremely low\n",
    "- in December 2018 the revenues rose and stayed approximately on the same level till May 2019\n",
    "- in May 2019 we see another rise of the revenues that continued till the November 2019 where we have very significant rise\n",
    "- in December 2019 we see hard total decline of revenues in all the categories"
   ]
  },
  {
   "cell_type": "markdown",
   "metadata": {},
   "source": [
    "Talking about time, let's find the LTV. We have data for more then a year. It'll be best to make monthly cohorts. To do so we need to get the 1st month when each user made an order for the first time:"
   ]
  },
  {
   "cell_type": "code",
   "execution_count": 85,
   "metadata": {},
   "outputs": [
    {
     "name": "stdout",
     "output_type": "stream",
     "text": [
      "  user_id first_order_month\n",
      "0   12347        2018-12-01\n",
      "1   12348        2018-12-01\n",
      "2   12349        2019-11-01\n",
      "3   12350        2019-01-01\n",
      "4   12352        2019-02-01\n",
      "5   12353        2019-05-01\n",
      "6   12354        2019-04-01\n",
      "7   12355        2019-05-01\n",
      "8   12356        2019-01-01\n",
      "9   12357        2019-11-01\n"
     ]
    }
   ],
   "source": [
    "first_orders = data.groupby('user_id').agg({'order_month' : 'min'}).reset_index()\n",
    "first_orders.columns = ['user_id', 'first_order_month']\n",
    "print(first_orders.head(10))"
   ]
  },
  {
   "cell_type": "markdown",
   "metadata": {},
   "source": [
    "We'll also calculate the number of new customers (n_buyers) for each month:"
   ]
  },
  {
   "cell_type": "code",
   "execution_count": 86,
   "metadata": {},
   "outputs": [
    {
     "data": {
      "text/html": [
       "<div>\n",
       "<style scoped>\n",
       "    .dataframe tbody tr th:only-of-type {\n",
       "        vertical-align: middle;\n",
       "    }\n",
       "\n",
       "    .dataframe tbody tr th {\n",
       "        vertical-align: top;\n",
       "    }\n",
       "\n",
       "    .dataframe thead th {\n",
       "        text-align: right;\n",
       "    }\n",
       "</style>\n",
       "<table border=\"1\" class=\"dataframe\">\n",
       "  <thead>\n",
       "    <tr style=\"text-align: right;\">\n",
       "      <th></th>\n",
       "      <th>first_order_month</th>\n",
       "      <th>n_buyers</th>\n",
       "    </tr>\n",
       "  </thead>\n",
       "  <tbody>\n",
       "    <tr>\n",
       "      <th>0</th>\n",
       "      <td>2018-11-01</td>\n",
       "      <td>189</td>\n",
       "    </tr>\n",
       "    <tr>\n",
       "      <th>1</th>\n",
       "      <td>2018-12-01</td>\n",
       "      <td>697</td>\n",
       "    </tr>\n",
       "    <tr>\n",
       "      <th>2</th>\n",
       "      <td>2019-01-01</td>\n",
       "      <td>471</td>\n",
       "    </tr>\n",
       "    <tr>\n",
       "      <th>3</th>\n",
       "      <td>2019-02-01</td>\n",
       "      <td>368</td>\n",
       "    </tr>\n",
       "    <tr>\n",
       "      <th>4</th>\n",
       "      <td>2019-03-01</td>\n",
       "      <td>425</td>\n",
       "    </tr>\n",
       "    <tr>\n",
       "      <th>5</th>\n",
       "      <td>2019-04-01</td>\n",
       "      <td>288</td>\n",
       "    </tr>\n",
       "    <tr>\n",
       "      <th>6</th>\n",
       "      <td>2019-05-01</td>\n",
       "      <td>297</td>\n",
       "    </tr>\n",
       "    <tr>\n",
       "      <th>7</th>\n",
       "      <td>2019-06-01</td>\n",
       "      <td>230</td>\n",
       "    </tr>\n",
       "    <tr>\n",
       "      <th>8</th>\n",
       "      <td>2019-07-01</td>\n",
       "      <td>203</td>\n",
       "    </tr>\n",
       "    <tr>\n",
       "      <th>9</th>\n",
       "      <td>2019-08-01</td>\n",
       "      <td>164</td>\n",
       "    </tr>\n",
       "    <tr>\n",
       "      <th>10</th>\n",
       "      <td>2019-09-01</td>\n",
       "      <td>289</td>\n",
       "    </tr>\n",
       "    <tr>\n",
       "      <th>11</th>\n",
       "      <td>2019-10-01</td>\n",
       "      <td>381</td>\n",
       "    </tr>\n",
       "    <tr>\n",
       "      <th>12</th>\n",
       "      <td>2019-11-01</td>\n",
       "      <td>305</td>\n",
       "    </tr>\n",
       "    <tr>\n",
       "      <th>13</th>\n",
       "      <td>2019-12-01</td>\n",
       "      <td>31</td>\n",
       "    </tr>\n",
       "  </tbody>\n",
       "</table>\n",
       "</div>"
      ],
      "text/plain": [
       "   first_order_month  n_buyers\n",
       "0         2018-11-01       189\n",
       "1         2018-12-01       697\n",
       "2         2019-01-01       471\n",
       "3         2019-02-01       368\n",
       "4         2019-03-01       425\n",
       "5         2019-04-01       288\n",
       "6         2019-05-01       297\n",
       "7         2019-06-01       230\n",
       "8         2019-07-01       203\n",
       "9         2019-08-01       164\n",
       "10        2019-09-01       289\n",
       "11        2019-10-01       381\n",
       "12        2019-11-01       305\n",
       "13        2019-12-01        31"
      ]
     },
     "execution_count": 86,
     "metadata": {},
     "output_type": "execute_result"
    }
   ],
   "source": [
    "cohort_sizes = first_orders.groupby('first_order_month').agg({'user_id': 'nunique'}).reset_index()\n",
    "cohort_sizes.columns = ['first_order_month', 'n_buyers']\n",
    "cohort_sizes "
   ]
  },
  {
   "cell_type": "markdown",
   "metadata": {},
   "source": [
    "Let's build cohorts. We'll add customers' first-purchase months to the table of orders:"
   ]
  },
  {
   "cell_type": "code",
   "execution_count": 87,
   "metadata": {},
   "outputs": [
    {
     "data": {
      "text/html": [
       "<div>\n",
       "<style scoped>\n",
       "    .dataframe tbody tr th:only-of-type {\n",
       "        vertical-align: middle;\n",
       "    }\n",
       "\n",
       "    .dataframe tbody tr th {\n",
       "        vertical-align: top;\n",
       "    }\n",
       "\n",
       "    .dataframe thead th {\n",
       "        text-align: right;\n",
       "    }\n",
       "</style>\n",
       "<table border=\"1\" class=\"dataframe\">\n",
       "  <thead>\n",
       "    <tr style=\"text-align: right;\">\n",
       "      <th></th>\n",
       "      <th>order_id</th>\n",
       "      <th>unit_id</th>\n",
       "      <th>description</th>\n",
       "      <th>amount</th>\n",
       "      <th>order_dt</th>\n",
       "      <th>unit_price</th>\n",
       "      <th>user_id</th>\n",
       "      <th>lemmatized</th>\n",
       "      <th>clear_category</th>\n",
       "      <th>revenue</th>\n",
       "      <th>session_year</th>\n",
       "      <th>session_month</th>\n",
       "      <th>session_week</th>\n",
       "      <th>session_date</th>\n",
       "      <th>order_month</th>\n",
       "      <th>first_order_month</th>\n",
       "    </tr>\n",
       "  </thead>\n",
       "  <tbody>\n",
       "    <tr>\n",
       "      <th>0</th>\n",
       "      <td>536365</td>\n",
       "      <td>85123A</td>\n",
       "      <td>white hanging heart t-light holder</td>\n",
       "      <td>6</td>\n",
       "      <td>2018-11-29 08:26:00</td>\n",
       "      <td>2.55</td>\n",
       "      <td>17850</td>\n",
       "      <td>[white, hanging, heart, t-light, holder]</td>\n",
       "      <td>holders &amp; cases</td>\n",
       "      <td>15.30</td>\n",
       "      <td>2018</td>\n",
       "      <td>11</td>\n",
       "      <td>48</td>\n",
       "      <td>2018-11-29</td>\n",
       "      <td>2018-11-01</td>\n",
       "      <td>2018-11-01</td>\n",
       "    </tr>\n",
       "    <tr>\n",
       "      <th>1</th>\n",
       "      <td>536365</td>\n",
       "      <td>71053</td>\n",
       "      <td>white metal lantern</td>\n",
       "      <td>6</td>\n",
       "      <td>2018-11-29 08:26:00</td>\n",
       "      <td>3.39</td>\n",
       "      <td>17850</td>\n",
       "      <td>[white, metal, lantern]</td>\n",
       "      <td>home &amp; garden</td>\n",
       "      <td>20.34</td>\n",
       "      <td>2018</td>\n",
       "      <td>11</td>\n",
       "      <td>48</td>\n",
       "      <td>2018-11-29</td>\n",
       "      <td>2018-11-01</td>\n",
       "      <td>2018-11-01</td>\n",
       "    </tr>\n",
       "    <tr>\n",
       "      <th>2</th>\n",
       "      <td>536365</td>\n",
       "      <td>84406B</td>\n",
       "      <td>cream cupid hearts coat hanger</td>\n",
       "      <td>8</td>\n",
       "      <td>2018-11-29 08:26:00</td>\n",
       "      <td>2.75</td>\n",
       "      <td>17850</td>\n",
       "      <td>[cream, cupid, heart, coat, hanger]</td>\n",
       "      <td>kitchen &amp; dishes</td>\n",
       "      <td>22.00</td>\n",
       "      <td>2018</td>\n",
       "      <td>11</td>\n",
       "      <td>48</td>\n",
       "      <td>2018-11-29</td>\n",
       "      <td>2018-11-01</td>\n",
       "      <td>2018-11-01</td>\n",
       "    </tr>\n",
       "    <tr>\n",
       "      <th>3</th>\n",
       "      <td>536365</td>\n",
       "      <td>84029G</td>\n",
       "      <td>knitted union flag hot water bottle</td>\n",
       "      <td>6</td>\n",
       "      <td>2018-11-29 08:26:00</td>\n",
       "      <td>3.39</td>\n",
       "      <td>17850</td>\n",
       "      <td>[knitted, union, flag, hot, water, bottle]</td>\n",
       "      <td>kitchen &amp; dishes</td>\n",
       "      <td>20.34</td>\n",
       "      <td>2018</td>\n",
       "      <td>11</td>\n",
       "      <td>48</td>\n",
       "      <td>2018-11-29</td>\n",
       "      <td>2018-11-01</td>\n",
       "      <td>2018-11-01</td>\n",
       "    </tr>\n",
       "    <tr>\n",
       "      <th>4</th>\n",
       "      <td>536365</td>\n",
       "      <td>84029E</td>\n",
       "      <td>red woolly hottie white heart.</td>\n",
       "      <td>6</td>\n",
       "      <td>2018-11-29 08:26:00</td>\n",
       "      <td>3.39</td>\n",
       "      <td>17850</td>\n",
       "      <td>[red, woolly, hottie, white, heart.]</td>\n",
       "      <td>colored goods</td>\n",
       "      <td>20.34</td>\n",
       "      <td>2018</td>\n",
       "      <td>11</td>\n",
       "      <td>48</td>\n",
       "      <td>2018-11-29</td>\n",
       "      <td>2018-11-01</td>\n",
       "      <td>2018-11-01</td>\n",
       "    </tr>\n",
       "  </tbody>\n",
       "</table>\n",
       "</div>"
      ],
      "text/plain": [
       "  order_id unit_id                          description  amount  \\\n",
       "0   536365  85123A   white hanging heart t-light holder       6   \n",
       "1   536365   71053                  white metal lantern       6   \n",
       "2   536365  84406B       cream cupid hearts coat hanger       8   \n",
       "3   536365  84029G  knitted union flag hot water bottle       6   \n",
       "4   536365  84029E       red woolly hottie white heart.       6   \n",
       "\n",
       "             order_dt  unit_price user_id  \\\n",
       "0 2018-11-29 08:26:00        2.55   17850   \n",
       "1 2018-11-29 08:26:00        3.39   17850   \n",
       "2 2018-11-29 08:26:00        2.75   17850   \n",
       "3 2018-11-29 08:26:00        3.39   17850   \n",
       "4 2018-11-29 08:26:00        3.39   17850   \n",
       "\n",
       "                                   lemmatized    clear_category  revenue  \\\n",
       "0    [white, hanging, heart, t-light, holder]   holders & cases    15.30   \n",
       "1                     [white, metal, lantern]     home & garden    20.34   \n",
       "2         [cream, cupid, heart, coat, hanger]  kitchen & dishes    22.00   \n",
       "3  [knitted, union, flag, hot, water, bottle]  kitchen & dishes    20.34   \n",
       "4        [red, woolly, hottie, white, heart.]     colored goods    20.34   \n",
       "\n",
       "   session_year  session_month  session_week session_date order_month  \\\n",
       "0          2018             11            48   2018-11-29  2018-11-01   \n",
       "1          2018             11            48   2018-11-29  2018-11-01   \n",
       "2          2018             11            48   2018-11-29  2018-11-01   \n",
       "3          2018             11            48   2018-11-29  2018-11-01   \n",
       "4          2018             11            48   2018-11-29  2018-11-01   \n",
       "\n",
       "  first_order_month  \n",
       "0        2018-11-01  \n",
       "1        2018-11-01  \n",
       "2        2018-11-01  \n",
       "3        2018-11-01  \n",
       "4        2018-11-01  "
      ]
     },
     "execution_count": 87,
     "metadata": {},
     "output_type": "execute_result"
    }
   ],
   "source": [
    "data_ = pd.merge(data,first_orders, on='user_id')\n",
    "data_.head()"
   ]
  },
  {
   "cell_type": "markdown",
   "metadata": {},
   "source": [
    "Now we'll group the table of orders by month of first purchase and month of purchase and sum up the revenue"
   ]
  },
  {
   "cell_type": "code",
   "execution_count": 88,
   "metadata": {},
   "outputs": [
    {
     "data": {
      "text/html": [
       "<div>\n",
       "<style scoped>\n",
       "    .dataframe tbody tr th:only-of-type {\n",
       "        vertical-align: middle;\n",
       "    }\n",
       "\n",
       "    .dataframe tbody tr th {\n",
       "        vertical-align: top;\n",
       "    }\n",
       "\n",
       "    .dataframe thead th {\n",
       "        text-align: right;\n",
       "    }\n",
       "</style>\n",
       "<table border=\"1\" class=\"dataframe\">\n",
       "  <thead>\n",
       "    <tr style=\"text-align: right;\">\n",
       "      <th></th>\n",
       "      <th>first_order_month</th>\n",
       "      <th>order_month</th>\n",
       "      <th>revenue</th>\n",
       "    </tr>\n",
       "  </thead>\n",
       "  <tbody>\n",
       "    <tr>\n",
       "      <th>0</th>\n",
       "      <td>2018-11-01</td>\n",
       "      <td>2018-11-01</td>\n",
       "      <td>106406.21</td>\n",
       "    </tr>\n",
       "    <tr>\n",
       "      <th>1</th>\n",
       "      <td>2018-11-01</td>\n",
       "      <td>2018-12-01</td>\n",
       "      <td>309847.36</td>\n",
       "    </tr>\n",
       "    <tr>\n",
       "      <th>2</th>\n",
       "      <td>2018-11-01</td>\n",
       "      <td>2019-01-01</td>\n",
       "      <td>199221.20</td>\n",
       "    </tr>\n",
       "    <tr>\n",
       "      <th>3</th>\n",
       "      <td>2018-11-01</td>\n",
       "      <td>2019-02-01</td>\n",
       "      <td>123955.61</td>\n",
       "    </tr>\n",
       "    <tr>\n",
       "      <th>4</th>\n",
       "      <td>2018-11-01</td>\n",
       "      <td>2019-03-01</td>\n",
       "      <td>197660.44</td>\n",
       "    </tr>\n",
       "    <tr>\n",
       "      <th>5</th>\n",
       "      <td>2018-11-01</td>\n",
       "      <td>2019-04-01</td>\n",
       "      <td>114333.83</td>\n",
       "    </tr>\n",
       "    <tr>\n",
       "      <th>6</th>\n",
       "      <td>2018-11-01</td>\n",
       "      <td>2019-05-01</td>\n",
       "      <td>194967.25</td>\n",
       "    </tr>\n",
       "    <tr>\n",
       "      <th>7</th>\n",
       "      <td>2018-11-01</td>\n",
       "      <td>2019-06-01</td>\n",
       "      <td>162336.81</td>\n",
       "    </tr>\n",
       "    <tr>\n",
       "      <th>8</th>\n",
       "      <td>2018-11-01</td>\n",
       "      <td>2019-07-01</td>\n",
       "      <td>193939.80</td>\n",
       "    </tr>\n",
       "    <tr>\n",
       "      <th>9</th>\n",
       "      <td>2018-11-01</td>\n",
       "      <td>2019-08-01</td>\n",
       "      <td>194025.82</td>\n",
       "    </tr>\n",
       "  </tbody>\n",
       "</table>\n",
       "</div>"
      ],
      "text/plain": [
       "  first_order_month order_month    revenue\n",
       "0        2018-11-01  2018-11-01  106406.21\n",
       "1        2018-11-01  2018-12-01  309847.36\n",
       "2        2018-11-01  2019-01-01  199221.20\n",
       "3        2018-11-01  2019-02-01  123955.61\n",
       "4        2018-11-01  2019-03-01  197660.44\n",
       "5        2018-11-01  2019-04-01  114333.83\n",
       "6        2018-11-01  2019-05-01  194967.25\n",
       "7        2018-11-01  2019-06-01  162336.81\n",
       "8        2018-11-01  2019-07-01  193939.80\n",
       "9        2018-11-01  2019-08-01  194025.82"
      ]
     },
     "execution_count": 88,
     "metadata": {},
     "output_type": "execute_result"
    }
   ],
   "source": [
    "cohorts = data_.groupby(['first_order_month','order_month']).agg({'revenue': 'sum'}).reset_index()\n",
    "cohorts.head(10)"
   ]
  },
  {
   "cell_type": "markdown",
   "metadata": {},
   "source": [
    "For purposes of cohort analysis, LTV is a cohort's cumulative revenue, accounting for the number of people in the cohort. Let's add data on how many users made their first purchases in each month to the cohorts table:"
   ]
  },
  {
   "cell_type": "code",
   "execution_count": 89,
   "metadata": {},
   "outputs": [
    {
     "data": {
      "text/html": [
       "<div>\n",
       "<style scoped>\n",
       "    .dataframe tbody tr th:only-of-type {\n",
       "        vertical-align: middle;\n",
       "    }\n",
       "\n",
       "    .dataframe tbody tr th {\n",
       "        vertical-align: top;\n",
       "    }\n",
       "\n",
       "    .dataframe thead th {\n",
       "        text-align: right;\n",
       "    }\n",
       "</style>\n",
       "<table border=\"1\" class=\"dataframe\">\n",
       "  <thead>\n",
       "    <tr style=\"text-align: right;\">\n",
       "      <th></th>\n",
       "      <th>first_order_month</th>\n",
       "      <th>n_buyers</th>\n",
       "      <th>order_month</th>\n",
       "      <th>revenue</th>\n",
       "    </tr>\n",
       "  </thead>\n",
       "  <tbody>\n",
       "    <tr>\n",
       "      <th>0</th>\n",
       "      <td>2018-11-01</td>\n",
       "      <td>189</td>\n",
       "      <td>2018-11-01</td>\n",
       "      <td>106406.21</td>\n",
       "    </tr>\n",
       "    <tr>\n",
       "      <th>1</th>\n",
       "      <td>2018-11-01</td>\n",
       "      <td>189</td>\n",
       "      <td>2018-12-01</td>\n",
       "      <td>309847.36</td>\n",
       "    </tr>\n",
       "    <tr>\n",
       "      <th>2</th>\n",
       "      <td>2018-11-01</td>\n",
       "      <td>189</td>\n",
       "      <td>2019-01-01</td>\n",
       "      <td>199221.20</td>\n",
       "    </tr>\n",
       "    <tr>\n",
       "      <th>3</th>\n",
       "      <td>2018-11-01</td>\n",
       "      <td>189</td>\n",
       "      <td>2019-02-01</td>\n",
       "      <td>123955.61</td>\n",
       "    </tr>\n",
       "    <tr>\n",
       "      <th>4</th>\n",
       "      <td>2018-11-01</td>\n",
       "      <td>189</td>\n",
       "      <td>2019-03-01</td>\n",
       "      <td>197660.44</td>\n",
       "    </tr>\n",
       "  </tbody>\n",
       "</table>\n",
       "</div>"
      ],
      "text/plain": [
       "  first_order_month  n_buyers order_month    revenue\n",
       "0        2018-11-01       189  2018-11-01  106406.21\n",
       "1        2018-11-01       189  2018-12-01  309847.36\n",
       "2        2018-11-01       189  2019-01-01  199221.20\n",
       "3        2018-11-01       189  2019-02-01  123955.61\n",
       "4        2018-11-01       189  2019-03-01  197660.44"
      ]
     },
     "execution_count": 89,
     "metadata": {},
     "output_type": "execute_result"
    }
   ],
   "source": [
    "report = pd.merge(cohort_sizes, cohorts, on='first_order_month')\n",
    "report.head() "
   ]
  },
  {
   "cell_type": "markdown",
   "metadata": {},
   "source": [
    "Earlier a column with new customers appeared in the table: n_buyers. The first five values in this column are the same, since they all concern the same cohort. Just two more steps and we'll have LTV. First, since LTV is calculated on the basis of gross profit rather than revenue, we need to find the gross profit by multiplying revenue by profitability. Second, LTV is a relative parameter, and it's easier to study for \"mature\" cohorts, so let's make the columns show the cohort's age instead of the month of the order."
   ]
  },
  {
   "cell_type": "code",
   "execution_count": 90,
   "metadata": {},
   "outputs": [
    {
     "data": {
      "text/html": [
       "<div>\n",
       "<style scoped>\n",
       "    .dataframe tbody tr th:only-of-type {\n",
       "        vertical-align: middle;\n",
       "    }\n",
       "\n",
       "    .dataframe tbody tr th {\n",
       "        vertical-align: top;\n",
       "    }\n",
       "\n",
       "    .dataframe thead th {\n",
       "        text-align: right;\n",
       "    }\n",
       "</style>\n",
       "<table border=\"1\" class=\"dataframe\">\n",
       "  <thead>\n",
       "    <tr style=\"text-align: right;\">\n",
       "      <th></th>\n",
       "      <th>first_order_month</th>\n",
       "      <th>n_buyers</th>\n",
       "      <th>order_month</th>\n",
       "      <th>revenue</th>\n",
       "      <th>age</th>\n",
       "    </tr>\n",
       "  </thead>\n",
       "  <tbody>\n",
       "    <tr>\n",
       "      <th>0</th>\n",
       "      <td>2018-11-01</td>\n",
       "      <td>189</td>\n",
       "      <td>2018-11-01</td>\n",
       "      <td>106406.21</td>\n",
       "      <td>0</td>\n",
       "    </tr>\n",
       "    <tr>\n",
       "      <th>1</th>\n",
       "      <td>2018-11-01</td>\n",
       "      <td>189</td>\n",
       "      <td>2018-12-01</td>\n",
       "      <td>309847.36</td>\n",
       "      <td>1</td>\n",
       "    </tr>\n",
       "    <tr>\n",
       "      <th>2</th>\n",
       "      <td>2018-11-01</td>\n",
       "      <td>189</td>\n",
       "      <td>2019-01-01</td>\n",
       "      <td>199221.20</td>\n",
       "      <td>2</td>\n",
       "    </tr>\n",
       "    <tr>\n",
       "      <th>3</th>\n",
       "      <td>2018-11-01</td>\n",
       "      <td>189</td>\n",
       "      <td>2019-02-01</td>\n",
       "      <td>123955.61</td>\n",
       "      <td>3</td>\n",
       "    </tr>\n",
       "    <tr>\n",
       "      <th>4</th>\n",
       "      <td>2018-11-01</td>\n",
       "      <td>189</td>\n",
       "      <td>2019-03-01</td>\n",
       "      <td>197660.44</td>\n",
       "      <td>4</td>\n",
       "    </tr>\n",
       "  </tbody>\n",
       "</table>\n",
       "</div>"
      ],
      "text/plain": [
       "  first_order_month  n_buyers order_month    revenue  age\n",
       "0        2018-11-01       189  2018-11-01  106406.21    0\n",
       "1        2018-11-01       189  2018-12-01  309847.36    1\n",
       "2        2018-11-01       189  2019-01-01  199221.20    2\n",
       "3        2018-11-01       189  2019-02-01  123955.61    3\n",
       "4        2018-11-01       189  2019-03-01  197660.44    4"
      ]
     },
     "execution_count": 90,
     "metadata": {},
     "output_type": "execute_result"
    }
   ],
   "source": [
    "report['age'] = (report['order_month'] - report['first_order_month']) / np.timedelta64(1, 'M')\n",
    "report['age'] = report['age'].round().astype('int')\n",
    "\n",
    "report.head() "
   ]
  },
  {
   "cell_type": "markdown",
   "metadata": {},
   "source": [
    "To calculate LTV we'll divide the cohort's revenue for each month by the total number of users in each cohort:"
   ]
  },
  {
   "cell_type": "code",
   "execution_count": 91,
   "metadata": {},
   "outputs": [
    {
     "data": {
      "text/html": [
       "<div>\n",
       "<style scoped>\n",
       "    .dataframe tbody tr th:only-of-type {\n",
       "        vertical-align: middle;\n",
       "    }\n",
       "\n",
       "    .dataframe tbody tr th {\n",
       "        vertical-align: top;\n",
       "    }\n",
       "\n",
       "    .dataframe thead th {\n",
       "        text-align: right;\n",
       "    }\n",
       "</style>\n",
       "<table border=\"1\" class=\"dataframe\">\n",
       "  <thead>\n",
       "    <tr style=\"text-align: right;\">\n",
       "      <th>age</th>\n",
       "      <th>0</th>\n",
       "      <th>1</th>\n",
       "      <th>2</th>\n",
       "      <th>3</th>\n",
       "      <th>4</th>\n",
       "      <th>5</th>\n",
       "      <th>6</th>\n",
       "      <th>7</th>\n",
       "      <th>8</th>\n",
       "      <th>9</th>\n",
       "      <th>10</th>\n",
       "      <th>11</th>\n",
       "      <th>12</th>\n",
       "      <th>13</th>\n",
       "    </tr>\n",
       "    <tr>\n",
       "      <th>first_order_month</th>\n",
       "      <th></th>\n",
       "      <th></th>\n",
       "      <th></th>\n",
       "      <th></th>\n",
       "      <th></th>\n",
       "      <th></th>\n",
       "      <th></th>\n",
       "      <th></th>\n",
       "      <th></th>\n",
       "      <th></th>\n",
       "      <th></th>\n",
       "      <th></th>\n",
       "      <th></th>\n",
       "      <th></th>\n",
       "    </tr>\n",
       "  </thead>\n",
       "  <tbody>\n",
       "    <tr>\n",
       "      <th>2018-11-01</th>\n",
       "      <td>563.00</td>\n",
       "      <td>2202.4</td>\n",
       "      <td>3256.48</td>\n",
       "      <td>3912.33</td>\n",
       "      <td>4958.15</td>\n",
       "      <td>5563.09</td>\n",
       "      <td>6594.67</td>\n",
       "      <td>7453.59</td>\n",
       "      <td>8479.73</td>\n",
       "      <td>9506.32</td>\n",
       "      <td>10509.4</td>\n",
       "      <td>11814.8</td>\n",
       "      <td>14534.4</td>\n",
       "      <td>15283.3</td>\n",
       "    </tr>\n",
       "    <tr>\n",
       "      <th>2018-12-01</th>\n",
       "      <td>561.92</td>\n",
       "      <td>885.33</td>\n",
       "      <td>1139.99</td>\n",
       "      <td>1453.62</td>\n",
       "      <td>1669.09</td>\n",
       "      <td>2041.66</td>\n",
       "      <td>2372.98</td>\n",
       "      <td>2721.2</td>\n",
       "      <td>3120.1</td>\n",
       "      <td>3605.2</td>\n",
       "      <td>4119.11</td>\n",
       "      <td>4652.28</td>\n",
       "      <td>4796.59</td>\n",
       "      <td></td>\n",
       "    </tr>\n",
       "    <tr>\n",
       "      <th>2019-01-01</th>\n",
       "      <td>505.66</td>\n",
       "      <td>621.88</td>\n",
       "      <td>771.38</td>\n",
       "      <td>932.22</td>\n",
       "      <td>1138.45</td>\n",
       "      <td>1310.41</td>\n",
       "      <td>1477.26</td>\n",
       "      <td>1654.46</td>\n",
       "      <td>1810.45</td>\n",
       "      <td>2078.19</td>\n",
       "      <td>2356.92</td>\n",
       "      <td>2401.29</td>\n",
       "      <td></td>\n",
       "      <td></td>\n",
       "    </tr>\n",
       "    <tr>\n",
       "      <th>2019-02-01</th>\n",
       "      <td>438.03</td>\n",
       "      <td>513.14</td>\n",
       "      <td>608.83</td>\n",
       "      <td>738.2</td>\n",
       "      <td>835.23</td>\n",
       "      <td>934.01</td>\n",
       "      <td>1058.59</td>\n",
       "      <td>1214.87</td>\n",
       "      <td>1357.35</td>\n",
       "      <td>1531.46</td>\n",
       "      <td>1546.16</td>\n",
       "      <td></td>\n",
       "      <td></td>\n",
       "      <td></td>\n",
       "    </tr>\n",
       "    <tr>\n",
       "      <th>2019-03-01</th>\n",
       "      <td>429.28</td>\n",
       "      <td>492.65</td>\n",
       "      <td>637.93</td>\n",
       "      <td>728.92</td>\n",
       "      <td>850.91</td>\n",
       "      <td>954.73</td>\n",
       "      <td>1091.86</td>\n",
       "      <td>1266.33</td>\n",
       "      <td>1419.49</td>\n",
       "      <td>1439.3</td>\n",
       "      <td></td>\n",
       "      <td></td>\n",
       "      <td></td>\n",
       "      <td></td>\n",
       "    </tr>\n",
       "    <tr>\n",
       "      <th>2019-04-01</th>\n",
       "      <td>402.59</td>\n",
       "      <td>491.75</td>\n",
       "      <td>569.96</td>\n",
       "      <td>643.22</td>\n",
       "      <td>718.58</td>\n",
       "      <td>812.35</td>\n",
       "      <td>909.94</td>\n",
       "      <td>1020.14</td>\n",
       "      <td>1034.09</td>\n",
       "      <td></td>\n",
       "      <td></td>\n",
       "      <td></td>\n",
       "      <td></td>\n",
       "      <td></td>\n",
       "    </tr>\n",
       "    <tr>\n",
       "      <th>2019-05-01</th>\n",
       "      <td>433.99</td>\n",
       "      <td>498.75</td>\n",
       "      <td>569.93</td>\n",
       "      <td>632.46</td>\n",
       "      <td>729.9</td>\n",
       "      <td>849.45</td>\n",
       "      <td>986.84</td>\n",
       "      <td>1003.8</td>\n",
       "      <td></td>\n",
       "      <td></td>\n",
       "      <td></td>\n",
       "      <td></td>\n",
       "      <td></td>\n",
       "      <td></td>\n",
       "    </tr>\n",
       "    <tr>\n",
       "      <th>2019-06-01</th>\n",
       "      <td>566.92</td>\n",
       "      <td>636.35</td>\n",
       "      <td>692.86</td>\n",
       "      <td>819.95</td>\n",
       "      <td>933.65</td>\n",
       "      <td>1106.11</td>\n",
       "      <td>1125.58</td>\n",
       "      <td></td>\n",
       "      <td></td>\n",
       "      <td></td>\n",
       "      <td></td>\n",
       "      <td></td>\n",
       "      <td></td>\n",
       "      <td></td>\n",
       "    </tr>\n",
       "    <tr>\n",
       "      <th>2019-07-01</th>\n",
       "      <td>446.99</td>\n",
       "      <td>505.27</td>\n",
       "      <td>588.51</td>\n",
       "      <td>683.98</td>\n",
       "      <td>785.87</td>\n",
       "      <td>810.61</td>\n",
       "      <td></td>\n",
       "      <td></td>\n",
       "      <td></td>\n",
       "      <td></td>\n",
       "      <td></td>\n",
       "      <td></td>\n",
       "      <td></td>\n",
       "      <td></td>\n",
       "    </tr>\n",
       "    <tr>\n",
       "      <th>2019-08-01</th>\n",
       "      <td>413.66</td>\n",
       "      <td>523.34</td>\n",
       "      <td>741.36</td>\n",
       "      <td>1023.58</td>\n",
       "      <td>1100.52</td>\n",
       "      <td></td>\n",
       "      <td></td>\n",
       "      <td></td>\n",
       "      <td></td>\n",
       "      <td></td>\n",
       "      <td></td>\n",
       "      <td></td>\n",
       "      <td></td>\n",
       "      <td></td>\n",
       "    </tr>\n",
       "    <tr>\n",
       "      <th>2019-09-01</th>\n",
       "      <td>523.76</td>\n",
       "      <td>627.82</td>\n",
       "      <td>749.43</td>\n",
       "      <td>787.05</td>\n",
       "      <td></td>\n",
       "      <td></td>\n",
       "      <td></td>\n",
       "      <td></td>\n",
       "      <td></td>\n",
       "      <td></td>\n",
       "      <td></td>\n",
       "      <td></td>\n",
       "      <td></td>\n",
       "      <td></td>\n",
       "    </tr>\n",
       "    <tr>\n",
       "      <th>2019-10-01</th>\n",
       "      <td>477.54</td>\n",
       "      <td>601.51</td>\n",
       "      <td>628.02</td>\n",
       "      <td></td>\n",
       "      <td></td>\n",
       "      <td></td>\n",
       "      <td></td>\n",
       "      <td></td>\n",
       "      <td></td>\n",
       "      <td></td>\n",
       "      <td></td>\n",
       "      <td></td>\n",
       "      <td></td>\n",
       "      <td></td>\n",
       "    </tr>\n",
       "    <tr>\n",
       "      <th>2019-11-01</th>\n",
       "      <td>427.76</td>\n",
       "      <td>446.99</td>\n",
       "      <td></td>\n",
       "      <td></td>\n",
       "      <td></td>\n",
       "      <td></td>\n",
       "      <td></td>\n",
       "      <td></td>\n",
       "      <td></td>\n",
       "      <td></td>\n",
       "      <td></td>\n",
       "      <td></td>\n",
       "      <td></td>\n",
       "      <td></td>\n",
       "    </tr>\n",
       "    <tr>\n",
       "      <th>2019-12-01</th>\n",
       "      <td>803.14</td>\n",
       "      <td></td>\n",
       "      <td></td>\n",
       "      <td></td>\n",
       "      <td></td>\n",
       "      <td></td>\n",
       "      <td></td>\n",
       "      <td></td>\n",
       "      <td></td>\n",
       "      <td></td>\n",
       "      <td></td>\n",
       "      <td></td>\n",
       "      <td></td>\n",
       "      <td></td>\n",
       "    </tr>\n",
       "  </tbody>\n",
       "</table>\n",
       "</div>"
      ],
      "text/plain": [
       "age                    0       1        2        3        4        5   \\\n",
       "first_order_month                                                       \n",
       "2018-11-01         563.00  2202.4  3256.48  3912.33  4958.15  5563.09   \n",
       "2018-12-01         561.92  885.33  1139.99  1453.62  1669.09  2041.66   \n",
       "2019-01-01         505.66  621.88   771.38   932.22  1138.45  1310.41   \n",
       "2019-02-01         438.03  513.14   608.83    738.2   835.23   934.01   \n",
       "2019-03-01         429.28  492.65   637.93   728.92   850.91   954.73   \n",
       "2019-04-01         402.59  491.75   569.96   643.22   718.58   812.35   \n",
       "2019-05-01         433.99  498.75   569.93   632.46    729.9   849.45   \n",
       "2019-06-01         566.92  636.35   692.86   819.95   933.65  1106.11   \n",
       "2019-07-01         446.99  505.27   588.51   683.98   785.87   810.61   \n",
       "2019-08-01         413.66  523.34   741.36  1023.58  1100.52            \n",
       "2019-09-01         523.76  627.82   749.43   787.05                     \n",
       "2019-10-01         477.54  601.51   628.02                              \n",
       "2019-11-01         427.76  446.99                                       \n",
       "2019-12-01         803.14                                               \n",
       "\n",
       "age                     6        7        8        9        10       11  \\\n",
       "first_order_month                                                         \n",
       "2018-11-01         6594.67  7453.59  8479.73  9506.32  10509.4  11814.8   \n",
       "2018-12-01         2372.98   2721.2   3120.1   3605.2  4119.11  4652.28   \n",
       "2019-01-01         1477.26  1654.46  1810.45  2078.19  2356.92  2401.29   \n",
       "2019-02-01         1058.59  1214.87  1357.35  1531.46  1546.16            \n",
       "2019-03-01         1091.86  1266.33  1419.49   1439.3                     \n",
       "2019-04-01          909.94  1020.14  1034.09                              \n",
       "2019-05-01          986.84   1003.8                                       \n",
       "2019-06-01         1125.58                                                \n",
       "2019-07-01                                                                \n",
       "2019-08-01                                                                \n",
       "2019-09-01                                                                \n",
       "2019-10-01                                                                \n",
       "2019-11-01                                                                \n",
       "2019-12-01                                                                \n",
       "\n",
       "age                     12       13  \n",
       "first_order_month                    \n",
       "2018-11-01         14534.4  15283.3  \n",
       "2018-12-01         4796.59           \n",
       "2019-01-01                           \n",
       "2019-02-01                           \n",
       "2019-03-01                           \n",
       "2019-04-01                           \n",
       "2019-05-01                           \n",
       "2019-06-01                           \n",
       "2019-07-01                           \n",
       "2019-08-01                           \n",
       "2019-09-01                           \n",
       "2019-10-01                           \n",
       "2019-11-01                           \n",
       "2019-12-01                           "
      ]
     },
     "execution_count": 91,
     "metadata": {},
     "output_type": "execute_result"
    }
   ],
   "source": [
    "report['ltv'] = report['revenue'] / report['n_buyers']\n",
    "\n",
    "output = report.pivot_table(\n",
    "    index='first_order_month', \n",
    "    columns='age', \n",
    "    values='ltv', \n",
    "    aggfunc='mean')\n",
    "\n",
    "output = output.cumsum(axis=1).round(2)\n",
    "output.fillna('')"
   ]
  },
  {
   "cell_type": "code",
   "execution_count": 92,
   "metadata": {},
   "outputs": [
    {
     "name": "stdout",
     "output_type": "stream",
     "text": [
      "Average ltv by 3rd month: 912.8900000000002 \n",
      "\n",
      "Average ltv by 6th month: 1598.0466666666669 \n",
      "\n",
      "Average ltv by 9th month: 2870.2016666666664 \n",
      "\n",
      "Average ltv by the end of the 1st year: 6289.44\n"
     ]
    }
   ],
   "source": [
    "output = output.reset_index()\n",
    "\n",
    "ltv_3rd_month = output[2].head(12).mean()\n",
    "print('Average ltv by 3rd month:', ltv_3rd_month, '\\n')\n",
    "ltv_6th_month = output[5].head(9).mean()\n",
    "print('Average ltv by 6th month:', ltv_6th_month, '\\n')\n",
    "ltv_9th_month = output[8].head(6).mean()\n",
    "print('Average ltv by 9th month:',ltv_9th_month, '\\n')\n",
    "ltv_12th_month = output[11].head(3).mean()\n",
    "print('Average ltv by the end of the 1st year:',ltv_12th_month)"
   ]
  },
  {
   "cell_type": "markdown",
   "metadata": {},
   "source": [
    "We see that in each cohort LTV is increasing from month to month, so the average LTV by 3rd month is 912.9, by 6th month - 1598 by 9th month - 2870.2 and by the end of the 1st year - 6289.44."
   ]
  },
  {
   "cell_type": "markdown",
   "metadata": {},
   "source": [
    "**PART 4 Conclusion:**\n",
    "\n",
    "- Total revenue of the hole period of time: 9725455.104\n",
    "- Average Order Value: 51.372534\n",
    "- The numbers of daily, weekly and monthly unique buyers are 55, 301 and 932\n",
    "- Average ammount of sessions per day: 1720.8918032786885\n",
    "- General week sticky factor = 18.554545 and month sticky factor = 5.987354. These values mean that 18.5% of users come back during 1st week and almost 6% of users come back during 1st month.\n",
    "- \"vintage\", \"else\" and \"holders & cases\" are our sales leaders in absolute values\n",
    "- \"else\" and \"holders & cases\" are also in top-3 of the average category order but not \"vintage\". Now number 2 is \"assorted goods\"which brings one of the least amount of money.\n",
    "- The graph of changes of month revenue by categories shows that all the categories here had their better periods and worse periods but they all have the same tendensy:\n",
    "\t- in November 2018 all the revenues were extremelly low\n",
    "\t- in December 2018 the revenues rose and stayed aproximatelly on the same level till May 2019\n",
    "\t- in May 2019 we see another rise of the revenues that continued till the November 2019 where we have very significant rise\n",
    "\t- in December 2019 we see hard total decline of revenues in all the categories\n",
    "- The LTV is increasing from month to month, so the average LTV by 3rd month is 912.9, by 6th month - 1598 by 9th month - 2870.2 and by the end of the 1st year - 6289.44."
   ]
  },
  {
   "cell_type": "markdown",
   "metadata": {},
   "source": [
    "[Back to table of contents](#0-bullet)"
   ]
  },
  {
   "cell_type": "markdown",
   "metadata": {},
   "source": [
    "-----------------"
   ]
  },
  {
   "cell_type": "markdown",
   "metadata": {},
   "source": [
    "# Part 5: Creating Dashboard <a class=\"anchor\" id=\"6-bullet\"></a>\n",
    "\n",
    "1.\tPlot a diagram showing the number of purchases per day\n",
    "2.\tAdd an indicator for the number of customers\n",
    "3.\tAdd a purchase date filter"
   ]
  },
  {
   "cell_type": "markdown",
   "metadata": {},
   "source": [
    "To build the dashboard we need to get the aggregated data and save it to a .csv file:"
   ]
  },
  {
   "cell_type": "code",
   "execution_count": 93,
   "metadata": {},
   "outputs": [
    {
     "data": {
      "text/html": [
       "<div>\n",
       "<style scoped>\n",
       "    .dataframe tbody tr th:only-of-type {\n",
       "        vertical-align: middle;\n",
       "    }\n",
       "\n",
       "    .dataframe tbody tr th {\n",
       "        vertical-align: top;\n",
       "    }\n",
       "\n",
       "    .dataframe thead th {\n",
       "        text-align: right;\n",
       "    }\n",
       "</style>\n",
       "<table border=\"1\" class=\"dataframe\">\n",
       "  <thead>\n",
       "    <tr style=\"text-align: right;\">\n",
       "      <th></th>\n",
       "      <th>date</th>\n",
       "      <th>number of orders</th>\n",
       "      <th>number of users</th>\n",
       "    </tr>\n",
       "  </thead>\n",
       "  <tbody>\n",
       "    <tr>\n",
       "      <th>0</th>\n",
       "      <td>2018-11-29</td>\n",
       "      <td>127</td>\n",
       "      <td>96</td>\n",
       "    </tr>\n",
       "    <tr>\n",
       "      <th>1</th>\n",
       "      <td>2018-11-30</td>\n",
       "      <td>142</td>\n",
       "      <td>100</td>\n",
       "    </tr>\n",
       "    <tr>\n",
       "      <th>2</th>\n",
       "      <td>2018-12-01</td>\n",
       "      <td>68</td>\n",
       "      <td>51</td>\n",
       "    </tr>\n",
       "    <tr>\n",
       "      <th>3</th>\n",
       "      <td>2018-12-03</td>\n",
       "      <td>88</td>\n",
       "      <td>76</td>\n",
       "    </tr>\n",
       "    <tr>\n",
       "      <th>4</th>\n",
       "      <td>2018-12-04</td>\n",
       "      <td>102</td>\n",
       "      <td>83</td>\n",
       "    </tr>\n",
       "  </tbody>\n",
       "</table>\n",
       "</div>"
      ],
      "text/plain": [
       "         date  number of orders  number of users\n",
       "0  2018-11-29               127               96\n",
       "1  2018-11-30               142              100\n",
       "2  2018-12-01                68               51\n",
       "3  2018-12-03                88               76\n",
       "4  2018-12-04               102               83"
      ]
     },
     "execution_count": 93,
     "metadata": {},
     "output_type": "execute_result"
    }
   ],
   "source": [
    "dashboard_data = data.groupby(['session_date']).agg({'order_id': ['nunique'], 'user_id': ['nunique']}).reset_index()\n",
    "dashboard_data.columns = ['date','number of orders','number of users']\n",
    "dashboard_data.head()"
   ]
  },
  {
   "cell_type": "code",
   "execution_count": 94,
   "metadata": {},
   "outputs": [],
   "source": [
    "dashboard_data.to_csv('dashboard_data.csv', index = False)"
   ]
  },
  {
   "cell_type": "markdown",
   "metadata": {},
   "source": [
    "The dashboard can be found by the following link: https://public.tableau.com/profile/oren7426#!/vizhome/FinalProject-Numberofordersandusersperday/Numberofordersandusersperday?publish=yes"
   ]
  },
  {
   "cell_type": "markdown",
   "metadata": {},
   "source": [
    "[Back to table of contents](#0-bullet)"
   ]
  },
  {
   "cell_type": "markdown",
   "metadata": {},
   "source": [
    "------------"
   ]
  },
  {
   "cell_type": "markdown",
   "metadata": {},
   "source": [
    "# Part 6: Preparing Presentation <a class=\"anchor\" id=\"7-bullet\"></a>"
   ]
  },
  {
   "cell_type": "markdown",
   "metadata": {},
   "source": [
    "The dashboard can be found by the following link: https://drive.google.com/file/d/1G4lNatF79nh1QLjoKM_zWUz4Ce7n6OQb/view?usp=sharing"
   ]
  },
  {
   "cell_type": "markdown",
   "metadata": {},
   "source": [
    "[Back to table of contents](#0-bullet)"
   ]
  },
  {
   "cell_type": "markdown",
   "metadata": {},
   "source": [
    "----------"
   ]
  },
  {
   "cell_type": "markdown",
   "metadata": {},
   "source": [
    "# Requirements <a class=\"anchor\" id=\"8-bullet\"></a>"
   ]
  },
  {
   "cell_type": "code",
   "execution_count": 95,
   "metadata": {},
   "outputs": [
    {
     "name": "stdout",
     "output_type": "stream",
     "text": [
      "Note: you may need to restart the kernel to use updated packages.\n"
     ]
    }
   ],
   "source": [
    "pip freeze > requirements.txt"
   ]
  }
 ],
 "metadata": {
  "kernelspec": {
   "display_name": "Python 3",
   "language": "python",
   "name": "python3"
  },
  "language_info": {
   "codemirror_mode": {
    "name": "ipython",
    "version": 3
   },
   "file_extension": ".py",
   "mimetype": "text/x-python",
   "name": "python",
   "nbconvert_exporter": "python",
   "pygments_lexer": "ipython3",
   "version": "3.8.5"
  },
  "toc": {
   "base_numbering": 1,
   "nav_menu": {},
   "number_sections": false,
   "sideBar": true,
   "skip_h1_title": false,
   "title_cell": "Table of Contents",
   "title_sidebar": "Contents",
   "toc_cell": false,
   "toc_position": {},
   "toc_section_display": true,
   "toc_window_display": false
  }
 },
 "nbformat": 4,
 "nbformat_minor": 4
}
